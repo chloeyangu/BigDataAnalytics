{
 "cells": [
  {
   "cell_type": "markdown",
   "metadata": {},
   "source": [
    "### From Command Line - Import CSV file into MongoDB\n",
    "\n",
    "#### mongoimport --db airbnb --type csv --file listings_31Mar.csv --headerline -c Rawdata (From Data Preparation Part 1)\n",
    "#### mongoimport --db airbnb --type csv --file reviews_27Mar.csv -c reviews (From Data Preparation Part 3)"
   ]
  },
  {
   "cell_type": "code",
   "execution_count": 1,
   "metadata": {
    "collapsed": false
   },
   "outputs": [],
   "source": [
    "import pymongo\n",
    "from pymongo import MongoClient"
   ]
  },
  {
   "cell_type": "markdown",
   "metadata": {},
   "source": [
    "### Connect Python to MongoDB"
   ]
  },
  {
   "cell_type": "code",
   "execution_count": 2,
   "metadata": {
    "collapsed": false
   },
   "outputs": [],
   "source": [
    "client = MongoClient('mongodb://localhost:27017/')"
   ]
  },
  {
   "cell_type": "markdown",
   "metadata": {},
   "source": [
    "### Retrieve from Database\n",
    "#### Database named as \"airbnb\""
   ]
  },
  {
   "cell_type": "code",
   "execution_count": 3,
   "metadata": {
    "collapsed": true
   },
   "outputs": [],
   "source": [
    "db = client.airbnb"
   ]
  },
  {
   "cell_type": "markdown",
   "metadata": {},
   "source": [
    "### Retrieve Tables from Database"
   ]
  },
  {
   "cell_type": "code",
   "execution_count": 4,
   "metadata": {
    "collapsed": false
   },
   "outputs": [],
   "source": [
    "listings = db.Rawdata\n",
    "reviews = db.reviews"
   ]
  },
  {
   "cell_type": "markdown",
   "metadata": {},
   "source": [
    "### Store data in a pandas dataframe for further analysis"
   ]
  },
  {
   "cell_type": "code",
   "execution_count": 5,
   "metadata": {
    "collapsed": true
   },
   "outputs": [],
   "source": [
    "import pandas as pd"
   ]
  },
  {
   "cell_type": "code",
   "execution_count": 6,
   "metadata": {
    "collapsed": false
   },
   "outputs": [],
   "source": [
    "listings_df = pd.DataFrame(list(listings.find()))\n",
    "reviews_df = pd.DataFrame(list(reviews.find()))"
   ]
  },
  {
   "cell_type": "code",
   "execution_count": 7,
   "metadata": {
    "collapsed": false
   },
   "outputs": [
    {
     "data": {
      "text/html": [
       "<div>\n",
       "<table border=\"1\" class=\"dataframe\">\n",
       "  <thead>\n",
       "    <tr style=\"text-align: right;\">\n",
       "      <th></th>\n",
       "      <th>24-hour check-in</th>\n",
       "      <th>Air conditioning</th>\n",
       "      <th>Breakfast</th>\n",
       "      <th>Buzzer/wireless intercom</th>\n",
       "      <th>Cable TV</th>\n",
       "      <th>Carbon monoxide detector</th>\n",
       "      <th>Cat(s)</th>\n",
       "      <th>Dog(s)</th>\n",
       "      <th>Doorman</th>\n",
       "      <th>Dryer</th>\n",
       "      <th>...</th>\n",
       "      <th>square_feet</th>\n",
       "      <th>state</th>\n",
       "      <th>street</th>\n",
       "      <th>summary</th>\n",
       "      <th>thumbnail_url</th>\n",
       "      <th>transit</th>\n",
       "      <th>translation missing: en</th>\n",
       "      <th>weekly_price</th>\n",
       "      <th>xl_picture_url</th>\n",
       "      <th>zipcode</th>\n",
       "    </tr>\n",
       "  </thead>\n",
       "  <tbody>\n",
       "    <tr>\n",
       "      <th>0</th>\n",
       "      <td>1</td>\n",
       "      <td>0</td>\n",
       "      <td>1</td>\n",
       "      <td>1</td>\n",
       "      <td>0</td>\n",
       "      <td>0</td>\n",
       "      <td>0</td>\n",
       "      <td>0</td>\n",
       "      <td>0</td>\n",
       "      <td>0</td>\n",
       "      <td>...</td>\n",
       "      <td></td>\n",
       "      <td></td>\n",
       "      <td>Carrer de Sant Josep Oriol, Barcelona, Catalun...</td>\n",
       "      <td>Mi casa esta ubicada en el coraz�n de Barcelon...</td>\n",
       "      <td>https://a2.muscache.com/im/pictures/34156f3a-4...</td>\n",
       "      <td>Todo tipo de transporte: metro, bus, tren, bic...</td>\n",
       "      <td>{'hosting_amenity_50': 1, 'hosting_amenity_49'...</td>\n",
       "      <td>0</td>\n",
       "      <td>https://a2.muscache.com/im/pictures/34156f3a-4...</td>\n",
       "      <td>8001</td>\n",
       "    </tr>\n",
       "    <tr>\n",
       "      <th>1</th>\n",
       "      <td>0</td>\n",
       "      <td>1</td>\n",
       "      <td>1</td>\n",
       "      <td>1</td>\n",
       "      <td>1</td>\n",
       "      <td>0</td>\n",
       "      <td>0</td>\n",
       "      <td>0</td>\n",
       "      <td>0</td>\n",
       "      <td>0</td>\n",
       "      <td>...</td>\n",
       "      <td></td>\n",
       "      <td></td>\n",
       "      <td>Carrer del Peu de la Creu, Barcelona, Cataloni...</td>\n",
       "      <td>The flat is located in Sant Antoni (between Ra...</td>\n",
       "      <td>https://a2.muscache.com/im/pictures/826cf18f-6...</td>\n",
       "      <td>There is a bike-rental around the corner for d...</td>\n",
       "      <td>{'hosting_amenity_50': 1, 'hosting_amenity_49'...</td>\n",
       "      <td>0</td>\n",
       "      <td>https://a2.muscache.com/im/pictures/826cf18f-6...</td>\n",
       "      <td>8001</td>\n",
       "    </tr>\n",
       "    <tr>\n",
       "      <th>2</th>\n",
       "      <td>0</td>\n",
       "      <td>0</td>\n",
       "      <td>0</td>\n",
       "      <td>0</td>\n",
       "      <td>0</td>\n",
       "      <td>0</td>\n",
       "      <td>0</td>\n",
       "      <td>0</td>\n",
       "      <td>0</td>\n",
       "      <td>0</td>\n",
       "      <td>...</td>\n",
       "      <td></td>\n",
       "      <td></td>\n",
       "      <td>Carrer del Cid, Barcelona, Catalunya 08001, Spain</td>\n",
       "      <td>Located in the Old City, near the famous RAMBL...</td>\n",
       "      <td>https://a2.muscache.com/im/pictures/f89056a4-f...</td>\n",
       "      <td>Very suitable for tourist visits,example dista...</td>\n",
       "      <td>{'hosting_amenity_50': 0, 'hosting_amenity_49'...</td>\n",
       "      <td>0</td>\n",
       "      <td>https://a2.muscache.com/im/pictures/f89056a4-f...</td>\n",
       "      <td>8001</td>\n",
       "    </tr>\n",
       "    <tr>\n",
       "      <th>3</th>\n",
       "      <td>0</td>\n",
       "      <td>0</td>\n",
       "      <td>0</td>\n",
       "      <td>0</td>\n",
       "      <td>0</td>\n",
       "      <td>0</td>\n",
       "      <td>0</td>\n",
       "      <td>0</td>\n",
       "      <td>0</td>\n",
       "      <td>0</td>\n",
       "      <td>...</td>\n",
       "      <td></td>\n",
       "      <td></td>\n",
       "      <td>Rambla del Raval, Barcelona, 08001, Spain</td>\n",
       "      <td>Double bedroom in the earth of the city, in th...</td>\n",
       "      <td>https://a2.muscache.com/im/pictures/d07ab326-0...</td>\n",
       "      <td>The flat is near the buses going in few minute...</td>\n",
       "      <td>{'hosting_amenity_50': 1, 'hosting_amenity_49'...</td>\n",
       "      <td>0</td>\n",
       "      <td>https://a2.muscache.com/im/pictures/d07ab326-0...</td>\n",
       "      <td>8001</td>\n",
       "    </tr>\n",
       "    <tr>\n",
       "      <th>4</th>\n",
       "      <td>0</td>\n",
       "      <td>0</td>\n",
       "      <td>0</td>\n",
       "      <td>0</td>\n",
       "      <td>0</td>\n",
       "      <td>0</td>\n",
       "      <td>0</td>\n",
       "      <td>0</td>\n",
       "      <td>0</td>\n",
       "      <td>0</td>\n",
       "      <td>...</td>\n",
       "      <td>172</td>\n",
       "      <td></td>\n",
       "      <td>Carrer de la Junta de Comer�, Barcelona, Catal...</td>\n",
       "      <td></td>\n",
       "      <td>https://a0.muscache.com/im/pictures/10003580/b...</td>\n",
       "      <td></td>\n",
       "      <td>{'hosting_amenity_50': 1, 'hosting_amenity_49'...</td>\n",
       "      <td>0</td>\n",
       "      <td>https://a0.muscache.com/im/pictures/10003580/b...</td>\n",
       "      <td>8001</td>\n",
       "    </tr>\n",
       "  </tbody>\n",
       "</table>\n",
       "<p>5 rows × 148 columns</p>\n",
       "</div>"
      ],
      "text/plain": [
       "   24-hour check-in  Air conditioning  Breakfast  Buzzer/wireless intercom  \\\n",
       "0                 1                 0          1                         1   \n",
       "1                 0                 1          1                         1   \n",
       "2                 0                 0          0                         0   \n",
       "3                 0                 0          0                         0   \n",
       "4                 0                 0          0                         0   \n",
       "\n",
       "   Cable TV  Carbon monoxide detector  Cat(s)  Dog(s)  Doorman  Dryer  \\\n",
       "0         0                         0       0       0        0      0   \n",
       "1         1                         0       0       0        0      0   \n",
       "2         0                         0       0       0        0      0   \n",
       "3         0                         0       0       0        0      0   \n",
       "4         0                         0       0       0        0      0   \n",
       "\n",
       "    ...     square_feet  state  \\\n",
       "0   ...                          \n",
       "1   ...                          \n",
       "2   ...                          \n",
       "3   ...                          \n",
       "4   ...             172          \n",
       "\n",
       "                                              street  \\\n",
       "0  Carrer de Sant Josep Oriol, Barcelona, Catalun...   \n",
       "1  Carrer del Peu de la Creu, Barcelona, Cataloni...   \n",
       "2  Carrer del Cid, Barcelona, Catalunya 08001, Spain   \n",
       "3          Rambla del Raval, Barcelona, 08001, Spain   \n",
       "4  Carrer de la Junta de Comer�, Barcelona, Catal...   \n",
       "\n",
       "                                             summary  \\\n",
       "0  Mi casa esta ubicada en el coraz�n de Barcelon...   \n",
       "1  The flat is located in Sant Antoni (between Ra...   \n",
       "2  Located in the Old City, near the famous RAMBL...   \n",
       "3  Double bedroom in the earth of the city, in th...   \n",
       "4                                                      \n",
       "\n",
       "                                       thumbnail_url  \\\n",
       "0  https://a2.muscache.com/im/pictures/34156f3a-4...   \n",
       "1  https://a2.muscache.com/im/pictures/826cf18f-6...   \n",
       "2  https://a2.muscache.com/im/pictures/f89056a4-f...   \n",
       "3  https://a2.muscache.com/im/pictures/d07ab326-0...   \n",
       "4  https://a0.muscache.com/im/pictures/10003580/b...   \n",
       "\n",
       "                                             transit  \\\n",
       "0  Todo tipo de transporte: metro, bus, tren, bic...   \n",
       "1  There is a bike-rental around the corner for d...   \n",
       "2  Very suitable for tourist visits,example dista...   \n",
       "3  The flat is near the buses going in few minute...   \n",
       "4                                                      \n",
       "\n",
       "                             translation missing: en  weekly_price  \\\n",
       "0  {'hosting_amenity_50': 1, 'hosting_amenity_49'...             0   \n",
       "1  {'hosting_amenity_50': 1, 'hosting_amenity_49'...             0   \n",
       "2  {'hosting_amenity_50': 0, 'hosting_amenity_49'...             0   \n",
       "3  {'hosting_amenity_50': 1, 'hosting_amenity_49'...             0   \n",
       "4  {'hosting_amenity_50': 1, 'hosting_amenity_49'...             0   \n",
       "\n",
       "                                      xl_picture_url  zipcode  \n",
       "0  https://a2.muscache.com/im/pictures/34156f3a-4...     8001  \n",
       "1  https://a2.muscache.com/im/pictures/826cf18f-6...     8001  \n",
       "2  https://a2.muscache.com/im/pictures/f89056a4-f...     8001  \n",
       "3  https://a2.muscache.com/im/pictures/d07ab326-0...     8001  \n",
       "4  https://a0.muscache.com/im/pictures/10003580/b...     8001  \n",
       "\n",
       "[5 rows x 148 columns]"
      ]
     },
     "execution_count": 7,
     "metadata": {},
     "output_type": "execute_result"
    }
   ],
   "source": [
    "listings_df.head()"
   ]
  },
  {
   "cell_type": "code",
   "execution_count": 8,
   "metadata": {
    "collapsed": false
   },
   "outputs": [
    {
     "data": {
      "text/html": [
       "<div>\n",
       "<table border=\"1\" class=\"dataframe\">\n",
       "  <thead>\n",
       "    <tr style=\"text-align: right;\">\n",
       "      <th></th>\n",
       "      <th>_id</th>\n",
       "      <th>comments</th>\n",
       "      <th>date</th>\n",
       "      <th>eng_comments</th>\n",
       "      <th>id</th>\n",
       "      <th>listing_id</th>\n",
       "      <th>reviewer_id</th>\n",
       "      <th>reviewer_name</th>\n",
       "    </tr>\n",
       "  </thead>\n",
       "  <tbody>\n",
       "    <tr>\n",
       "      <th>0</th>\n",
       "      <td>58ea3c0af5fea093dd7413cc</td>\n",
       "      <td>Great apartment with really nice terrace, good...</td>\n",
       "      <td>27/6/2016</td>\n",
       "      <td>Great apartment with really nice terrace, good...</td>\n",
       "      <td>82478807</td>\n",
       "      <td>13343228</td>\n",
       "      <td>13706374</td>\n",
       "      <td>Alessandro</td>\n",
       "    </tr>\n",
       "    <tr>\n",
       "      <th>1</th>\n",
       "      <td>58ea3c0af5fea093dd7413cd</td>\n",
       "      <td>?????? ????? ?????????? ? ????????????? ??????...</td>\n",
       "      <td>12/7/2016</td>\n",
       "      <td>The owner is very sympathetic and hospitable p...</td>\n",
       "      <td>85670059</td>\n",
       "      <td>13343228</td>\n",
       "      <td>11822006</td>\n",
       "      <td>????</td>\n",
       "    </tr>\n",
       "    <tr>\n",
       "      <th>2</th>\n",
       "      <td>58ea3c0af5fea093dd7413ce</td>\n",
       "      <td>Perfect accomodation for a couple. Everything ...</td>\n",
       "      <td>11/8/2016</td>\n",
       "      <td>Perfect accomodation for a couple. Everything ...</td>\n",
       "      <td>93028358</td>\n",
       "      <td>13343228</td>\n",
       "      <td>78753688</td>\n",
       "      <td>Pasquale</td>\n",
       "    </tr>\n",
       "    <tr>\n",
       "      <th>3</th>\n",
       "      <td>58ea3c0af5fea093dd7413cf</td>\n",
       "      <td>Logement propre et bien agenc�. La terrasse es...</td>\n",
       "      <td>20/8/2016</td>\n",
       "      <td>Clean and well appointed accommodation. The te...</td>\n",
       "      <td>95694892</td>\n",
       "      <td>13343228</td>\n",
       "      <td>2755964</td>\n",
       "      <td>Matthieu</td>\n",
       "    </tr>\n",
       "    <tr>\n",
       "      <th>4</th>\n",
       "      <td>58ea3c0af5fea093dd7413d0</td>\n",
       "      <td>This compact flat is perfect for two persons. ...</td>\n",
       "      <td>27/8/2016</td>\n",
       "      <td>This compact flat is perfect for two persons. ...</td>\n",
       "      <td>97373095</td>\n",
       "      <td>13343228</td>\n",
       "      <td>66079967</td>\n",
       "      <td>Henriett</td>\n",
       "    </tr>\n",
       "  </tbody>\n",
       "</table>\n",
       "</div>"
      ],
      "text/plain": [
       "                        _id  \\\n",
       "0  58ea3c0af5fea093dd7413cc   \n",
       "1  58ea3c0af5fea093dd7413cd   \n",
       "2  58ea3c0af5fea093dd7413ce   \n",
       "3  58ea3c0af5fea093dd7413cf   \n",
       "4  58ea3c0af5fea093dd7413d0   \n",
       "\n",
       "                                            comments       date  \\\n",
       "0  Great apartment with really nice terrace, good...  27/6/2016   \n",
       "1  ?????? ????? ?????????? ? ????????????? ??????...  12/7/2016   \n",
       "2  Perfect accomodation for a couple. Everything ...  11/8/2016   \n",
       "3  Logement propre et bien agenc�. La terrasse es...  20/8/2016   \n",
       "4  This compact flat is perfect for two persons. ...  27/8/2016   \n",
       "\n",
       "                                        eng_comments        id listing_id  \\\n",
       "0  Great apartment with really nice terrace, good...  82478807   13343228   \n",
       "1  The owner is very sympathetic and hospitable p...  85670059   13343228   \n",
       "2  Perfect accomodation for a couple. Everything ...  93028358   13343228   \n",
       "3  Clean and well appointed accommodation. The te...  95694892   13343228   \n",
       "4  This compact flat is perfect for two persons. ...  97373095   13343228   \n",
       "\n",
       "  reviewer_id reviewer_name  \n",
       "0    13706374    Alessandro  \n",
       "1    11822006          ????  \n",
       "2    78753688      Pasquale  \n",
       "3     2755964      Matthieu  \n",
       "4    66079967      Henriett  "
      ]
     },
     "execution_count": 8,
     "metadata": {},
     "output_type": "execute_result"
    }
   ],
   "source": [
    "reviews_df.head()"
   ]
  },
  {
   "cell_type": "markdown",
   "metadata": {
    "collapsed": true
   },
   "source": [
    "### Sentiment Analysis"
   ]
  },
  {
   "cell_type": "code",
   "execution_count": 9,
   "metadata": {
    "collapsed": true
   },
   "outputs": [],
   "source": [
    "from afinn import Afinn\n",
    "from textblob import TextBlob"
   ]
  },
  {
   "cell_type": "markdown",
   "metadata": {},
   "source": [
    "### 1. Calculate AFINN Score"
   ]
  },
  {
   "cell_type": "code",
   "execution_count": 10,
   "metadata": {
    "collapsed": true
   },
   "outputs": [],
   "source": [
    "afinn = Afinn()"
   ]
  },
  {
   "cell_type": "code",
   "execution_count": 17,
   "metadata": {
    "collapsed": true
   },
   "outputs": [],
   "source": [
    "reviews_df['afinn'] = \"\"\n",
    "for i in range(0, len(reviews_df)):\n",
    "    if pd.isnull(reviews_df.eng_comments[i]):\n",
    "        reviews_df.loc[i, 'afinn'] = \"NA\"\n",
    "    else:\n",
    "        reviews_df.loc[i, 'afinn'] = afinn.score(reviews_df.loc[i, \"eng_comments\"])"
   ]
  },
  {
   "cell_type": "code",
   "execution_count": 18,
   "metadata": {
    "collapsed": false
   },
   "outputs": [
    {
     "data": {
      "text/html": [
       "<div>\n",
       "<table border=\"1\" class=\"dataframe\">\n",
       "  <thead>\n",
       "    <tr style=\"text-align: right;\">\n",
       "      <th></th>\n",
       "      <th>listing_id</th>\n",
       "      <th>id</th>\n",
       "      <th>date</th>\n",
       "      <th>reviewer_id</th>\n",
       "      <th>reviewer_name</th>\n",
       "      <th>comments</th>\n",
       "      <th>eng_comments</th>\n",
       "      <th>afinn</th>\n",
       "    </tr>\n",
       "  </thead>\n",
       "  <tbody>\n",
       "    <tr>\n",
       "      <th>0</th>\n",
       "      <td>13343228</td>\n",
       "      <td>82478807</td>\n",
       "      <td>27/6/2016</td>\n",
       "      <td>13706374</td>\n",
       "      <td>Alessandro</td>\n",
       "      <td>Great apartment with really nice terrace, good...</td>\n",
       "      <td>Great apartment with really nice terrace, good...</td>\n",
       "      <td>13</td>\n",
       "    </tr>\n",
       "    <tr>\n",
       "      <th>1</th>\n",
       "      <td>13343228</td>\n",
       "      <td>85670059</td>\n",
       "      <td>12/7/2016</td>\n",
       "      <td>11822006</td>\n",
       "      <td>????</td>\n",
       "      <td>?????? ????? ?????????? ? ????????????? ??????...</td>\n",
       "      <td>The owner is very sympathetic and hospitable p...</td>\n",
       "      <td>16</td>\n",
       "    </tr>\n",
       "    <tr>\n",
       "      <th>2</th>\n",
       "      <td>13343228</td>\n",
       "      <td>93028358</td>\n",
       "      <td>11/8/2016</td>\n",
       "      <td>78753688</td>\n",
       "      <td>Pasquale</td>\n",
       "      <td>Perfect accomodation for a couple. Everything ...</td>\n",
       "      <td>Perfect accomodation for a couple. Everything ...</td>\n",
       "      <td>6</td>\n",
       "    </tr>\n",
       "    <tr>\n",
       "      <th>3</th>\n",
       "      <td>13343228</td>\n",
       "      <td>95694892</td>\n",
       "      <td>20/8/2016</td>\n",
       "      <td>2755964</td>\n",
       "      <td>Matthieu</td>\n",
       "      <td>Logement propre et bien agencé. La terrasse es...</td>\n",
       "      <td>Clean and well appointed accommodation. The te...</td>\n",
       "      <td>3</td>\n",
       "    </tr>\n",
       "    <tr>\n",
       "      <th>4</th>\n",
       "      <td>13343228</td>\n",
       "      <td>97373095</td>\n",
       "      <td>27/8/2016</td>\n",
       "      <td>66079967</td>\n",
       "      <td>Henriett</td>\n",
       "      <td>This compact flat is perfect for two persons. ...</td>\n",
       "      <td>This compact flat is perfect for two persons. ...</td>\n",
       "      <td>14</td>\n",
       "    </tr>\n",
       "    <tr>\n",
       "      <th>5</th>\n",
       "      <td>13343228</td>\n",
       "      <td>100469165</td>\n",
       "      <td>9/9/2016</td>\n",
       "      <td>44102687</td>\n",
       "      <td>Ewa</td>\n",
       "      <td>Apartament by? dobrze usytuowany, kilka minut ...</td>\n",
       "      <td>The apartment was well located a few minutes f...</td>\n",
       "      <td>7</td>\n",
       "    </tr>\n",
       "    <tr>\n",
       "      <th>6</th>\n",
       "      <td>13343228</td>\n",
       "      <td>111387102</td>\n",
       "      <td>31/10/2016</td>\n",
       "      <td>97786692</td>\n",
       "      <td>(EMAIL HIDDEN)</td>\n",
       "      <td>Josep a été très présent dans ses explications...</td>\n",
       "      <td>Josep was very present in his explanations to ...</td>\n",
       "      <td>6</td>\n",
       "    </tr>\n",
       "    <tr>\n",
       "      <th>7</th>\n",
       "      <td>12941699</td>\n",
       "      <td>76026188</td>\n",
       "      <td>24/5/2016</td>\n",
       "      <td>32294607</td>\n",
       "      <td>Sebastian</td>\n",
       "      <td>Excelente anfitrion y apartamento. \\r\\r\\r\\nMer...</td>\n",
       "      <td>Excellent host and apartment.\\r\\r\\r\\r\\r\\nMerce...</td>\n",
       "      <td>15</td>\n",
       "    </tr>\n",
       "    <tr>\n",
       "      <th>8</th>\n",
       "      <td>12941699</td>\n",
       "      <td>78906608</td>\n",
       "      <td>10/6/2016</td>\n",
       "      <td>73370085</td>\n",
       "      <td>Marija</td>\n",
       "      <td>This apartment is beautifully decorated, every...</td>\n",
       "      <td>This apartment is beautifully decorated, every...</td>\n",
       "      <td>13</td>\n",
       "    </tr>\n",
       "    <tr>\n",
       "      <th>9</th>\n",
       "      <td>12941699</td>\n",
       "      <td>79128751</td>\n",
       "      <td>11/6/2016</td>\n",
       "      <td>12294090</td>\n",
       "      <td>James</td>\n",
       "      <td>The apartment was in a great location and was ...</td>\n",
       "      <td>The apartment was in a great location and was ...</td>\n",
       "      <td>5</td>\n",
       "    </tr>\n",
       "  </tbody>\n",
       "</table>\n",
       "</div>"
      ],
      "text/plain": [
       "   listing_id         id        date  reviewer_id   reviewer_name  \\\n",
       "0    13343228   82478807   27/6/2016     13706374      Alessandro   \n",
       "1    13343228   85670059   12/7/2016     11822006            ????   \n",
       "2    13343228   93028358   11/8/2016     78753688        Pasquale   \n",
       "3    13343228   95694892   20/8/2016      2755964        Matthieu   \n",
       "4    13343228   97373095   27/8/2016     66079967        Henriett   \n",
       "5    13343228  100469165    9/9/2016     44102687             Ewa   \n",
       "6    13343228  111387102  31/10/2016     97786692  (EMAIL HIDDEN)   \n",
       "7    12941699   76026188   24/5/2016     32294607       Sebastian   \n",
       "8    12941699   78906608   10/6/2016     73370085          Marija   \n",
       "9    12941699   79128751   11/6/2016     12294090           James   \n",
       "\n",
       "                                            comments  \\\n",
       "0  Great apartment with really nice terrace, good...   \n",
       "1  ?????? ????? ?????????? ? ????????????? ??????...   \n",
       "2  Perfect accomodation for a couple. Everything ...   \n",
       "3  Logement propre et bien agencé. La terrasse es...   \n",
       "4  This compact flat is perfect for two persons. ...   \n",
       "5  Apartament by? dobrze usytuowany, kilka minut ...   \n",
       "6  Josep a été très présent dans ses explications...   \n",
       "7  Excelente anfitrion y apartamento. \\r\\r\\r\\nMer...   \n",
       "8  This apartment is beautifully decorated, every...   \n",
       "9  The apartment was in a great location and was ...   \n",
       "\n",
       "                                        eng_comments  afinn  \n",
       "0  Great apartment with really nice terrace, good...     13  \n",
       "1  The owner is very sympathetic and hospitable p...     16  \n",
       "2  Perfect accomodation for a couple. Everything ...      6  \n",
       "3  Clean and well appointed accommodation. The te...      3  \n",
       "4  This compact flat is perfect for two persons. ...     14  \n",
       "5  The apartment was well located a few minutes f...      7  \n",
       "6  Josep was very present in his explanations to ...      6  \n",
       "7  Excellent host and apartment.\\r\\r\\r\\r\\r\\nMerce...     15  \n",
       "8  This apartment is beautifully decorated, every...     13  \n",
       "9  The apartment was in a great location and was ...      5  "
      ]
     },
     "execution_count": 18,
     "metadata": {},
     "output_type": "execute_result"
    }
   ],
   "source": [
    "reviews_df.head(10)"
   ]
  },
  {
   "cell_type": "markdown",
   "metadata": {},
   "source": [
    "### 2. Split into positive and negative reviews"
   ]
  },
  {
   "cell_type": "code",
   "execution_count": 19,
   "metadata": {
    "collapsed": true
   },
   "outputs": [],
   "source": [
    "negative = reviews_df[reviews_df['afinn'] < 0]"
   ]
  },
  {
   "cell_type": "code",
   "execution_count": 35,
   "metadata": {
    "collapsed": true
   },
   "outputs": [],
   "source": [
    "positive = reviews_df[reviews_df['afinn'] > 0]"
   ]
  },
  {
   "cell_type": "markdown",
   "metadata": {},
   "source": [
    "### 3. Create TFIDF Corpus"
   ]
  },
  {
   "cell_type": "code",
   "execution_count": 21,
   "metadata": {
    "collapsed": true
   },
   "outputs": [],
   "source": [
    "from sklearn.feature_extraction.text import CountVectorizer, TfidfVectorizer"
   ]
  },
  {
   "cell_type": "code",
   "execution_count": 22,
   "metadata": {
    "collapsed": true
   },
   "outputs": [],
   "source": [
    "hosts = list(listings_df['host_name'])\n",
    "hosts = [x.lower() for x in hosts if type(x) is str]"
   ]
  },
  {
   "cell_type": "code",
   "execution_count": 23,
   "metadata": {
    "collapsed": true
   },
   "outputs": [],
   "source": [
    "stopwords = ['a', 'able', 'about', 'above', 'abroad', 'according', 'accordingly', 'across', 'actually', 'adj', 'after', 'afterwards', 'again', 'against', 'ago', 'ahead', \"ain't\", 'all', 'allow', 'allows', 'almost', 'alone', 'along', 'alongside', 'already', 'also', 'although', 'always', 'am', 'amid', 'amidst', 'among', 'amongst', 'an', 'and', 'another', 'any', 'anybody', 'anyhow', 'anyone', 'anything', 'anyway', 'anyways', 'anywhere', 'apart', 'appear', 'appreciate', 'appropriate', 'are', \"aren't\", 'around', 'as', \"a's\", 'aside', 'ask', 'asking', 'associated', 'at', 'available', 'away', 'awfully', 'b', 'back', 'backward', 'backwards', 'be', 'became', 'because', 'become', 'becomes', 'becoming', 'been', 'before', 'beforehand', 'begin', 'behind', 'being', 'believe', 'below', 'beside', 'besides', 'best', 'better', 'between', 'beyond', 'both', 'brief', 'but', 'by', 'c', 'came', 'can', 'cannot', 'cant', \"can't\", 'caption', 'cause', 'causes', 'certain', 'certainly', 'changes', 'clearly', \"c'mon\", 'co', 'co.', 'com', 'come', 'comes', 'concerning', 'consequently', 'consider', 'considering', 'contain', 'containing', 'contains', 'corresponding', 'could', \"couldn't\", 'course', \"c's\", 'currently', 'd', 'dare', \"daren't\", 'definitely', 'described', 'despite', 'did', \"didn't\", 'different', 'directly', 'do', 'does', \"doesn't\", 'doing', 'done', \"don't\", 'down', 'downwards', 'during', 'e', 'each', 'edu', 'eg', 'eight', 'eighty', 'either', 'else', 'elsewhere', 'end', 'ending', 'enough', 'entirely', 'especially', 'et', 'etc', 'even', 'ever', 'evermore', 'every', 'everybody', 'everyone', 'everything', 'everywhere', 'ex', 'exactly', 'example', 'except', 'f', 'fairly', 'farther', 'few', 'fewer', 'fifth', 'first', 'five', 'followed', 'following', 'follows', 'for', 'forever', 'former', 'formerly', 'forth', 'forward', 'found', 'four', 'from', 'further', 'furthermore', 'g', 'get', 'gets', 'getting', 'given', 'gives', 'go', 'goes', 'going', 'gone', 'got', 'gotten', 'greetings', 'h', 'had', \"hadn't\", 'half', 'happens', 'hardly', 'has', \"hasn't\", 'have', \"haven't\", 'having', 'he', \"he'd\", \"he'll\", 'hello', 'help', 'hence', 'her', 'here', 'hereafter', 'hereby', 'herein', \"here's\", 'hereupon', 'hers', 'herself', \"he's\", 'hi', 'him', 'himself', 'his', 'hither', 'hopefully', 'how', 'howbeit', 'however', 'hundred', 'i', \"i'd\", 'ie', 'if', 'ignored', \"i'll\", \"i'm\", 'immediate', 'in', 'inasmuch', 'inc', 'inc.', 'indeed', 'indicate', 'indicated', 'indicates', 'inner', 'inside', 'insofar', 'instead', 'into', 'inward', 'is', \"isn't\", 'it', \"it'd\", \"it'll\", 'its', \"it's\", 'itself', \"i've\", 'j', 'just', 'k', 'keep', 'keeps', 'kept', 'know', 'known', 'knows', 'l', 'last', 'lately', 'later', 'latter', 'latterly', 'least', 'less', 'lest', 'let', \"let's\", 'like', 'liked', 'likely', 'likewise', 'little', 'look', 'looking', 'looks', 'low', 'lower', 'ltd', 'm', 'made', 'mainly', 'make', 'makes', 'many', 'may', 'maybe', \"mayn't\", 'me', 'mean', 'meantime', 'meanwhile', 'merely', 'might', \"mightn't\", 'mine', 'minus', 'miss', 'more', 'moreover', 'most', 'mostly', 'mr', 'mrs', 'much', 'must', \"mustn't\", 'my', 'myself', 'n', 'name', 'namely', 'nd', 'nearly', 'necessary', 'need', \"needn't\", 'needs', 'neither', 'never', 'neverf', 'neverless', 'nevertheless', 'next', 'nine', 'ninety', 'no', 'nobody', 'non', 'none', 'nonetheless', 'noone', 'no-one', 'nor', 'normally', 'not', 'nothing', 'notwithstanding', 'novel', 'now', 'nowhere', 'o', 'obviously', 'of', 'off', 'often', 'oh', 'ok', 'okay', 'old', 'on', 'once', 'one', 'ones', \"one's\", 'only', 'onto', 'opposite', 'or', 'other', 'others', 'otherwise', 'ought', \"oughtn't\", 'our', 'ours', 'ourselves', 'out', 'outside', 'over', 'overall', 'own', 'p', 'particular', 'particularly', 'past', 'per', 'perhaps', 'placed', 'please', 'plus', 'possible', 'presumably', 'probably', 'provided', 'provides', 'q', 'que', 'quite', 'qv', 'r', 'rather', 'rd', 're', 'really', 'reasonably', 'recent', 'recently', 'regarding', 'regardless', 'regards', 'relatively', 'respectively', 'right', 'round', 's', 'said', 'same', 'saw', 'say', 'saying', 'says', 'second', 'secondly', 'see', 'seeing', 'seem', 'seemed', 'seeming', 'seems', 'seen', 'self', 'selves', 'sensible', 'sent', 'serious', 'seriously', 'seven', 'several', 'shall', \"shan't\", 'she', \"she'd\", \"she'll\", \"she's\", 'should', \"shouldn't\", 'since', 'six', 'so', 'some', 'somebody', 'someday', 'somehow', 'someone', 'something', 'sometime', 'sometimes', 'somewhat', 'somewhere', 'soon', 'sorry', 'specified', 'specify', 'specifying', 'still', 'sub', 'such', 'sup', 'sure', 't', 'take', 'taken', 'taking', 'tell', 'tends', 'th', 'than', 'thank', 'thanks', 'thanx', 'that', \"that'll\", 'thats', \"that's\", \"that've\", 'the', 'their', 'theirs', 'them', 'themselves', 'then', 'thence', 'there', 'thereafter', 'thereby', \"there'd\", 'therefore', 'therein', \"there'll\", \"there're\", 'theres', \"there's\", 'thereupon', \"there've\", 'these', 'they', \"they'd\", \"they'll\", \"they're\", \"they've\", 'thing', 'things', 'think', 'third', 'thirty', 'this', 'thorough', 'thoroughly', 'those', 'though', 'three', 'through', 'throughout', 'thru', 'thus', 'till', 'to', 'together', 'too', 'took', 'toward', 'towards', 'tried', 'tries', 'truly', 'try', 'trying', \"t's\", 'twice', 'two', 'u', 'un', 'under', 'underneath', 'undoing', 'unfortunately', 'unless', 'unlike', 'unlikely', 'until', 'unto', 'up', 'upon', 'upwards', 'us', 'use', 'used', 'useful', 'uses', 'using', 'usually', 'v', 'value', 'various', 'versus', 'very', 'via', 'viz', 'vs', 'w', 'want', 'wants', 'was', \"wasn't\", 'way', 'we', \"we'd\", 'welcome', 'well', \"we'll\", 'went', 'were', \"we're\", \"weren't\", \"we've\", 'what', 'whatever', \"what'll\", \"what's\", \"what've\", 'when', 'whence', 'whenever', 'where', 'whereafter', 'whereas', 'whereby', 'wherein', \"where's\", 'whereupon', 'wherever', 'whether', 'which', 'whichever', 'while', 'whilst', 'whither', 'who', \"who'd\", 'whoever', 'whole', \"who'll\", 'whom', 'whomever', \"who's\", 'whose', 'why', 'will', 'willing', 'wish', 'with', 'within', 'without', 'wonder', \"won't\", 'would', \"wouldn't\", 'x', 'y', 'yes', 'yet', 'you', \"you'd\", \"you'll\", 'your', \"you're\", 'yours', 'yourself', 'yourselves', \"you've\", 'z', 'zero']\n",
    "stopwords += ['apartment', 'appartment', 'apartments', 'house', 'room', 'rooms', 'airbnb', 'barcelona', 'accommodation', 'accomodation', 'mention', 'flat', 'review', 'rental', 'brother', 'lover', 'date', 'visit', 'face']\n",
    "stopwords += hosts"
   ]
  },
  {
   "cell_type": "markdown",
   "metadata": {},
   "source": [
    "### Negative Reviews"
   ]
  },
  {
   "cell_type": "code",
   "execution_count": 24,
   "metadata": {
    "collapsed": true
   },
   "outputs": [],
   "source": [
    "vect_neg = TfidfVectorizer(min_df=50, max_df=0.8, token_pattern=r'\\b[A-Za-z]{3,}\\b', stop_words=stopwords)"
   ]
  },
  {
   "cell_type": "code",
   "execution_count": 25,
   "metadata": {
    "collapsed": true
   },
   "outputs": [],
   "source": [
    "X_neg = vect_neg.fit_transform(negative['eng_comments'])\n",
    "X_df_neg = pd.DataFrame(X_neg.toarray(), index=negative['listing_id'], columns=vect_neg.get_feature_names())"
   ]
  },
  {
   "cell_type": "code",
   "execution_count": 26,
   "metadata": {
    "collapsed": true
   },
   "outputs": [],
   "source": [
    "X_df_neg1 = pd.concat([X_df_neg, pd.DataFrame(negative.filter(['listing_id', 'date'])).set_index(negative['listing_id'])], axis = 1, join_axes=[X_df_neg.index])"
   ]
  },
  {
   "cell_type": "code",
   "execution_count": 27,
   "metadata": {
    "collapsed": true
   },
   "outputs": [],
   "source": [
    "negative_df = pd.DataFrame(X_df_neg1.set_index(['listing_id', 'date']).stack(), columns = ['tfidf'])\n",
    "negative_df.index.names = ['listing_id', 'date', 'word']"
   ]
  },
  {
   "cell_type": "code",
   "execution_count": 28,
   "metadata": {
    "collapsed": true
   },
   "outputs": [],
   "source": [
    "negative_df = negative_df[negative_df.tfidf != 0]"
   ]
  },
  {
   "cell_type": "code",
   "execution_count": 31,
   "metadata": {
    "collapsed": false
   },
   "outputs": [
    {
     "data": {
      "text/html": [
       "<div>\n",
       "<table border=\"1\" class=\"dataframe\">\n",
       "  <thead>\n",
       "    <tr style=\"text-align: right;\">\n",
       "      <th></th>\n",
       "      <th></th>\n",
       "      <th></th>\n",
       "      <th>tfidf</th>\n",
       "    </tr>\n",
       "    <tr>\n",
       "      <th>listing_id</th>\n",
       "      <th>date</th>\n",
       "      <th>word</th>\n",
       "      <th></th>\n",
       "    </tr>\n",
       "  </thead>\n",
       "  <tbody>\n",
       "    <tr>\n",
       "      <th rowspan=\"12\" valign=\"top\">1184282</th>\n",
       "      <th rowspan=\"12\" valign=\"top\">28/2/2015</th>\n",
       "      <th>bed</th>\n",
       "      <td>0.203680</td>\n",
       "    </tr>\n",
       "    <tr>\n",
       "      <th>blocks</th>\n",
       "      <td>0.364102</td>\n",
       "    </tr>\n",
       "    <tr>\n",
       "      <th>convenient</th>\n",
       "      <td>0.276450</td>\n",
       "    </tr>\n",
       "    <tr>\n",
       "      <th>friends</th>\n",
       "      <td>0.308885</td>\n",
       "    </tr>\n",
       "    <tr>\n",
       "      <th>leaving</th>\n",
       "      <td>0.313591</td>\n",
       "    </tr>\n",
       "    <tr>\n",
       "      <th>location</th>\n",
       "      <td>0.177114</td>\n",
       "    </tr>\n",
       "    <tr>\n",
       "      <th>place</th>\n",
       "      <td>0.194325</td>\n",
       "    </tr>\n",
       "    <tr>\n",
       "      <th>recommend</th>\n",
       "      <td>0.235623</td>\n",
       "    </tr>\n",
       "    <tr>\n",
       "      <th>stop</th>\n",
       "      <td>0.288096</td>\n",
       "    </tr>\n",
       "    <tr>\n",
       "      <th>stops</th>\n",
       "      <td>0.378803</td>\n",
       "    </tr>\n",
       "    <tr>\n",
       "      <th>takes</th>\n",
       "      <td>0.379988</td>\n",
       "    </tr>\n",
       "    <tr>\n",
       "      <th>walk</th>\n",
       "      <td>0.245436</td>\n",
       "    </tr>\n",
       "    <tr>\n",
       "      <th rowspan=\"8\" valign=\"top\">7722404</th>\n",
       "      <th rowspan=\"8\" valign=\"top\">3/9/2015</th>\n",
       "      <th>bad</th>\n",
       "      <td>0.192892</td>\n",
       "    </tr>\n",
       "    <tr>\n",
       "      <th>bit</th>\n",
       "      <td>0.238298</td>\n",
       "    </tr>\n",
       "    <tr>\n",
       "      <th>cockroaches</th>\n",
       "      <td>0.362176</td>\n",
       "    </tr>\n",
       "    <tr>\n",
       "      <th>day</th>\n",
       "      <td>0.196549</td>\n",
       "    </tr>\n",
       "    <tr>\n",
       "      <th>decided</th>\n",
       "      <td>0.355021</td>\n",
       "    </tr>\n",
       "    <tr>\n",
       "      <th>full</th>\n",
       "      <td>0.289345</td>\n",
       "    </tr>\n",
       "    <tr>\n",
       "      <th>neighborhood</th>\n",
       "      <td>0.259446</td>\n",
       "    </tr>\n",
       "    <tr>\n",
       "      <th>neighbors</th>\n",
       "      <td>0.294312</td>\n",
       "    </tr>\n",
       "  </tbody>\n",
       "</table>\n",
       "</div>"
      ],
      "text/plain": [
       "                                      tfidf\n",
       "listing_id date      word                  \n",
       "1184282    28/2/2015 bed           0.203680\n",
       "                     blocks        0.364102\n",
       "                     convenient    0.276450\n",
       "                     friends       0.308885\n",
       "                     leaving       0.313591\n",
       "                     location      0.177114\n",
       "                     place         0.194325\n",
       "                     recommend     0.235623\n",
       "                     stop          0.288096\n",
       "                     stops         0.378803\n",
       "                     takes         0.379988\n",
       "                     walk          0.245436\n",
       "7722404    3/9/2015  bad           0.192892\n",
       "                     bit           0.238298\n",
       "                     cockroaches   0.362176\n",
       "                     day           0.196549\n",
       "                     decided       0.355021\n",
       "                     full          0.289345\n",
       "                     neighborhood  0.259446\n",
       "                     neighbors     0.294312"
      ]
     },
     "execution_count": 31,
     "metadata": {},
     "output_type": "execute_result"
    }
   ],
   "source": [
    "negative_df.head(20)"
   ]
  },
  {
   "cell_type": "code",
   "execution_count": null,
   "metadata": {
    "collapsed": true
   },
   "outputs": [],
   "source": [
    "#negative_df.to_csv(\"negative_tfidf.csv\")"
   ]
  },
  {
   "cell_type": "markdown",
   "metadata": {},
   "source": [
    "### Positive Reviews"
   ]
  },
  {
   "cell_type": "code",
   "execution_count": 36,
   "metadata": {
    "collapsed": true
   },
   "outputs": [],
   "source": [
    "test = positive['eng_comments'][0:50000]"
   ]
  },
  {
   "cell_type": "code",
   "execution_count": 32,
   "metadata": {
    "collapsed": true
   },
   "outputs": [],
   "source": [
    "vect_pos = TfidfVectorizer(min_df=50, max_df=0.8, token_pattern=r'\\b[A-Za-z]{3,}\\b', stop_words=stopwords)"
   ]
  },
  {
   "cell_type": "code",
   "execution_count": 37,
   "metadata": {
    "collapsed": false
   },
   "outputs": [],
   "source": [
    "X_pos = vect_pos.fit_transform(positive['eng_comments'])\n",
    "X_df_pos = pd.DataFrame(X_pos.toarray(), index=positive['listing_id'], columns=vect_pos.get_feature_names())\n",
    "X_df_pos1 = pd.concat([X_df_pos, pd.DataFrame(positive.filter(['listing_id', 'date'])).set_index(positive['listing_id'])], axis = 1, join_axes=[X_df_pos.index])"
   ]
  },
  {
   "cell_type": "code",
   "execution_count": 38,
   "metadata": {
    "collapsed": true
   },
   "outputs": [],
   "source": [
    "positive_df = pd.DataFrame(X_df_pos1.set_index(['listing_id', 'date']).stack(), columns = ['tfidf'])\n",
    "positive_df.index.names = ['listing_id', 'date', 'word']"
   ]
  },
  {
   "cell_type": "code",
   "execution_count": 39,
   "metadata": {
    "collapsed": true
   },
   "outputs": [],
   "source": [
    "positive_df = positive_df[positive_df.tfidf != 0]"
   ]
  },
  {
   "cell_type": "code",
   "execution_count": 40,
   "metadata": {
    "collapsed": false
   },
   "outputs": [
    {
     "data": {
      "text/html": [
       "<div>\n",
       "<table border=\"1\" class=\"dataframe\">\n",
       "  <thead>\n",
       "    <tr style=\"text-align: right;\">\n",
       "      <th></th>\n",
       "      <th></th>\n",
       "      <th></th>\n",
       "      <th>tfidf</th>\n",
       "    </tr>\n",
       "    <tr>\n",
       "      <th>listing_id</th>\n",
       "      <th>date</th>\n",
       "      <th>word</th>\n",
       "      <th></th>\n",
       "    </tr>\n",
       "  </thead>\n",
       "  <tbody>\n",
       "    <tr>\n",
       "      <th rowspan=\"20\" valign=\"top\">13343228</th>\n",
       "      <th rowspan=\"8\" valign=\"top\">27/6/2016</th>\n",
       "      <th>good</th>\n",
       "      <td>0.239664</td>\n",
       "    </tr>\n",
       "    <tr>\n",
       "      <th>great</th>\n",
       "      <td>0.200698</td>\n",
       "    </tr>\n",
       "    <tr>\n",
       "      <th>helpful</th>\n",
       "      <td>0.289030</td>\n",
       "    </tr>\n",
       "    <tr>\n",
       "      <th>metro</th>\n",
       "      <td>0.263450</td>\n",
       "    </tr>\n",
       "    <tr>\n",
       "      <th>near</th>\n",
       "      <td>0.382984</td>\n",
       "    </tr>\n",
       "    <tr>\n",
       "      <th>position</th>\n",
       "      <td>0.609233</td>\n",
       "    </tr>\n",
       "    <tr>\n",
       "      <th>recommend</th>\n",
       "      <td>0.254278</td>\n",
       "    </tr>\n",
       "    <tr>\n",
       "      <th>terrace</th>\n",
       "      <td>0.408459</td>\n",
       "    </tr>\n",
       "    <tr>\n",
       "      <th rowspan=\"12\" valign=\"top\">12/7/2016</th>\n",
       "      <th>area</th>\n",
       "      <td>0.139591</td>\n",
       "    </tr>\n",
       "    <tr>\n",
       "      <th>balcony</th>\n",
       "      <td>0.181782</td>\n",
       "    </tr>\n",
       "    <tr>\n",
       "      <th>bars</th>\n",
       "      <td>0.174421</td>\n",
       "    </tr>\n",
       "    <tr>\n",
       "      <th>beautiful</th>\n",
       "      <td>0.153770</td>\n",
       "    </tr>\n",
       "    <tr>\n",
       "      <th>calm</th>\n",
       "      <td>0.251774</td>\n",
       "    </tr>\n",
       "    <tr>\n",
       "      <th>center</th>\n",
       "      <td>0.161192</td>\n",
       "    </tr>\n",
       "    <tr>\n",
       "      <th>city</th>\n",
       "      <td>0.127250</td>\n",
       "    </tr>\n",
       "    <tr>\n",
       "      <th>close</th>\n",
       "      <td>0.119401</td>\n",
       "    </tr>\n",
       "    <tr>\n",
       "      <th>comfortable</th>\n",
       "      <td>0.241389</td>\n",
       "    </tr>\n",
       "    <tr>\n",
       "      <th>compact</th>\n",
       "      <td>0.339195</td>\n",
       "    </tr>\n",
       "    <tr>\n",
       "      <th>dinner</th>\n",
       "      <td>0.246993</td>\n",
       "    </tr>\n",
       "    <tr>\n",
       "      <th>enjoy</th>\n",
       "      <td>0.203411</td>\n",
       "    </tr>\n",
       "  </tbody>\n",
       "</table>\n",
       "</div>"
      ],
      "text/plain": [
       "                                     tfidf\n",
       "listing_id date      word                 \n",
       "13343228   27/6/2016 good         0.239664\n",
       "                     great        0.200698\n",
       "                     helpful      0.289030\n",
       "                     metro        0.263450\n",
       "                     near         0.382984\n",
       "                     position     0.609233\n",
       "                     recommend    0.254278\n",
       "                     terrace      0.408459\n",
       "           12/7/2016 area         0.139591\n",
       "                     balcony      0.181782\n",
       "                     bars         0.174421\n",
       "                     beautiful    0.153770\n",
       "                     calm         0.251774\n",
       "                     center       0.161192\n",
       "                     city         0.127250\n",
       "                     close        0.119401\n",
       "                     comfortable  0.241389\n",
       "                     compact      0.339195\n",
       "                     dinner       0.246993\n",
       "                     enjoy        0.203411"
      ]
     },
     "execution_count": 40,
     "metadata": {},
     "output_type": "execute_result"
    }
   ],
   "source": [
    "positive_df.head(20)"
   ]
  },
  {
   "cell_type": "code",
   "execution_count": null,
   "metadata": {
    "collapsed": true
   },
   "outputs": [],
   "source": [
    "#positive_df.to_csv(\"positive_tfidf.csv\")"
   ]
  }
 ],
 "metadata": {
  "anaconda-cloud": {},
  "kernelspec": {
   "display_name": "Python [default]",
   "language": "python",
   "name": "python3"
  },
  "language_info": {
   "codemirror_mode": {
    "name": "ipython",
    "version": 3
   },
   "file_extension": ".py",
   "mimetype": "text/x-python",
   "name": "python",
   "nbconvert_exporter": "python",
   "pygments_lexer": "ipython3",
   "version": "3.5.2"
  }
 },
 "nbformat": 4,
 "nbformat_minor": 1
}
