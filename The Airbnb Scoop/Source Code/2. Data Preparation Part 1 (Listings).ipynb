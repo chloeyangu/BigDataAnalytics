{
 "cells": [
  {
   "cell_type": "markdown",
   "metadata": {},
   "source": [
    "### From Command Line - Import CSV file (Raw Data) into MongoDB\n",
    "\n",
    "#### mongoimport --db airbnb --type csv --file listings_new.csv -c listings_new\n",
    "#### mongoimport --db airbnb --type csv --file barcelona_attractions.csv -c attractions"
   ]
  },
  {
   "cell_type": "code",
   "execution_count": 1,
   "metadata": {
    "collapsed": true
   },
   "outputs": [],
   "source": [
    "import pymongo\n",
    "from pymongo import MongoClient"
   ]
  },
  {
   "cell_type": "markdown",
   "metadata": {},
   "source": [
    "### Connect Python to MongoDB"
   ]
  },
  {
   "cell_type": "code",
   "execution_count": 2,
   "metadata": {
    "collapsed": true
   },
   "outputs": [],
   "source": [
    "client = MongoClient('mongodb://localhost:27017/')"
   ]
  },
  {
   "cell_type": "markdown",
   "metadata": {},
   "source": [
    "### Retrieve from Database\n",
    "#### Database named as \"airbnb\""
   ]
  },
  {
   "cell_type": "code",
   "execution_count": 3,
   "metadata": {
    "collapsed": true
   },
   "outputs": [],
   "source": [
    "db = client.airbnb"
   ]
  },
  {
   "cell_type": "markdown",
   "metadata": {},
   "source": [
    "### Retrieve Tables from Database"
   ]
  },
  {
   "cell_type": "code",
   "execution_count": 36,
   "metadata": {
    "collapsed": true
   },
   "outputs": [],
   "source": [
    "listings = db.listings_new\n",
    "attractions = db.attractions"
   ]
  },
  {
   "cell_type": "markdown",
   "metadata": {},
   "source": [
    "### Store data in a pandas dataframe for further analysis"
   ]
  },
  {
   "cell_type": "code",
   "execution_count": 5,
   "metadata": {
    "collapsed": true
   },
   "outputs": [],
   "source": [
    "import pandas as pd"
   ]
  },
  {
   "cell_type": "code",
   "execution_count": 6,
   "metadata": {
    "collapsed": false
   },
   "outputs": [],
   "source": [
    "listings_df = pd.DataFrame(list(db.listings_new.find()))"
   ]
  },
  {
   "cell_type": "code",
   "execution_count": 7,
   "metadata": {
    "collapsed": false
   },
   "outputs": [
    {
     "data": {
      "text/html": [
       "<div>\n",
       "<table border=\"1\" class=\"dataframe\">\n",
       "  <thead>\n",
       "    <tr style=\"text-align: right;\">\n",
       "      <th></th>\n",
       "      <th>_id</th>\n",
       "      <th>access</th>\n",
       "      <th>accommodates</th>\n",
       "      <th>amenities</th>\n",
       "      <th>availability_30</th>\n",
       "      <th>availability_365</th>\n",
       "      <th>availability_60</th>\n",
       "      <th>availability_90</th>\n",
       "      <th>bathrooms</th>\n",
       "      <th>bed_type</th>\n",
       "      <th>...</th>\n",
       "      <th>space</th>\n",
       "      <th>square_feet</th>\n",
       "      <th>state</th>\n",
       "      <th>street</th>\n",
       "      <th>summary</th>\n",
       "      <th>thumbnail_url</th>\n",
       "      <th>transit</th>\n",
       "      <th>weekly_price</th>\n",
       "      <th>xl_picture_url</th>\n",
       "      <th>zipcode</th>\n",
       "    </tr>\n",
       "  </thead>\n",
       "  <tbody>\n",
       "    <tr>\n",
       "      <th>0</th>\n",
       "      <td>58f75b849ebfacefa7df7620</td>\n",
       "      <td>Los huéspedes podrán utilizar las zonas comune...</td>\n",
       "      <td>2</td>\n",
       "      <td>{TV,Internet,\"Wireless Internet\",Kitchen,Break...</td>\n",
       "      <td>29</td>\n",
       "      <td>364</td>\n",
       "      <td>59</td>\n",
       "      <td>89</td>\n",
       "      <td>1</td>\n",
       "      <td>Real Bed</td>\n",
       "      <td>...</td>\n",
       "      <td>En pleno corazón de Barcelona, frente a rambla...</td>\n",
       "      <td></td>\n",
       "      <td>Catalunya</td>\n",
       "      <td>Carrer de Sant Josep Oriol, Barcelona, Catalun...</td>\n",
       "      <td>Mi casa esta ubicada en el corazón de Barcelon...</td>\n",
       "      <td>https://a2.muscache.com/im/pictures/34156f3a-4...</td>\n",
       "      <td>Todo tipo de transporte: metro, bus, tren, bic...</td>\n",
       "      <td></td>\n",
       "      <td>https://a2.muscache.com/im/pictures/34156f3a-4...</td>\n",
       "      <td>8001</td>\n",
       "    </tr>\n",
       "    <tr>\n",
       "      <th>1</th>\n",
       "      <td>58f75b849ebfacefa7df7621</td>\n",
       "      <td>We share common areas of apartment: bathroom, ...</td>\n",
       "      <td>2</td>\n",
       "      <td>{TV,\"Cable TV\",Internet,\"Wireless Internet\",\"A...</td>\n",
       "      <td>26</td>\n",
       "      <td>86</td>\n",
       "      <td>56</td>\n",
       "      <td>86</td>\n",
       "      <td>1</td>\n",
       "      <td>Real Bed</td>\n",
       "      <td>...</td>\n",
       "      <td>Let me introduce you my very nice apartment   ...</td>\n",
       "      <td></td>\n",
       "      <td>Catalonia</td>\n",
       "      <td>Carrer del Peu de la Creu, Barcelona, Cataloni...</td>\n",
       "      <td>The flat is located in Sant Antoni (between Ra...</td>\n",
       "      <td>https://a2.muscache.com/im/pictures/826cf18f-6...</td>\n",
       "      <td>There is a bike-rental around the corner for d...</td>\n",
       "      <td></td>\n",
       "      <td>https://a2.muscache.com/im/pictures/826cf18f-6...</td>\n",
       "      <td>8001</td>\n",
       "    </tr>\n",
       "    <tr>\n",
       "      <th>2</th>\n",
       "      <td>58f75b849ebfacefa7df7622</td>\n",
       "      <td></td>\n",
       "      <td>2</td>\n",
       "      <td>{Internet,\"Wireless Internet\",\"Wheelchair acce...</td>\n",
       "      <td>28</td>\n",
       "      <td>88</td>\n",
       "      <td>58</td>\n",
       "      <td>88</td>\n",
       "      <td>1</td>\n",
       "      <td>Real Bed</td>\n",
       "      <td>...</td>\n",
       "      <td>CHECK-IN is before 23:00,CHECK-OUT is at 12:00...</td>\n",
       "      <td></td>\n",
       "      <td>Catalunya</td>\n",
       "      <td>Carrer del Cid, Barcelona, Catalunya 08001, Spain</td>\n",
       "      <td>Located in the Old City, near the famous RAMBL...</td>\n",
       "      <td>https://a2.muscache.com/im/pictures/f89056a4-f...</td>\n",
       "      <td>Very suitable for tourist visits,example dista...</td>\n",
       "      <td></td>\n",
       "      <td>https://a2.muscache.com/im/pictures/f89056a4-f...</td>\n",
       "      <td>8001</td>\n",
       "    </tr>\n",
       "    <tr>\n",
       "      <th>3</th>\n",
       "      <td>58f75b849ebfacefa7df7623</td>\n",
       "      <td>You will have to share the living room and the...</td>\n",
       "      <td>2</td>\n",
       "      <td>{Internet,\"Wireless Internet\",Kitchen,\"Smoking...</td>\n",
       "      <td>0</td>\n",
       "      <td>158</td>\n",
       "      <td>0</td>\n",
       "      <td>0</td>\n",
       "      <td>1</td>\n",
       "      <td>Real Bed</td>\n",
       "      <td>...</td>\n",
       "      <td></td>\n",
       "      <td></td>\n",
       "      <td></td>\n",
       "      <td>Rambla del Raval, Barcelona, 08001, Spain</td>\n",
       "      <td>Double bedroom in the earth of the city, in th...</td>\n",
       "      <td>https://a2.muscache.com/im/pictures/d07ab326-0...</td>\n",
       "      <td>The flat is near the buses going in few minute...</td>\n",
       "      <td></td>\n",
       "      <td>https://a2.muscache.com/im/pictures/d07ab326-0...</td>\n",
       "      <td>8001</td>\n",
       "    </tr>\n",
       "    <tr>\n",
       "      <th>4</th>\n",
       "      <td>58f75b849ebfacefa7df7624</td>\n",
       "      <td></td>\n",
       "      <td>4</td>\n",
       "      <td>{\"Wireless Internet\",Kitchen,\"Smoking allowed\"...</td>\n",
       "      <td>5</td>\n",
       "      <td>329</td>\n",
       "      <td>28</td>\n",
       "      <td>58</td>\n",
       "      <td>2</td>\n",
       "      <td>Real Bed</td>\n",
       "      <td>...</td>\n",
       "      <td>Welcome to the Piero's home (Italian)!   The h...</td>\n",
       "      <td>172</td>\n",
       "      <td>Cataluña, Catalonia</td>\n",
       "      <td>Carrer de la Junta de Comerç, Barcelona, Catal...</td>\n",
       "      <td></td>\n",
       "      <td>https://a0.muscache.com/im/pictures/10003580/b...</td>\n",
       "      <td></td>\n",
       "      <td></td>\n",
       "      <td>https://a0.muscache.com/im/pictures/10003580/b...</td>\n",
       "      <td>8001</td>\n",
       "    </tr>\n",
       "  </tbody>\n",
       "</table>\n",
       "<p>5 rows × 96 columns</p>\n",
       "</div>"
      ],
      "text/plain": [
       "                        _id  \\\n",
       "0  58f75b849ebfacefa7df7620   \n",
       "1  58f75b849ebfacefa7df7621   \n",
       "2  58f75b849ebfacefa7df7622   \n",
       "3  58f75b849ebfacefa7df7623   \n",
       "4  58f75b849ebfacefa7df7624   \n",
       "\n",
       "                                              access  accommodates  \\\n",
       "0  Los huéspedes podrán utilizar las zonas comune...             2   \n",
       "1  We share common areas of apartment: bathroom, ...             2   \n",
       "2                                                                2   \n",
       "3  You will have to share the living room and the...             2   \n",
       "4                                                                4   \n",
       "\n",
       "                                           amenities  availability_30  \\\n",
       "0  {TV,Internet,\"Wireless Internet\",Kitchen,Break...               29   \n",
       "1  {TV,\"Cable TV\",Internet,\"Wireless Internet\",\"A...               26   \n",
       "2  {Internet,\"Wireless Internet\",\"Wheelchair acce...               28   \n",
       "3  {Internet,\"Wireless Internet\",Kitchen,\"Smoking...                0   \n",
       "4  {\"Wireless Internet\",Kitchen,\"Smoking allowed\"...                5   \n",
       "\n",
       "   availability_365  availability_60  availability_90 bathrooms  bed_type  \\\n",
       "0               364               59               89         1  Real Bed   \n",
       "1                86               56               86         1  Real Bed   \n",
       "2                88               58               88         1  Real Bed   \n",
       "3               158                0                0         1  Real Bed   \n",
       "4               329               28               58         2  Real Bed   \n",
       "\n",
       "    ...                                                space square_feet  \\\n",
       "0   ...    En pleno corazón de Barcelona, frente a rambla...               \n",
       "1   ...    Let me introduce you my very nice apartment   ...               \n",
       "2   ...    CHECK-IN is before 23:00,CHECK-OUT is at 12:00...               \n",
       "3   ...                                                                    \n",
       "4   ...    Welcome to the Piero's home (Italian)!   The h...         172   \n",
       "\n",
       "                 state                                             street  \\\n",
       "0            Catalunya  Carrer de Sant Josep Oriol, Barcelona, Catalun...   \n",
       "1            Catalonia  Carrer del Peu de la Creu, Barcelona, Cataloni...   \n",
       "2            Catalunya  Carrer del Cid, Barcelona, Catalunya 08001, Spain   \n",
       "3                               Rambla del Raval, Barcelona, 08001, Spain   \n",
       "4  Cataluña, Catalonia  Carrer de la Junta de Comerç, Barcelona, Catal...   \n",
       "\n",
       "                                             summary  \\\n",
       "0  Mi casa esta ubicada en el corazón de Barcelon...   \n",
       "1  The flat is located in Sant Antoni (between Ra...   \n",
       "2  Located in the Old City, near the famous RAMBL...   \n",
       "3  Double bedroom in the earth of the city, in th...   \n",
       "4                                                      \n",
       "\n",
       "                                       thumbnail_url  \\\n",
       "0  https://a2.muscache.com/im/pictures/34156f3a-4...   \n",
       "1  https://a2.muscache.com/im/pictures/826cf18f-6...   \n",
       "2  https://a2.muscache.com/im/pictures/f89056a4-f...   \n",
       "3  https://a2.muscache.com/im/pictures/d07ab326-0...   \n",
       "4  https://a0.muscache.com/im/pictures/10003580/b...   \n",
       "\n",
       "                                             transit weekly_price  \\\n",
       "0  Todo tipo de transporte: metro, bus, tren, bic...                \n",
       "1  There is a bike-rental around the corner for d...                \n",
       "2  Very suitable for tourist visits,example dista...                \n",
       "3  The flat is near the buses going in few minute...                \n",
       "4                                                                   \n",
       "\n",
       "                                      xl_picture_url zipcode  \n",
       "0  https://a2.muscache.com/im/pictures/34156f3a-4...    8001  \n",
       "1  https://a2.muscache.com/im/pictures/826cf18f-6...    8001  \n",
       "2  https://a2.muscache.com/im/pictures/f89056a4-f...    8001  \n",
       "3  https://a2.muscache.com/im/pictures/d07ab326-0...    8001  \n",
       "4  https://a0.muscache.com/im/pictures/10003580/b...    8001  \n",
       "\n",
       "[5 rows x 96 columns]"
      ]
     },
     "execution_count": 7,
     "metadata": {},
     "output_type": "execute_result"
    }
   ],
   "source": [
    "listings_df.head()"
   ]
  },
  {
   "cell_type": "code",
   "execution_count": 8,
   "metadata": {
    "collapsed": false
   },
   "outputs": [
    {
     "data": {
      "text/plain": [
       "array(['_id', 'access', 'accommodates', 'amenities', 'availability_30',\n",
       "       'availability_365', 'availability_60', 'availability_90',\n",
       "       'bathrooms', 'bed_type', 'bedrooms', 'beds',\n",
       "       'calculated_host_listings_count', 'calendar_last_scraped',\n",
       "       'calendar_updated', 'cancellation_policy', 'city', 'cleaning_fee',\n",
       "       'country', 'country_code', 'description', 'experiences_offered',\n",
       "       'extra_people', 'first_review', 'guests_included',\n",
       "       'has_availability', 'host_about', 'host_acceptance_rate',\n",
       "       'host_has_profile_pic', 'host_id', 'host_identity_verified',\n",
       "       'host_is_superhost', 'host_listings_count', 'host_location',\n",
       "       'host_name', 'host_neighbourhood', 'host_picture_url',\n",
       "       'host_response_rate', 'host_response_time', 'host_since',\n",
       "       'host_thumbnail_url', 'host_total_listings_count', 'host_url',\n",
       "       'host_verifications', 'house_rules', 'id', 'instant_bookable',\n",
       "       'interaction', 'is_location_exact', 'jurisdiction_names',\n",
       "       'last_review', 'last_scraped', 'latitude', 'license', 'listing_url',\n",
       "       'longitude', 'market', 'maximum_nights', 'medium_url',\n",
       "       'minimum_nights', 'monthly_price', 'name', 'neighborhood_overview',\n",
       "       'neighbourhood', 'neighbourhood_cleansed',\n",
       "       'neighbourhood_group_cleansed', 'notes', 'number_of_reviews',\n",
       "       'picture_url', 'price', 'property_type',\n",
       "       'require_guest_phone_verification', 'require_guest_profile_picture',\n",
       "       'requires_license', 'review_scores_accuracy',\n",
       "       'review_scores_checkin', 'review_scores_cleanliness',\n",
       "       'review_scores_communication', 'review_scores_location',\n",
       "       'review_scores_rating', 'review_scores_value', 'reviews_per_month',\n",
       "       'room_type', 'scrape_id', 'security_deposit', 'smart_location',\n",
       "       'space', 'square_feet', 'state', 'street', 'summary',\n",
       "       'thumbnail_url', 'transit', 'weekly_price', 'xl_picture_url',\n",
       "       'zipcode'], dtype=object)"
      ]
     },
     "execution_count": 8,
     "metadata": {},
     "output_type": "execute_result"
    }
   ],
   "source": [
    "listings_df.columns.values"
   ]
  },
  {
   "cell_type": "markdown",
   "metadata": {},
   "source": [
    "### Convert numeric variables"
   ]
  },
  {
   "cell_type": "code",
   "execution_count": 9,
   "metadata": {
    "collapsed": false
   },
   "outputs": [
    {
     "name": "stderr",
     "output_type": "stream",
     "text": [
      "C:\\Users\\Yen Leng\\Anaconda3\\lib\\site-packages\\ipykernel\\__main__.py:1: FutureWarning: convert_objects is deprecated.  Use the data-type specific converters pd.to_datetime, pd.to_timedelta and pd.to_numeric.\n",
      "  if __name__ == '__main__':\n"
     ]
    }
   ],
   "source": [
    "listings_df = listings_df.convert_objects(convert_numeric=True)"
   ]
  },
  {
   "cell_type": "code",
   "execution_count": 10,
   "metadata": {
    "collapsed": false
   },
   "outputs": [],
   "source": [
    "listings_df['price'] = listings_df['price'].str[1:]\n",
    "listings_df['price'] = listings_df.price.replace(',', '',regex=True)\n",
    "listings_df['price'] = listings_df.price.astype(float).fillna(0.0)"
   ]
  },
  {
   "cell_type": "code",
   "execution_count": 11,
   "metadata": {
    "collapsed": true
   },
   "outputs": [],
   "source": [
    "listings_df['extra_people'] = listings_df['extra_people'].str[1:]\n",
    "listings_df['extra_people'] = listings_df.extra_people.replace(',', '',regex=True).replace('', '0',regex=True)\n",
    "listings_df['extra_people'] = listings_df.extra_people.astype(float).fillna(0.0)"
   ]
  },
  {
   "cell_type": "code",
   "execution_count": 12,
   "metadata": {
    "collapsed": true
   },
   "outputs": [],
   "source": [
    "listings_df['weekly_price'] = listings_df['weekly_price'].str[1:]\n",
    "listings_df['weekly_price'] = listings_df.weekly_price.replace(',', '',regex=True).replace('', '0',regex=True)\n",
    "listings_df['weekly_price'] = listings_df.weekly_price.astype(float).fillna(0.0)"
   ]
  },
  {
   "cell_type": "code",
   "execution_count": 13,
   "metadata": {
    "collapsed": true
   },
   "outputs": [],
   "source": [
    "listings_df['monthly_price'] = listings_df['monthly_price'].str[1:]\n",
    "listings_df['monthly_price'] = listings_df.monthly_price.replace(',', '',regex=True).replace('', '0',regex=True)\n",
    "listings_df['monthly_price'] = listings_df.monthly_price.astype(float).fillna(0.0)"
   ]
  },
  {
   "cell_type": "code",
   "execution_count": 14,
   "metadata": {
    "collapsed": true
   },
   "outputs": [],
   "source": [
    "listings_df['security_deposit'] = listings_df['security_deposit'].str[1:]\n",
    "listings_df['security_deposit'] = listings_df.security_deposit.replace(',', '',regex=True).replace('', '0',regex=True)\n",
    "listings_df['security_deposit'] = listings_df.security_deposit.astype(float).fillna(0.0)"
   ]
  },
  {
   "cell_type": "code",
   "execution_count": 15,
   "metadata": {
    "collapsed": true
   },
   "outputs": [],
   "source": [
    "listings_df['cleaning_fee'] = listings_df['cleaning_fee'].str[1:]\n",
    "listings_df['cleaning_fee'] = listings_df.cleaning_fee.replace(',', '',regex=True).replace('', '0',regex=True)\n",
    "listings_df['cleaning_fee'] = listings_df.cleaning_fee.astype(float).fillna(0.0)"
   ]
  },
  {
   "cell_type": "markdown",
   "metadata": {},
   "source": [
    "### Convert Amenities to Dummy Variables"
   ]
  },
  {
   "cell_type": "code",
   "execution_count": 17,
   "metadata": {
    "collapsed": false
   },
   "outputs": [],
   "source": [
    "listings_df['amenities_split'] = listings_df[\"amenities\"].apply(lambda x: x[1:-1].split(','))"
   ]
  },
  {
   "cell_type": "code",
   "execution_count": 30,
   "metadata": {
    "collapsed": false
   },
   "outputs": [
    {
     "data": {
      "text/plain": [
       "['\"Elevator in building\"',\n",
       " '\"translation missing: en.hosting_amenity_50\"',\n",
       " 'Gym',\n",
       " '\"Washer / Dryer\"',\n",
       " '\"Buzzer/wireless intercom\"',\n",
       " '\"Other pet(s)\"',\n",
       " '\"Fire extinguisher\"',\n",
       " 'Washer',\n",
       " '\"Wheelchair accessible\"',\n",
       " '\"Hot tub\"',\n",
       " 'Hangers',\n",
       " 'Doorman',\n",
       " '\"Smoke detector\"',\n",
       " 'Cat(s)',\n",
       " '\"Laptop friendly workspace\"',\n",
       " 'Pool',\n",
       " '\"Lock on bedroom door\"',\n",
       " '\"Free parking on street\"',\n",
       " '\"Pets allowed\"',\n",
       " '\"Safety card\"',\n",
       " 'Dog(s)',\n",
       " '\"Carbon monoxide detector\"',\n",
       " 'Internet',\n",
       " '\"Air conditioning\"',\n",
       " 'Essentials',\n",
       " 'Kitchen',\n",
       " 'Shampoo',\n",
       " '\"First aid kit\"',\n",
       " 'TV',\n",
       " '\"Wireless Internet\"',\n",
       " 'Dryer',\n",
       " 'Breakfast',\n",
       " '\"translation missing: en.hosting_amenity_49\"',\n",
       " '\"Pets live on this property\"',\n",
       " '\"Private entrance\"',\n",
       " '\"Cable TV\"',\n",
       " '\"Paid parking off premises\"',\n",
       " '\"24-hour check-in\"',\n",
       " 'Iron',\n",
       " '\"Family/kid friendly\"',\n",
       " '\"Suitable for events\"',\n",
       " '\"Indoor fireplace\"',\n",
       " '\"Free parking on premises\"',\n",
       " 'Heating',\n",
       " '\"Hair dryer\"',\n",
       " '\"Smoking allowed\"',\n",
       " '\"Private living room\"']"
      ]
     },
     "execution_count": 30,
     "metadata": {},
     "output_type": "execute_result"
    }
   ],
   "source": [
    "#Get unique amenities\n",
    "unique_amenities = list(set(x for l in listings_df[\"amenities_split\"] for x in l))\n",
    "unique_amenities = unique_amenities[0:2] + unique_amenities[3:]\n",
    "unique_amenities"
   ]
  },
  {
   "cell_type": "code",
   "execution_count": 32,
   "metadata": {
    "collapsed": false
   },
   "outputs": [],
   "source": [
    "num_col = len(unique_amenities) #number of columns\n",
    "data_array = []\n",
    "for n in range(0, len(listings_df)):\n",
    "    lst = []\n",
    "    for i in range (0, num_col):\n",
    "        row = listings_df[\"amenities_split\"][n]\n",
    "        if unique_amenities[i] in row:\n",
    "            lst.append(1)\n",
    "        else:\n",
    "            lst.append(0)\n",
    "    data_array.append(lst)\n",
    "\n",
    "df = pd.DataFrame(data_array, columns=unique_amenities)"
   ]
  },
  {
   "cell_type": "code",
   "execution_count": 41,
   "metadata": {
    "collapsed": false
   },
   "outputs": [],
   "source": [
    "listings_df2 = listings_df.join(df)"
   ]
  },
  {
   "cell_type": "code",
   "execution_count": 42,
   "metadata": {
    "collapsed": false
   },
   "outputs": [
    {
     "data": {
      "text/html": [
       "<div>\n",
       "<table border=\"1\" class=\"dataframe\">\n",
       "  <thead>\n",
       "    <tr style=\"text-align: right;\">\n",
       "      <th></th>\n",
       "      <th>_id</th>\n",
       "      <th>access</th>\n",
       "      <th>accommodates</th>\n",
       "      <th>amenities</th>\n",
       "      <th>availability_30</th>\n",
       "      <th>availability_365</th>\n",
       "      <th>availability_60</th>\n",
       "      <th>availability_90</th>\n",
       "      <th>bathrooms</th>\n",
       "      <th>bed_type</th>\n",
       "      <th>...</th>\n",
       "      <th>\"24-hour check-in\"</th>\n",
       "      <th>Iron</th>\n",
       "      <th>\"Family/kid friendly\"</th>\n",
       "      <th>\"Suitable for events\"</th>\n",
       "      <th>\"Indoor fireplace\"</th>\n",
       "      <th>\"Free parking on premises\"</th>\n",
       "      <th>Heating</th>\n",
       "      <th>\"Hair dryer\"</th>\n",
       "      <th>\"Smoking allowed\"</th>\n",
       "      <th>\"Private living room\"</th>\n",
       "    </tr>\n",
       "  </thead>\n",
       "  <tbody>\n",
       "    <tr>\n",
       "      <th>0</th>\n",
       "      <td>58f75b849ebfacefa7df7620</td>\n",
       "      <td>NaN</td>\n",
       "      <td>2</td>\n",
       "      <td>{TV,Internet,\"Wireless Internet\",Kitchen,Break...</td>\n",
       "      <td>29</td>\n",
       "      <td>364</td>\n",
       "      <td>59</td>\n",
       "      <td>89</td>\n",
       "      <td>1.0</td>\n",
       "      <td>Real Bed</td>\n",
       "      <td>...</td>\n",
       "      <td>1</td>\n",
       "      <td>1</td>\n",
       "      <td>0</td>\n",
       "      <td>0</td>\n",
       "      <td>0</td>\n",
       "      <td>0</td>\n",
       "      <td>1</td>\n",
       "      <td>1</td>\n",
       "      <td>0</td>\n",
       "      <td>0</td>\n",
       "    </tr>\n",
       "    <tr>\n",
       "      <th>1</th>\n",
       "      <td>58f75b849ebfacefa7df7621</td>\n",
       "      <td>NaN</td>\n",
       "      <td>2</td>\n",
       "      <td>{TV,\"Cable TV\",Internet,\"Wireless Internet\",\"A...</td>\n",
       "      <td>26</td>\n",
       "      <td>86</td>\n",
       "      <td>56</td>\n",
       "      <td>86</td>\n",
       "      <td>1.0</td>\n",
       "      <td>Real Bed</td>\n",
       "      <td>...</td>\n",
       "      <td>0</td>\n",
       "      <td>1</td>\n",
       "      <td>0</td>\n",
       "      <td>0</td>\n",
       "      <td>0</td>\n",
       "      <td>0</td>\n",
       "      <td>1</td>\n",
       "      <td>1</td>\n",
       "      <td>0</td>\n",
       "      <td>0</td>\n",
       "    </tr>\n",
       "    <tr>\n",
       "      <th>2</th>\n",
       "      <td>58f75b849ebfacefa7df7622</td>\n",
       "      <td>NaN</td>\n",
       "      <td>2</td>\n",
       "      <td>{Internet,\"Wireless Internet\",\"Wheelchair acce...</td>\n",
       "      <td>28</td>\n",
       "      <td>88</td>\n",
       "      <td>58</td>\n",
       "      <td>88</td>\n",
       "      <td>1.0</td>\n",
       "      <td>Real Bed</td>\n",
       "      <td>...</td>\n",
       "      <td>0</td>\n",
       "      <td>0</td>\n",
       "      <td>1</td>\n",
       "      <td>0</td>\n",
       "      <td>0</td>\n",
       "      <td>0</td>\n",
       "      <td>1</td>\n",
       "      <td>1</td>\n",
       "      <td>0</td>\n",
       "      <td>0</td>\n",
       "    </tr>\n",
       "    <tr>\n",
       "      <th>3</th>\n",
       "      <td>58f75b849ebfacefa7df7623</td>\n",
       "      <td>NaN</td>\n",
       "      <td>2</td>\n",
       "      <td>{Internet,\"Wireless Internet\",Kitchen,\"Smoking...</td>\n",
       "      <td>0</td>\n",
       "      <td>158</td>\n",
       "      <td>0</td>\n",
       "      <td>0</td>\n",
       "      <td>1.0</td>\n",
       "      <td>Real Bed</td>\n",
       "      <td>...</td>\n",
       "      <td>0</td>\n",
       "      <td>0</td>\n",
       "      <td>0</td>\n",
       "      <td>0</td>\n",
       "      <td>0</td>\n",
       "      <td>0</td>\n",
       "      <td>0</td>\n",
       "      <td>0</td>\n",
       "      <td>1</td>\n",
       "      <td>0</td>\n",
       "    </tr>\n",
       "    <tr>\n",
       "      <th>4</th>\n",
       "      <td>58f75b849ebfacefa7df7624</td>\n",
       "      <td>NaN</td>\n",
       "      <td>4</td>\n",
       "      <td>{\"Wireless Internet\",Kitchen,\"Smoking allowed\"...</td>\n",
       "      <td>5</td>\n",
       "      <td>329</td>\n",
       "      <td>28</td>\n",
       "      <td>58</td>\n",
       "      <td>2.0</td>\n",
       "      <td>Real Bed</td>\n",
       "      <td>...</td>\n",
       "      <td>0</td>\n",
       "      <td>0</td>\n",
       "      <td>0</td>\n",
       "      <td>0</td>\n",
       "      <td>0</td>\n",
       "      <td>0</td>\n",
       "      <td>0</td>\n",
       "      <td>0</td>\n",
       "      <td>1</td>\n",
       "      <td>0</td>\n",
       "    </tr>\n",
       "  </tbody>\n",
       "</table>\n",
       "<p>5 rows × 144 columns</p>\n",
       "</div>"
      ],
      "text/plain": [
       "                        _id  access  accommodates  \\\n",
       "0  58f75b849ebfacefa7df7620     NaN             2   \n",
       "1  58f75b849ebfacefa7df7621     NaN             2   \n",
       "2  58f75b849ebfacefa7df7622     NaN             2   \n",
       "3  58f75b849ebfacefa7df7623     NaN             2   \n",
       "4  58f75b849ebfacefa7df7624     NaN             4   \n",
       "\n",
       "                                           amenities  availability_30  \\\n",
       "0  {TV,Internet,\"Wireless Internet\",Kitchen,Break...               29   \n",
       "1  {TV,\"Cable TV\",Internet,\"Wireless Internet\",\"A...               26   \n",
       "2  {Internet,\"Wireless Internet\",\"Wheelchair acce...               28   \n",
       "3  {Internet,\"Wireless Internet\",Kitchen,\"Smoking...                0   \n",
       "4  {\"Wireless Internet\",Kitchen,\"Smoking allowed\"...                5   \n",
       "\n",
       "   availability_365  availability_60  availability_90  bathrooms  bed_type  \\\n",
       "0               364               59               89        1.0  Real Bed   \n",
       "1                86               56               86        1.0  Real Bed   \n",
       "2                88               58               88        1.0  Real Bed   \n",
       "3               158                0                0        1.0  Real Bed   \n",
       "4               329               28               58        2.0  Real Bed   \n",
       "\n",
       "           ...           \"24-hour check-in\"  Iron  \"Family/kid friendly\"  \\\n",
       "0          ...                            1     1                      0   \n",
       "1          ...                            0     1                      0   \n",
       "2          ...                            0     0                      1   \n",
       "3          ...                            0     0                      0   \n",
       "4          ...                            0     0                      0   \n",
       "\n",
       "  \"Suitable for events\" \"Indoor fireplace\" \"Free parking on premises\" Heating  \\\n",
       "0                     0                  0                          0       1   \n",
       "1                     0                  0                          0       1   \n",
       "2                     0                  0                          0       1   \n",
       "3                     0                  0                          0       0   \n",
       "4                     0                  0                          0       0   \n",
       "\n",
       "   \"Hair dryer\" \"Smoking allowed\" \"Private living room\"  \n",
       "0             1                 0                     0  \n",
       "1             1                 0                     0  \n",
       "2             1                 0                     0  \n",
       "3             0                 1                     0  \n",
       "4             0                 1                     0  \n",
       "\n",
       "[5 rows x 144 columns]"
      ]
     },
     "execution_count": 42,
     "metadata": {},
     "output_type": "execute_result"
    }
   ],
   "source": [
    "listings_df2.head()"
   ]
  },
  {
   "cell_type": "markdown",
   "metadata": {},
   "source": [
    "### Combine Attractions Data"
   ]
  },
  {
   "cell_type": "code",
   "execution_count": 37,
   "metadata": {
    "collapsed": true
   },
   "outputs": [],
   "source": [
    "attractions = pd.DataFrame(list(db.attractions.find()))"
   ]
  },
  {
   "cell_type": "code",
   "execution_count": 38,
   "metadata": {
    "collapsed": false
   },
   "outputs": [
    {
     "data": {
      "text/html": [
       "<div>\n",
       "<table border=\"1\" class=\"dataframe\">\n",
       "  <thead>\n",
       "    <tr style=\"text-align: right;\">\n",
       "      <th></th>\n",
       "      <th>_id</th>\n",
       "      <th>attraction</th>\n",
       "      <th>lat</th>\n",
       "      <th>long</th>\n",
       "      <th>rating</th>\n",
       "    </tr>\n",
       "  </thead>\n",
       "  <tbody>\n",
       "    <tr>\n",
       "      <th>0</th>\n",
       "      <td>58f7630c9ebfacefa7dfbb00</td>\n",
       "      <td>Basilica of the Sagrada Familia</td>\n",
       "      <td>41.403591</td>\n",
       "      <td>2.174360</td>\n",
       "      <td>4</td>\n",
       "    </tr>\n",
       "    <tr>\n",
       "      <th>1</th>\n",
       "      <td>58f7630c9ebfacefa7dfbb01</td>\n",
       "      <td>Casa Batllo</td>\n",
       "      <td>41.391712</td>\n",
       "      <td>2.164824</td>\n",
       "      <td>4</td>\n",
       "    </tr>\n",
       "    <tr>\n",
       "      <th>2</th>\n",
       "      <td>58f7630c9ebfacefa7dfbb02</td>\n",
       "      <td>Palau de la Musica Orfeo Catala</td>\n",
       "      <td>41.387573</td>\n",
       "      <td>2.175302</td>\n",
       "      <td>4</td>\n",
       "    </tr>\n",
       "    <tr>\n",
       "      <th>3</th>\n",
       "      <td>58f7630c9ebfacefa7dfbb03</td>\n",
       "      <td>Gothic Quarter (Barri Gotic)</td>\n",
       "      <td>41.382702</td>\n",
       "      <td>2.177113</td>\n",
       "      <td>4</td>\n",
       "    </tr>\n",
       "    <tr>\n",
       "      <th>4</th>\n",
       "      <td>58f7630c9ebfacefa7dfbb04</td>\n",
       "      <td>Camp Nou</td>\n",
       "      <td>41.380978</td>\n",
       "      <td>2.122884</td>\n",
       "      <td>4</td>\n",
       "    </tr>\n",
       "  </tbody>\n",
       "</table>\n",
       "</div>"
      ],
      "text/plain": [
       "                        _id                       attraction        lat  \\\n",
       "0  58f7630c9ebfacefa7dfbb00  Basilica of the Sagrada Familia  41.403591   \n",
       "1  58f7630c9ebfacefa7dfbb01                      Casa Batllo  41.391712   \n",
       "2  58f7630c9ebfacefa7dfbb02  Palau de la Musica Orfeo Catala  41.387573   \n",
       "3  58f7630c9ebfacefa7dfbb03     Gothic Quarter (Barri Gotic)  41.382702   \n",
       "4  58f7630c9ebfacefa7dfbb04                         Camp Nou  41.380978   \n",
       "\n",
       "       long  rating  \n",
       "0  2.174360       4  \n",
       "1  2.164824       4  \n",
       "2  2.175302       4  \n",
       "3  2.177113       4  \n",
       "4  2.122884       4  "
      ]
     },
     "execution_count": 38,
     "metadata": {},
     "output_type": "execute_result"
    }
   ],
   "source": [
    "attractions.head()"
   ]
  },
  {
   "cell_type": "code",
   "execution_count": 39,
   "metadata": {
    "collapsed": true
   },
   "outputs": [],
   "source": [
    "#Calculate distance between 2 lat long points\n",
    "#Returns distance in km\n",
    "def distance(lat1, long1, lat2, long2):\n",
    "    from math import sin, cos, sqrt, atan2, radians\n",
    "\n",
    "    # approximate radius of earth in km\n",
    "    R = 6373.0\n",
    "\n",
    "    lat1 = radians(lat1)\n",
    "    long1 = radians(long1)\n",
    "    lat2 = radians(lat2)\n",
    "    long2 = radians(long2)\n",
    "\n",
    "    dlong = long2 - long1\n",
    "    dlat = lat2 - lat1\n",
    "\n",
    "    a = sin(dlat / 2)**2 + cos(lat1) * cos(lat2) * sin(dlong / 2)**2\n",
    "    c = 2 * atan2(sqrt(a), sqrt(1 - a))\n",
    "\n",
    "    distance = R * c\n",
    "\n",
    "    return distance"
   ]
  },
  {
   "cell_type": "code",
   "execution_count": 43,
   "metadata": {
    "collapsed": false
   },
   "outputs": [],
   "source": [
    "for n in range(0, len(listings_df2)):\n",
    "    nearest_attr = attractions['attraction'][0]\n",
    "    nearest_attr_rating = attractions['rating'][0]\n",
    "    nearest_attr_lat = attractions['lat'][0]\n",
    "    nearest_attr_long = attractions['long'][0]\n",
    "\n",
    "    list_lat = listings_df2['latitude'][n]\n",
    "    list_long = listings_df2['longitude'][n]\n",
    "\n",
    "    #Distance from first attraction to listing\n",
    "    dist_nearest = distance(list_lat, list_long, nearest_attr_lat, nearest_attr_long)\n",
    "\n",
    "    for i in range(1, len(attractions)):\n",
    "        attr_lat = attractions['lat'][i]\n",
    "        attr_long = attractions['long'][i]\n",
    "        dist = distance(list_lat, list_long, attr_lat, attr_long)\n",
    "\n",
    "        if dist < dist_nearest:\n",
    "            nearest_attr = attractions['attraction'][i]\n",
    "            nearest_attr_rating = attractions['rating'][i]\n",
    "            nearest_attr_lat = attractions['lat'][i]\n",
    "            nearest_attr_long = attractions['long'][i]\n",
    "            dist_nearest = dist  \n",
    "\n",
    "    listings_df2.loc[n, 'nearest_attr'] = nearest_attr\n",
    "    listings_df2.loc[n, 'nearest_attr_rating'] = nearest_attr_rating\n",
    "    listings_df2.loc[n, 'nearest_attr_lat'] = nearest_attr_lat\n",
    "    listings_df2.loc[n, 'nearest_attr_long'] = nearest_attr_long\n",
    "    listings_df2.loc[n, 'nearest_attr_dist'] = dist_nearest"
   ]
  },
  {
   "cell_type": "code",
   "execution_count": 44,
   "metadata": {
    "collapsed": false
   },
   "outputs": [
    {
     "data": {
      "text/html": [
       "<div>\n",
       "<table border=\"1\" class=\"dataframe\">\n",
       "  <thead>\n",
       "    <tr style=\"text-align: right;\">\n",
       "      <th></th>\n",
       "      <th>_id</th>\n",
       "      <th>access</th>\n",
       "      <th>accommodates</th>\n",
       "      <th>amenities</th>\n",
       "      <th>availability_30</th>\n",
       "      <th>availability_365</th>\n",
       "      <th>availability_60</th>\n",
       "      <th>availability_90</th>\n",
       "      <th>bathrooms</th>\n",
       "      <th>bed_type</th>\n",
       "      <th>...</th>\n",
       "      <th>\"Free parking on premises\"</th>\n",
       "      <th>Heating</th>\n",
       "      <th>\"Hair dryer\"</th>\n",
       "      <th>\"Smoking allowed\"</th>\n",
       "      <th>\"Private living room\"</th>\n",
       "      <th>nearest_attr</th>\n",
       "      <th>nearest_attr_rating</th>\n",
       "      <th>nearest_attr_lat</th>\n",
       "      <th>nearest_attr_long</th>\n",
       "      <th>nearest_attr_dist</th>\n",
       "    </tr>\n",
       "  </thead>\n",
       "  <tbody>\n",
       "    <tr>\n",
       "      <th>0</th>\n",
       "      <td>58f75b849ebfacefa7df7620</td>\n",
       "      <td>NaN</td>\n",
       "      <td>2</td>\n",
       "      <td>{TV,Internet,\"Wireless Internet\",Kitchen,Break...</td>\n",
       "      <td>29</td>\n",
       "      <td>364</td>\n",
       "      <td>59</td>\n",
       "      <td>89</td>\n",
       "      <td>1.0</td>\n",
       "      <td>Real Bed</td>\n",
       "      <td>...</td>\n",
       "      <td>0</td>\n",
       "      <td>1</td>\n",
       "      <td>1</td>\n",
       "      <td>0</td>\n",
       "      <td>0</td>\n",
       "      <td>Cat, Fernando Botero</td>\n",
       "      <td>4.0</td>\n",
       "      <td>41.378109</td>\n",
       "      <td>2.169838</td>\n",
       "      <td>0.116424</td>\n",
       "    </tr>\n",
       "    <tr>\n",
       "      <th>1</th>\n",
       "      <td>58f75b849ebfacefa7df7621</td>\n",
       "      <td>NaN</td>\n",
       "      <td>2</td>\n",
       "      <td>{TV,\"Cable TV\",Internet,\"Wireless Internet\",\"A...</td>\n",
       "      <td>26</td>\n",
       "      <td>86</td>\n",
       "      <td>56</td>\n",
       "      <td>86</td>\n",
       "      <td>1.0</td>\n",
       "      <td>Real Bed</td>\n",
       "      <td>...</td>\n",
       "      <td>0</td>\n",
       "      <td>1</td>\n",
       "      <td>1</td>\n",
       "      <td>0</td>\n",
       "      <td>0</td>\n",
       "      <td>Articket Barcelona</td>\n",
       "      <td>4.0</td>\n",
       "      <td>41.382950</td>\n",
       "      <td>2.167290</td>\n",
       "      <td>0.075337</td>\n",
       "    </tr>\n",
       "    <tr>\n",
       "      <th>2</th>\n",
       "      <td>58f75b849ebfacefa7df7622</td>\n",
       "      <td>NaN</td>\n",
       "      <td>2</td>\n",
       "      <td>{Internet,\"Wireless Internet\",\"Wheelchair acce...</td>\n",
       "      <td>28</td>\n",
       "      <td>88</td>\n",
       "      <td>58</td>\n",
       "      <td>88</td>\n",
       "      <td>1.0</td>\n",
       "      <td>Real Bed</td>\n",
       "      <td>...</td>\n",
       "      <td>0</td>\n",
       "      <td>1</td>\n",
       "      <td>1</td>\n",
       "      <td>0</td>\n",
       "      <td>0</td>\n",
       "      <td>Arts Santa Monica</td>\n",
       "      <td>4.0</td>\n",
       "      <td>41.377441</td>\n",
       "      <td>2.175973</td>\n",
       "      <td>0.129260</td>\n",
       "    </tr>\n",
       "    <tr>\n",
       "      <th>3</th>\n",
       "      <td>58f75b849ebfacefa7df7623</td>\n",
       "      <td>NaN</td>\n",
       "      <td>2</td>\n",
       "      <td>{Internet,\"Wireless Internet\",Kitchen,\"Smoking...</td>\n",
       "      <td>0</td>\n",
       "      <td>158</td>\n",
       "      <td>0</td>\n",
       "      <td>0</td>\n",
       "      <td>1.0</td>\n",
       "      <td>Real Bed</td>\n",
       "      <td>...</td>\n",
       "      <td>0</td>\n",
       "      <td>0</td>\n",
       "      <td>0</td>\n",
       "      <td>1</td>\n",
       "      <td>0</td>\n",
       "      <td>Cat, Fernando Botero</td>\n",
       "      <td>4.0</td>\n",
       "      <td>41.378109</td>\n",
       "      <td>2.169838</td>\n",
       "      <td>0.057454</td>\n",
       "    </tr>\n",
       "    <tr>\n",
       "      <th>4</th>\n",
       "      <td>58f75b849ebfacefa7df7624</td>\n",
       "      <td>NaN</td>\n",
       "      <td>4</td>\n",
       "      <td>{\"Wireless Internet\",Kitchen,\"Smoking allowed\"...</td>\n",
       "      <td>5</td>\n",
       "      <td>329</td>\n",
       "      <td>28</td>\n",
       "      <td>58</td>\n",
       "      <td>2.0</td>\n",
       "      <td>Real Bed</td>\n",
       "      <td>...</td>\n",
       "      <td>0</td>\n",
       "      <td>0</td>\n",
       "      <td>0</td>\n",
       "      <td>1</td>\n",
       "      <td>0</td>\n",
       "      <td>Teatro Romea</td>\n",
       "      <td>5.0</td>\n",
       "      <td>41.380562</td>\n",
       "      <td>2.171060</td>\n",
       "      <td>0.049501</td>\n",
       "    </tr>\n",
       "  </tbody>\n",
       "</table>\n",
       "<p>5 rows × 149 columns</p>\n",
       "</div>"
      ],
      "text/plain": [
       "                        _id  access  accommodates  \\\n",
       "0  58f75b849ebfacefa7df7620     NaN             2   \n",
       "1  58f75b849ebfacefa7df7621     NaN             2   \n",
       "2  58f75b849ebfacefa7df7622     NaN             2   \n",
       "3  58f75b849ebfacefa7df7623     NaN             2   \n",
       "4  58f75b849ebfacefa7df7624     NaN             4   \n",
       "\n",
       "                                           amenities  availability_30  \\\n",
       "0  {TV,Internet,\"Wireless Internet\",Kitchen,Break...               29   \n",
       "1  {TV,\"Cable TV\",Internet,\"Wireless Internet\",\"A...               26   \n",
       "2  {Internet,\"Wireless Internet\",\"Wheelchair acce...               28   \n",
       "3  {Internet,\"Wireless Internet\",Kitchen,\"Smoking...                0   \n",
       "4  {\"Wireless Internet\",Kitchen,\"Smoking allowed\"...                5   \n",
       "\n",
       "   availability_365  availability_60  availability_90  bathrooms  bed_type  \\\n",
       "0               364               59               89        1.0  Real Bed   \n",
       "1                86               56               86        1.0  Real Bed   \n",
       "2                88               58               88        1.0  Real Bed   \n",
       "3               158                0                0        1.0  Real Bed   \n",
       "4               329               28               58        2.0  Real Bed   \n",
       "\n",
       "         ...         \"Free parking on premises\"  Heating  \"Hair dryer\"  \\\n",
       "0        ...                                  0        1             1   \n",
       "1        ...                                  0        1             1   \n",
       "2        ...                                  0        1             1   \n",
       "3        ...                                  0        0             0   \n",
       "4        ...                                  0        0             0   \n",
       "\n",
       "  \"Smoking allowed\" \"Private living room\"          nearest_attr  \\\n",
       "0                 0                     0  Cat, Fernando Botero   \n",
       "1                 0                     0    Articket Barcelona   \n",
       "2                 0                     0     Arts Santa Monica   \n",
       "3                 1                     0  Cat, Fernando Botero   \n",
       "4                 1                     0          Teatro Romea   \n",
       "\n",
       "  nearest_attr_rating  nearest_attr_lat nearest_attr_long nearest_attr_dist  \n",
       "0                 4.0         41.378109          2.169838          0.116424  \n",
       "1                 4.0         41.382950          2.167290          0.075337  \n",
       "2                 4.0         41.377441          2.175973          0.129260  \n",
       "3                 4.0         41.378109          2.169838          0.057454  \n",
       "4                 5.0         41.380562          2.171060          0.049501  \n",
       "\n",
       "[5 rows x 149 columns]"
      ]
     },
     "execution_count": 44,
     "metadata": {},
     "output_type": "execute_result"
    }
   ],
   "source": [
    "listings_df2.head()"
   ]
  },
  {
   "cell_type": "code",
   "execution_count": 45,
   "metadata": {
    "collapsed": true
   },
   "outputs": [],
   "source": [
    "#listings_df2.to_csv(\"listings_31Mar.csv\")"
   ]
  },
  {
   "cell_type": "code",
   "execution_count": null,
   "metadata": {
    "collapsed": true
   },
   "outputs": [],
   "source": []
  }
 ],
 "metadata": {
  "anaconda-cloud": {},
  "kernelspec": {
   "display_name": "Python [default]",
   "language": "python",
   "name": "python3"
  },
  "language_info": {
   "codemirror_mode": {
    "name": "ipython",
    "version": 3
   },
   "file_extension": ".py",
   "mimetype": "text/x-python",
   "name": "python",
   "nbconvert_exporter": "python",
   "pygments_lexer": "ipython3",
   "version": "3.5.2"
  }
 },
 "nbformat": 4,
 "nbformat_minor": 1
}
