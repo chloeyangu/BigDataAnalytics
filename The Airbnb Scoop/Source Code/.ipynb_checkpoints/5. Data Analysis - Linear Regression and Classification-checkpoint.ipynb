{
 "cells": [
  {
   "cell_type": "markdown",
   "metadata": {},
   "source": [
    "### From Command Line - Import CSV file (From Data Preparation Part 2) into MongoDB\n",
    "\n",
    "#### mongoimport --db airbnb --type csv --file preprocessed_data_1_Apr.csv --headerline -c Listing"
   ]
  },
  {
   "cell_type": "code",
   "execution_count": 30,
   "metadata": {
    "collapsed": false
   },
   "outputs": [],
   "source": [
    "from pymongo import MongoClient"
   ]
  },
  {
   "cell_type": "code",
   "execution_count": 39,
   "metadata": {
    "collapsed": false
   },
   "outputs": [
    {
     "name": "stderr",
     "output_type": "stream",
     "text": [
      "/Applications/anaconda/lib/python3.5/site-packages/sklearn/cross_validation.py:44: DeprecationWarning: This module was deprecated in version 0.18 in favor of the model_selection module into which all the refactored classes and functions are moved. Also note that the interface of the new CV iterators are different from that of this module. This module will be removed in 0.20.\n",
      "  \"This module will be removed in 0.20.\", DeprecationWarning)\n"
     ]
    }
   ],
   "source": [
    "from sklearn.linear_model import LinearRegression\n",
    "from sklearn.cross_validation import train_test_split\n",
    "from sklearn.metrics import mean_squared_error\n",
    "import statsmodels.api as sm\n",
    "import numpy as np"
   ]
  },
  {
   "cell_type": "code",
   "execution_count": 31,
   "metadata": {
    "collapsed": true
   },
   "outputs": [],
   "source": [
    "import pandas as pd"
   ]
  },
  {
   "cell_type": "markdown",
   "metadata": {},
   "source": [
    "# Connect Python to MongoDB"
   ]
  },
  {
   "cell_type": "code",
   "execution_count": 32,
   "metadata": {
    "collapsed": true
   },
   "outputs": [],
   "source": [
    "client = MongoClient()"
   ]
  },
  {
   "cell_type": "code",
   "execution_count": 33,
   "metadata": {
    "collapsed": true
   },
   "outputs": [],
   "source": [
    "client = MongoClient('localhost', 27017)"
   ]
  },
  {
   "cell_type": "markdown",
   "metadata": {},
   "source": [
    "# Retrieve from Database\n",
    "###### Database named as \"airbnb\""
   ]
  },
  {
   "cell_type": "code",
   "execution_count": 34,
   "metadata": {
    "collapsed": true
   },
   "outputs": [],
   "source": [
    "db = client.airbnb"
   ]
  },
  {
   "cell_type": "code",
   "execution_count": 35,
   "metadata": {
    "collapsed": false
   },
   "outputs": [],
   "source": [
    "cursor = db.Listing.find()"
   ]
  },
  {
   "cell_type": "markdown",
   "metadata": {},
   "source": [
    "###### Store data in pandas dataframe for analysis and preprocesssing"
   ]
  },
  {
   "cell_type": "code",
   "execution_count": 37,
   "metadata": {
    "collapsed": false
   },
   "outputs": [],
   "source": [
    "data = pd.DataFrame(list(cursor))"
   ]
  },
  {
   "cell_type": "code",
   "execution_count": 88,
   "metadata": {
    "collapsed": false
   },
   "outputs": [
    {
     "data": {
      "text/html": [
       "<div>\n",
       "<table border=\"1\" class=\"dataframe\">\n",
       "  <thead>\n",
       "    <tr style=\"text-align: right;\">\n",
       "      <th></th>\n",
       "      <th></th>\n",
       "      <th>24-hour check-in</th>\n",
       "      <th>Air conditioning</th>\n",
       "      <th>Breakfast</th>\n",
       "      <th>Cable TV</th>\n",
       "      <th>Elevator in building</th>\n",
       "      <th>Family/kid friendly</th>\n",
       "      <th>Free parking on premises</th>\n",
       "      <th>Free parking on street</th>\n",
       "      <th>Gym</th>\n",
       "      <th>...</th>\n",
       "      <th>review_scores_cleanliness</th>\n",
       "      <th>review_scores_communication</th>\n",
       "      <th>review_scores_location</th>\n",
       "      <th>review_scores_rating</th>\n",
       "      <th>review_scores_value</th>\n",
       "      <th>reviews_per_month</th>\n",
       "      <th>roomtype_Entire home/apt</th>\n",
       "      <th>roomtype_Private room</th>\n",
       "      <th>roomtype_Shared room</th>\n",
       "      <th>security_deposit</th>\n",
       "    </tr>\n",
       "  </thead>\n",
       "  <tbody>\n",
       "    <tr>\n",
       "      <th>0</th>\n",
       "      <td>0</td>\n",
       "      <td>1</td>\n",
       "      <td>0</td>\n",
       "      <td>1</td>\n",
       "      <td>0</td>\n",
       "      <td>1</td>\n",
       "      <td>0</td>\n",
       "      <td>0</td>\n",
       "      <td>0</td>\n",
       "      <td>0</td>\n",
       "      <td>...</td>\n",
       "      <td>10</td>\n",
       "      <td>10</td>\n",
       "      <td>10</td>\n",
       "      <td>95</td>\n",
       "      <td>10</td>\n",
       "      <td>2.87</td>\n",
       "      <td>0.0</td>\n",
       "      <td>1.0</td>\n",
       "      <td>0.0</td>\n",
       "      <td>100</td>\n",
       "    </tr>\n",
       "    <tr>\n",
       "      <th>1</th>\n",
       "      <td>1</td>\n",
       "      <td>0</td>\n",
       "      <td>1</td>\n",
       "      <td>1</td>\n",
       "      <td>1</td>\n",
       "      <td>1</td>\n",
       "      <td>0</td>\n",
       "      <td>0</td>\n",
       "      <td>0</td>\n",
       "      <td>0</td>\n",
       "      <td>...</td>\n",
       "      <td>10</td>\n",
       "      <td>10</td>\n",
       "      <td>10</td>\n",
       "      <td>95</td>\n",
       "      <td>9</td>\n",
       "      <td>3.12</td>\n",
       "      <td>0.0</td>\n",
       "      <td>1.0</td>\n",
       "      <td>0.0</td>\n",
       "      <td>200</td>\n",
       "    </tr>\n",
       "    <tr>\n",
       "      <th>2</th>\n",
       "      <td>2</td>\n",
       "      <td>0</td>\n",
       "      <td>0</td>\n",
       "      <td>0</td>\n",
       "      <td>0</td>\n",
       "      <td>1</td>\n",
       "      <td>1</td>\n",
       "      <td>0</td>\n",
       "      <td>0</td>\n",
       "      <td>0</td>\n",
       "      <td>...</td>\n",
       "      <td>5</td>\n",
       "      <td>8</td>\n",
       "      <td>9</td>\n",
       "      <td>65</td>\n",
       "      <td>7</td>\n",
       "      <td>1.14</td>\n",
       "      <td>0.0</td>\n",
       "      <td>1.0</td>\n",
       "      <td>0.0</td>\n",
       "      <td>0</td>\n",
       "    </tr>\n",
       "    <tr>\n",
       "      <th>3</th>\n",
       "      <td>3</td>\n",
       "      <td>0</td>\n",
       "      <td>0</td>\n",
       "      <td>0</td>\n",
       "      <td>0</td>\n",
       "      <td>0</td>\n",
       "      <td>0</td>\n",
       "      <td>0</td>\n",
       "      <td>0</td>\n",
       "      <td>0</td>\n",
       "      <td>...</td>\n",
       "      <td>10</td>\n",
       "      <td>9</td>\n",
       "      <td>9</td>\n",
       "      <td>92</td>\n",
       "      <td>9</td>\n",
       "      <td>1.42</td>\n",
       "      <td>0.0</td>\n",
       "      <td>1.0</td>\n",
       "      <td>0.0</td>\n",
       "      <td>100</td>\n",
       "    </tr>\n",
       "    <tr>\n",
       "      <th>4</th>\n",
       "      <td>4</td>\n",
       "      <td>0</td>\n",
       "      <td>0</td>\n",
       "      <td>0</td>\n",
       "      <td>0</td>\n",
       "      <td>1</td>\n",
       "      <td>0</td>\n",
       "      <td>0</td>\n",
       "      <td>0</td>\n",
       "      <td>0</td>\n",
       "      <td>...</td>\n",
       "      <td>8</td>\n",
       "      <td>9</td>\n",
       "      <td>9</td>\n",
       "      <td>88</td>\n",
       "      <td>9</td>\n",
       "      <td>1.05</td>\n",
       "      <td>0.0</td>\n",
       "      <td>1.0</td>\n",
       "      <td>0.0</td>\n",
       "      <td>0</td>\n",
       "    </tr>\n",
       "  </tbody>\n",
       "</table>\n",
       "<p>5 rows × 77 columns</p>\n",
       "</div>"
      ],
      "text/plain": [
       "      24-hour check-in  Air conditioning  Breakfast  Cable TV  \\\n",
       "0  0                 1                 0          1         0   \n",
       "1  1                 0                 1          1         1   \n",
       "2  2                 0                 0          0         0   \n",
       "3  3                 0                 0          0         0   \n",
       "4  4                 0                 0          0         0   \n",
       "\n",
       "   Elevator in building  Family/kid friendly  Free parking on premises  \\\n",
       "0                     1                    0                         0   \n",
       "1                     1                    0                         0   \n",
       "2                     1                    1                         0   \n",
       "3                     0                    0                         0   \n",
       "4                     1                    0                         0   \n",
       "\n",
       "   Free parking on street  Gym        ...         review_scores_cleanliness  \\\n",
       "0                       0    0        ...                                10   \n",
       "1                       0    0        ...                                10   \n",
       "2                       0    0        ...                                 5   \n",
       "3                       0    0        ...                                10   \n",
       "4                       0    0        ...                                 8   \n",
       "\n",
       "   review_scores_communication  review_scores_location  review_scores_rating  \\\n",
       "0                           10                      10                    95   \n",
       "1                           10                      10                    95   \n",
       "2                            8                       9                    65   \n",
       "3                            9                       9                    92   \n",
       "4                            9                       9                    88   \n",
       "\n",
       "   review_scores_value  reviews_per_month  roomtype_Entire home/apt  \\\n",
       "0                   10               2.87                       0.0   \n",
       "1                    9               3.12                       0.0   \n",
       "2                    7               1.14                       0.0   \n",
       "3                    9               1.42                       0.0   \n",
       "4                    9               1.05                       0.0   \n",
       "\n",
       "   roomtype_Private room  roomtype_Shared room  security_deposit  \n",
       "0                    1.0                   0.0               100  \n",
       "1                    1.0                   0.0               200  \n",
       "2                    1.0                   0.0                 0  \n",
       "3                    1.0                   0.0               100  \n",
       "4                    1.0                   0.0                 0  \n",
       "\n",
       "[5 rows x 77 columns]"
      ]
     },
     "execution_count": 88,
     "metadata": {},
     "output_type": "execute_result"
    }
   ],
   "source": [
    "data.head()"
   ]
  },
  {
   "cell_type": "code",
   "execution_count": 91,
   "metadata": {
    "collapsed": true
   },
   "outputs": [],
   "source": [
    "df_dummies = data[['host_response_rate', 'host_is_superhost',\n",
    "       'host_total_listings_count', 'host_has_profile_pic',\n",
    "       'host_identity_verified', 'accommodates', 'bathrooms', 'bedrooms',\n",
    "       'beds', 'price', 'security_deposit', 'cleaning_fee', 'guests_included',\n",
    "       'extra_people', 'minimum_nights', 'maximum_nights', 'availability_365',\n",
    "       'number_of_reviews', 'review_scores_rating', 'review_scores_accuracy',\n",
    "       'review_scores_cleanliness', 'review_scores_checkin',\n",
    "       'review_scores_communication', 'review_scores_location',\n",
    "       'review_scores_value', 'instant_bookable',\n",
    "       'require_guest_profile_picture', 'require_guest_phone_verification',\n",
    "       'reviews_per_month', 'nearest_attr_dist', 'nearest_attr_rating',\n",
    "       '24-hour check-in', 'Family/kid friendly', 'Heating', 'Pets allowed',\n",
    "       'Internet', 'Smoking allowed', 'Suitable for events',\n",
    "       'Free parking on premises', 'Pool', 'Private entrance',\n",
    "       'Lock on bedroom door', 'Wheelchair accessible', 'TV',\n",
    "       'Indoor fireplace', 'Private living room', 'Pets live on this property',\n",
    "       'Elevator in building', 'Free parking on street',\n",
    "       'Paid parking off premises', 'Other pet(s)', 'Gym', 'Air conditioning',\n",
    "       'Kitchen', 'Cable TV', 'Breakfast', 'host_since_days',\n",
    "       'neighbourhood_Ciutat Vella', 'neighbourhood_Eixample',\n",
    "       'neighbourhood_Gràcia', 'neighbourhood_Horta-Guinardó',\n",
    "       'neighbourhood_Les Corts', 'neighbourhood_Nou Barris',\n",
    "       'neighbourhood_Sant Andreu', 'neighbourhood_Sant Martí',\n",
    "       'neighbourhood_Sants-Montjuïc', 'neighbourhood_Sarrià-Sant Gervasi',\n",
    "       'roomtype_Entire home/apt', 'roomtype_Private room',\n",
    "       'roomtype_Shared room', 'cancellation_policy_flexible',\n",
    "       'cancellation_policy_moderate', 'cancellation_policy_strict',\n",
    "       'cancellation_policy_super_strict_30',\n",
    "       'cancellation_policy_super_strict_60']]"
   ]
  },
  {
   "cell_type": "code",
   "execution_count": 92,
   "metadata": {
    "collapsed": true
   },
   "outputs": [],
   "source": [
    "dataframe = df_dummies.dropna()"
   ]
  },
  {
   "cell_type": "code",
   "execution_count": 93,
   "metadata": {
    "collapsed": true
   },
   "outputs": [],
   "source": [
    "df_dummies1 = dataframe[[\n",
    "        'accommodates', 'bathrooms', 'bedrooms',\n",
    "       'beds', 'security_deposit', 'cleaning_fee', 'guests_included',\n",
    "       'extra_people', 'minimum_nights', 'maximum_nights', 'availability_365',\n",
    "       'instant_bookable','nearest_attr_dist', 'nearest_attr_rating',\n",
    "       '24-hour check-in', 'Family/kid friendly', 'Heating', 'Pets allowed',\n",
    "       'Internet', 'Smoking allowed', 'Suitable for events',\n",
    "       'Free parking on premises', 'Pool', 'Private entrance',\n",
    "       'Lock on bedroom door', 'Wheelchair accessible', 'TV',\n",
    "       'Indoor fireplace', 'Private living room', 'Pets live on this property',\n",
    "       'Elevator in building', 'Free parking on street',\n",
    "       'Paid parking off premises', 'Other pet(s)', 'Gym', 'Air conditioning',\n",
    "       'Kitchen', 'Cable TV', 'Breakfast', \n",
    "       'neighbourhood_Ciutat Vella', 'neighbourhood_Eixample',\n",
    "       'neighbourhood_Gràcia', 'neighbourhood_Horta-Guinardó',\n",
    "       'neighbourhood_Les Corts', 'neighbourhood_Nou Barris',\n",
    "       'neighbourhood_Sant Andreu', 'neighbourhood_Sant Martí',\n",
    "       'neighbourhood_Sants-Montjuïc', 'neighbourhood_Sarrià-Sant Gervasi',\n",
    "       'roomtype_Entire home/apt', 'roomtype_Private room',\n",
    "       'roomtype_Shared room', 'cancellation_policy_flexible',\n",
    "       'cancellation_policy_moderate', 'cancellation_policy_strict',\n",
    "       'cancellation_policy_super_strict_30',\n",
    "       'cancellation_policy_super_strict_60']]\n",
    "#'host_response_rate', 'host_is_superhost','number_of_reviews''host_since_days'"
   ]
  },
  {
   "cell_type": "markdown",
   "metadata": {},
   "source": [
    "# Linear Regression"
   ]
  },
  {
   "cell_type": "code",
   "execution_count": 95,
   "metadata": {
    "collapsed": true
   },
   "outputs": [],
   "source": [
    "y = dataframe[\"price\"]\n",
    "X = df_dummies1"
   ]
  },
  {
   "cell_type": "code",
   "execution_count": 96,
   "metadata": {
    "collapsed": true
   },
   "outputs": [],
   "source": [
    "lm = LinearRegression()"
   ]
  },
  {
   "cell_type": "markdown",
   "metadata": {},
   "source": [
    "###### Split data into training and testing data + fit into Linear Regression Model"
   ]
  },
  {
   "cell_type": "code",
   "execution_count": 97,
   "metadata": {
    "collapsed": false
   },
   "outputs": [
    {
     "name": "stderr",
     "output_type": "stream",
     "text": [
      "/Applications/anaconda/lib/python3.5/site-packages/scipy/linalg/basic.py:1018: RuntimeWarning: internal gelsd driver lwork query error, required iwork dimension not returned. This is likely the result of LAPACK bug 0038, fixed in LAPACK 3.2.2 (released July 21, 2010). Falling back to 'gelss' driver.\n",
      "  warnings.warn(mesg, RuntimeWarning)\n"
     ]
    }
   ],
   "source": [
    "X_train, X_test, y_train, y_test = train_test_split(X, y, random_state=1)\n",
    "lm.fit(X_train, y_train)\n",
    "pred_train = lm.predict(X_train)\n",
    "pred_test = lm.predict(X_test)"
   ]
  },
  {
   "cell_type": "code",
   "execution_count": 98,
   "metadata": {
    "collapsed": false
   },
   "outputs": [
    {
     "name": "stdout",
     "output_type": "stream",
     "text": [
      "MSE: 3823.02339645\n",
      "r square: 0.41162589796\n",
      "r square adj: 0.408170935169\n"
     ]
    }
   ],
   "source": [
    "print(\"MSE:\",mean_squared_error(pred_test,y_test))\n",
    "r=lm.score(X_train,y_train) ## or sklearn.metrics.r2_score(y_test,pred_test)\n",
    "N = X_train.shape[0]\n",
    "n_predictors = len(X_train.iloc[0])\n",
    "r_square_adj = 1-((1-r)*(N-1)/(N-n_predictors-1))\n",
    "print(\"r square:\", r)\n",
    "print(\"r square adj:\", r_square_adj)"
   ]
  },
  {
   "cell_type": "markdown",
   "metadata": {},
   "source": [
    "###### Linear Regression Results "
   ]
  },
  {
   "cell_type": "code",
   "execution_count": 99,
   "metadata": {
    "collapsed": false
   },
   "outputs": [
    {
     "name": "stdout",
     "output_type": "stream",
     "text": [
      "                            OLS Regression Results                            \n",
      "==============================================================================\n",
      "Dep. Variable:                      y   R-squared:                       0.412\n",
      "Model:                            OLS   Adj. R-squared:                  0.408\n",
      "Method:                 Least Squares   F-statistic:                     128.2\n",
      "Date:                Sun, 09 Apr 2017   Prob (F-statistic):               0.00\n",
      "Time:                        20:23:38   Log-Likelihood:                -54982.\n",
      "No. Observations:                9765   AIC:                         1.101e+05\n",
      "Df Residuals:                    9711   BIC:                         1.105e+05\n",
      "Df Model:                          53                                         \n",
      "Covariance Type:            nonrobust                                         \n",
      "==============================================================================\n",
      "                 coef    std err          t      P>|t|      [95.0% Conf. Int.]\n",
      "------------------------------------------------------------------------------\n",
      "x1             4.8785      0.805      6.059      0.000         3.300     6.457\n",
      "x2            18.5676      1.366     13.589      0.000        15.889    21.246\n",
      "x3            17.8359      1.268     14.070      0.000        15.351    20.321\n",
      "x4            -0.9345      0.833     -1.121      0.262        -2.568     0.699\n",
      "x5             0.0542      0.006      9.807      0.000         0.043     0.065\n",
      "x6             0.2435      0.035      6.981      0.000         0.175     0.312\n",
      "x7             2.4058      0.686      3.508      0.000         1.061     3.750\n",
      "x8            -0.4537      0.069     -6.586      0.000        -0.589    -0.319\n",
      "x9            -0.3481      0.112     -3.120      0.002        -0.567    -0.129\n",
      "x10        -3.018e-08   2.27e-08     -1.332      0.183     -7.46e-08  1.42e-08\n",
      "x11        -4.975e-05      0.006     -0.009      0.993        -0.011     0.011\n",
      "x12           -0.9282      1.558     -0.596      0.551        -3.982     2.126\n",
      "x13          -33.7995      5.187     -6.516      0.000       -43.967   -23.632\n",
      "x14           -1.6189      1.159     -1.397      0.163        -3.891     0.653\n",
      "x15            1.8765      1.605      1.169      0.242        -1.270     5.023\n",
      "x16           -5.2066      1.673     -3.111      0.002        -8.487    -1.926\n",
      "x17            1.0416      1.811      0.575      0.565        -2.508     4.591\n",
      "x18            2.4265      2.021      1.201      0.230        -1.534     6.387\n",
      "x19           -5.6857      1.508     -3.771      0.000        -8.641    -2.730\n",
      "x20           -3.4942      1.590     -2.197      0.028        -6.611    -0.377\n",
      "x21            4.4982      3.348      1.344      0.179        -2.064    11.061\n",
      "x22           -2.4515      3.626     -0.676      0.499        -9.560     4.657\n",
      "x23           42.4164      5.179      8.190      0.000        32.264    52.569\n",
      "const       8.274e-12    4.6e-11      0.180      0.857     -8.19e-11  9.84e-11\n",
      "x24            0.7599      2.946      0.258      0.796        -5.016     6.536\n",
      "x25           -0.3734      2.266     -0.165      0.869        -4.815     4.068\n",
      "x26           -1.6324      1.707     -0.956      0.339        -4.978     1.713\n",
      "x27           14.4822      5.205      2.782      0.005         4.279    24.685\n",
      "x28          -16.5992     33.931     -0.489      0.625       -83.111    49.913\n",
      "x29            1.3879      2.639      0.526      0.599        -3.785     6.560\n",
      "x30            5.2000      1.616      3.218      0.001         2.032     8.368\n",
      "x31           25.5241     27.965      0.913      0.361       -29.294    80.342\n",
      "x32          -26.2918     47.964     -0.548      0.584      -120.312    67.728\n",
      "x33            1.3137     15.006      0.088      0.930       -28.102    30.729\n",
      "x34           40.3075      7.864      5.126      0.000        24.892    55.723\n",
      "x35            7.4940      1.742      4.303      0.000         4.080    10.908\n",
      "x36           -0.1596      2.629     -0.061      0.952        -5.314     4.995\n",
      "x37           13.1901      2.141      6.161      0.000         8.994    17.386\n",
      "x38            1.2332      2.490      0.495      0.620        -3.647     6.113\n",
      "x39            0.9130      2.669      0.342      0.732        -4.318     6.144\n",
      "x40            0.7601      2.520      0.302      0.763        -4.181     5.701\n",
      "x41           -7.3887      2.783     -2.655      0.008       -12.844    -1.934\n",
      "x42           -2.8443      4.170     -0.682      0.495       -11.018     5.329\n",
      "x43          -10.6387      5.152     -2.065      0.039       -20.737    -0.540\n",
      "x44            5.8096      6.813      0.853      0.394        -7.544    19.164\n",
      "x45          -15.3820      5.507     -2.793      0.005       -26.177    -4.587\n",
      "x46            3.1419      2.880      1.091      0.275        -2.504     8.788\n",
      "x47          -10.2549      2.793     -3.672      0.000       -15.730    -4.780\n",
      "x48           -7.1872      4.021     -1.788      0.074       -15.068     0.694\n",
      "x49           11.4153      6.300      1.812      0.070        -0.933    23.764\n",
      "x50          -16.1267      6.106     -2.641      0.008       -28.096    -4.157\n",
      "x51          -38.3598      8.302     -4.621      0.000       -54.633   -22.087\n",
      "x52           19.2004      7.099      2.705      0.007         5.284    33.117\n",
      "x53           15.4911      7.095      2.183      0.029         1.583    29.399\n",
      "x54           17.7116      7.067      2.506      0.012         3.858    31.565\n",
      "x55          -41.8015     25.003     -1.672      0.095       -90.812     7.209\n",
      "x56          -53.6727     34.312     -1.564      0.118      -120.931    13.585\n",
      "==============================================================================\n",
      "Omnibus:                    22556.053   Durbin-Watson:                   2.061\n",
      "Prob(Omnibus):                  0.000   Jarque-Bera (JB):        471550190.955\n",
      "Skew:                          22.054   Prob(JB):                         0.00\n",
      "Kurtosis:                    1078.644   Cond. No.                     9.02e+15\n",
      "==============================================================================\n",
      "\n",
      "Warnings:\n",
      "[1] Standard Errors assume that the covariance matrix of the errors is correctly specified.\n",
      "[2] The smallest eigenvalue is 1.13e-13. This might indicate that there are\n",
      "strong multicollinearity problems or that the design matrix is singular.\n"
     ]
    }
   ],
   "source": [
    "X_train_constant = sm.add_constant(X_train)\n",
    "est = sm.OLS(np.asarray(y_train), np.asarray(X_train_constant))\n",
    "est2 = est.fit()\n",
    "print(est2.summary())"
   ]
  },
  {
   "cell_type": "markdown",
   "metadata": {},
   "source": [
    "# Feature Selection"
   ]
  },
  {
   "cell_type": "code",
   "execution_count": 100,
   "metadata": {
    "collapsed": true
   },
   "outputs": [],
   "source": [
    "%matplotlib inline\n",
    "import pandas as pd\n",
    "import numpy as np\n",
    "import itertools\n",
    "import time\n",
    "import statsmodels.api as sm\n",
    "import matplotlib.pyplot as plt\n",
    "from sklearn.linear_model import LinearRegression\n",
    "from sklearn.cross_validation import train_test_split"
   ]
  },
  {
   "cell_type": "code",
   "execution_count": 140,
   "metadata": {
    "collapsed": true
   },
   "outputs": [],
   "source": [
    "y = dataframe[\"price\"]\n",
    "X = df_dummies1"
   ]
  },
  {
   "cell_type": "markdown",
   "metadata": {},
   "source": [
    "###### Define Forward and Backward Selection codes"
   ]
  },
  {
   "cell_type": "code",
   "execution_count": 141,
   "metadata": {
    "collapsed": true
   },
   "outputs": [],
   "source": [
    "def processSubset(feature_set):\n",
    "# Fit model on feature_set and calculate RSS\n",
    "    lm = LinearRegression()\n",
    "    lm.fit(X[feature_set], y)\n",
    "    #RSS = ((regr.predict(X[list(feature_set)]) - np.mean(y)) ** 2).sum()\n",
    "    r = lm.score(X[feature_set], y)\n",
    "    #adjr =regr.rsquared_adj\n",
    "    return {\"Predictors\": feature_set, \"model\":lm, \"Rsquared\":r}"
   ]
  },
  {
   "cell_type": "code",
   "execution_count": 142,
   "metadata": {
    "collapsed": true
   },
   "outputs": [],
   "source": [
    "def getBest(k, colsToKeep = [], colsToDrop = []):\n",
    "    tic = time.time()\n",
    "    newX = X.drop((colsToDrop+colsToKeep), axis=1)\n",
    "    results = []\n",
    "    for combo in itertools.combinations(newX, k):\n",
    "        results.append(processSubset(list(combo)+colsToKeep)) # Wrap everything up in a nice dataframe\n",
    "    models = pd.DataFrame(results)\n",
    "# Choose the model with the highest RSS\n",
    "    best_model = models.loc[models[\"Rsquared\"].argmax()]\n",
    "    toc = time.time()\n",
    "    #print(best_model[\"Predictors\"])\n",
    "    print(best_model[\"Rsquared\"])\n",
    "    #print(best_model[\"adjRsquared\"])\n",
    "    print(\"Processed \", models.shape[0], \"models on\", k+len(colsToKeep), \"predictors in\", (toc-tic), \"seconds.\") \n",
    "    # Return the best model, along with some other useful information about the model\n",
    "    return best_model"
   ]
  },
  {
   "cell_type": "code",
   "execution_count": 143,
   "metadata": {
    "collapsed": true
   },
   "outputs": [],
   "source": [
    "def forward(criteria):\n",
    "    tic = time.time()\n",
    "    minchange = criteria\n",
    "    predictors = []\n",
    "    r = 0\n",
    "    best_model = {}\n",
    "    while len(predictors) < len(X.columns):\n",
    "        model = getBest(1,predictors, [])\n",
    "        modelr = model[\"Rsquared\"]\n",
    "        if (modelr-r<criteria):\n",
    "            break\n",
    "        best_model = model\n",
    "        predictors = model[\"Predictors\"]\n",
    "        r = modelr\n",
    "    toc = time.time()\n",
    "    print(\"Forward Selction: \", (toc-tic), \"seconds\")\n",
    "    return best_model"
   ]
  },
  {
   "cell_type": "code",
   "execution_count": 144,
   "metadata": {
    "collapsed": true
   },
   "outputs": [],
   "source": [
    "def backward(criteria):\n",
    "# Pull out predictors we still need to process\n",
    "    tic = time.time()\n",
    "    minchange = criteria\n",
    "    lm = LinearRegression()\n",
    "    lm.fit(X, y)\n",
    "    r = lm.score(X, y)\n",
    "    predictors = X.columns\n",
    "    colsToDrop = []\n",
    "    best_model = {\"Predictors\": X.columns, \"model\":lm, \"Rsquared\":r}\n",
    "    while len(predictors) > 0:\n",
    "        model = getBest((len(predictors)-1),[],colsToDrop)\n",
    "        modelr = model[\"Rsquared\"]\n",
    "        if (r-modelr>criteria):\n",
    "            break\n",
    "        best_model = model\n",
    "        colsToDrop.extend(list(set(predictors) - set(model[\"Predictors\"])))\n",
    "        predictors = model[\"Predictors\"]\n",
    "        r = modelr\n",
    "    toc = time.time()\n",
    "    print(\"Backward Selction: \", (toc-tic), \"seconds\")\n",
    "    return best_model"
   ]
  },
  {
   "cell_type": "code",
   "execution_count": 145,
   "metadata": {
    "collapsed": false
   },
   "outputs": [
    {
     "name": "stdout",
     "output_type": "stream",
     "text": [
      "0.298934660203\n",
      "Processed  57 models on 1 predictors in 0.146956205368042 seconds.\n",
      "0.33832403961\n",
      "Processed  56 models on 2 predictors in 0.1799790859222412 seconds.\n",
      "0.358646174217\n",
      "Processed  55 models on 3 predictors in 0.18277406692504883 seconds.\n",
      "0.371316610034\n",
      "Processed  54 models on 4 predictors in 0.1966390609741211 seconds.\n",
      "0.380066366233\n",
      "Processed  53 models on 5 predictors in 0.2458181381225586 seconds.\n",
      "0.395376821169\n",
      "Processed  52 models on 6 predictors in 0.2595219612121582 seconds.\n",
      "0.400575434741\n",
      "Processed  51 models on 7 predictors in 0.264024019241333 seconds.\n",
      "0.405839162494\n",
      "Processed  50 models on 8 predictors in 0.3078019618988037 seconds.\n",
      "0.408679716684\n",
      "Processed  49 models on 9 predictors in 0.34799695014953613 seconds.\n",
      "0.410272181177\n",
      "Processed  48 models on 10 predictors in 0.32643890380859375 seconds.\n",
      "0.411705935802\n",
      "Processed  47 models on 11 predictors in 0.3740389347076416 seconds.\n",
      "0.412816558812\n",
      "Processed  46 models on 12 predictors in 0.4386940002441406 seconds.\n",
      "0.414013934771\n",
      "Processed  45 models on 13 predictors in 0.4263601303100586 seconds.\n",
      "0.41514360785\n",
      "Processed  44 models on 14 predictors in 0.43903207778930664 seconds.\n",
      "0.415856357941\n",
      "Processed  43 models on 15 predictors in 0.4996500015258789 seconds.\n",
      "0.416520946845\n",
      "Processed  42 models on 16 predictors in 0.5092720985412598 seconds.\n",
      "0.417173570144\n",
      "Processed  41 models on 17 predictors in 0.47203493118286133 seconds.\n",
      "0.417817715093\n",
      "Processed  40 models on 18 predictors in 0.5668189525604248 seconds.\n",
      "0.418496624203\n",
      "Processed  39 models on 19 predictors in 0.5907201766967773 seconds.\n",
      "0.419069563765\n",
      "Processed  38 models on 20 predictors in 0.5899569988250732 seconds.\n",
      "0.419549358552\n",
      "Processed  37 models on 21 predictors in 0.6119301319122314 seconds.\n",
      "Forward Selction:  7.996230840682983 seconds\n"
     ]
    }
   ],
   "source": [
    "model0 = forward(0.00055) "
   ]
  },
  {
   "cell_type": "markdown",
   "metadata": {},
   "source": [
    "###### Forward Selection features selected"
   ]
  },
  {
   "cell_type": "code",
   "execution_count": 146,
   "metadata": {
    "collapsed": false
   },
   "outputs": [
    {
     "data": {
      "text/plain": [
       "['neighbourhood_Sant Andreu',\n",
       " 'Elevator in building',\n",
       " 'Internet',\n",
       " 'Indoor fireplace',\n",
       " 'Family/kid friendly',\n",
       " 'neighbourhood_Gràcia',\n",
       " 'Gym',\n",
       " 'guests_included',\n",
       " 'extra_people',\n",
       " 'Air conditioning',\n",
       " 'neighbourhood_Sants-Montjuïc',\n",
       " 'Cable TV',\n",
       " 'Pool',\n",
       " 'nearest_attr_dist',\n",
       " 'roomtype_Entire home/apt',\n",
       " 'bathrooms',\n",
       " 'security_deposit',\n",
       " 'bedrooms',\n",
       " 'cleaning_fee',\n",
       " 'accommodates']"
      ]
     },
     "execution_count": 146,
     "metadata": {},
     "output_type": "execute_result"
    }
   ],
   "source": [
    "model0[\"Predictors\"]"
   ]
  },
  {
   "cell_type": "code",
   "execution_count": 147,
   "metadata": {
    "collapsed": false
   },
   "outputs": [
    {
     "name": "stdout",
     "output_type": "stream",
     "text": [
      "0.422691201857\n",
      "Processed  57 models on 56 predictors in 3.6771469116210938 seconds.\n",
      "0.422691201857\n",
      "Processed  56 models on 55 predictors in 3.4409780502319336 seconds.\n",
      "0.422691201857\n",
      "Processed  55 models on 54 predictors in 3.111250877380371 seconds.\n",
      "0.422691201857\n",
      "Processed  54 models on 53 predictors in 3.030025005340576 seconds.\n",
      "0.422691200936\n",
      "Processed  53 models on 52 predictors in 3.3295059204101562 seconds.\n",
      "0.42269049434\n",
      "Processed  52 models on 51 predictors in 2.8878989219665527 seconds.\n",
      "0.422689406775\n",
      "Processed  51 models on 50 predictors in 2.6834959983825684 seconds.\n",
      "0.422684802128\n",
      "Processed  50 models on 49 predictors in 2.680804967880249 seconds.\n",
      "0.422679037124\n",
      "Processed  49 models on 48 predictors in 2.6422650814056396 seconds.\n",
      "0.422671576731\n",
      "Processed  48 models on 47 predictors in 2.556030035018921 seconds.\n",
      "0.422660299491\n",
      "Processed  47 models on 46 predictors in 2.3463919162750244 seconds.\n",
      "0.42264822226\n",
      "Processed  46 models on 45 predictors in 2.4494080543518066 seconds.\n",
      "0.422626156596\n",
      "Processed  45 models on 44 predictors in 2.144435167312622 seconds.\n",
      "0.422603353623\n",
      "Processed  44 models on 43 predictors in 2.0105979442596436 seconds.\n",
      "0.422579347661\n",
      "Processed  43 models on 42 predictors in 1.9088590145111084 seconds.\n",
      "0.422554162703\n",
      "Processed  42 models on 41 predictors in 1.731584072113037 seconds.\n",
      "0.422526379452\n",
      "Processed  41 models on 40 predictors in 1.6532518863677979 seconds.\n",
      "0.422496708172\n",
      "Processed  40 models on 39 predictors in 1.57368803024292 seconds.\n",
      "0.422464661268\n",
      "Processed  39 models on 38 predictors in 1.527198076248169 seconds.\n",
      "0.422429757161\n",
      "Processed  38 models on 37 predictors in 1.3817448616027832 seconds.\n",
      "0.422387802721\n",
      "Processed  37 models on 36 predictors in 1.286344051361084 seconds.\n",
      "0.42234415406\n",
      "Processed  36 models on 35 predictors in 1.246183156967163 seconds.\n",
      "0.422282363492\n",
      "Processed  35 models on 34 predictors in 1.0897390842437744 seconds.\n",
      "0.422205910762\n",
      "Processed  34 models on 33 predictors in 1.0299420356750488 seconds.\n",
      "0.422104770547\n",
      "Processed  33 models on 32 predictors in 0.8592820167541504 seconds.\n",
      "0.421981417608\n",
      "Processed  32 models on 31 predictors in 0.7988929748535156 seconds.\n",
      "0.421850987097\n",
      "Processed  31 models on 30 predictors in 0.7704031467437744 seconds.\n",
      "0.42168895409\n",
      "Processed  30 models on 29 predictors in 0.7044811248779297 seconds.\n",
      "0.421524074075\n",
      "Processed  29 models on 28 predictors in 0.6968028545379639 seconds.\n",
      "0.421388460638\n",
      "Processed  28 models on 27 predictors in 0.6877419948577881 seconds.\n",
      "0.421205556652\n",
      "Processed  27 models on 26 predictors in 0.5735280513763428 seconds.\n",
      "0.420952550107\n",
      "Processed  26 models on 25 predictors in 0.5913848876953125 seconds.\n",
      "0.420689650809\n",
      "Processed  25 models on 24 predictors in 0.4840281009674072 seconds.\n",
      "0.420360216461\n",
      "Processed  24 models on 23 predictors in 0.41344499588012695 seconds.\n",
      "0.41994314702\n",
      "Processed  23 models on 22 predictors in 0.4111771583557129 seconds.\n",
      "0.419515064023\n",
      "Processed  22 models on 21 predictors in 0.3575260639190674 seconds.\n",
      "0.41903094174\n",
      "Processed  21 models on 20 predictors in 0.34836697578430176 seconds.\n",
      "0.418386328663\n",
      "Processed  20 models on 19 predictors in 0.3024120330810547 seconds.\n",
      "Backward Selction:  61.521934032440186 seconds\n"
     ]
    }
   ],
   "source": [
    "model1 = backward(0.00055) "
   ]
  },
  {
   "cell_type": "markdown",
   "metadata": {},
   "source": [
    "###### Backward Selection features selected"
   ]
  },
  {
   "cell_type": "code",
   "execution_count": 148,
   "metadata": {
    "collapsed": false
   },
   "outputs": [
    {
     "data": {
      "text/plain": [
       "['accommodates',\n",
       " 'bathrooms',\n",
       " 'bedrooms',\n",
       " 'security_deposit',\n",
       " 'cleaning_fee',\n",
       " 'guests_included',\n",
       " 'extra_people',\n",
       " 'nearest_attr_dist',\n",
       " 'Family/kid friendly',\n",
       " 'Internet',\n",
       " 'Pool',\n",
       " 'Indoor fireplace',\n",
       " 'Elevator in building',\n",
       " 'Gym',\n",
       " 'Air conditioning',\n",
       " 'Cable TV',\n",
       " 'neighbourhood_Ciutat Vella',\n",
       " 'neighbourhood_Eixample',\n",
       " 'neighbourhood_Sant Martí',\n",
       " 'roomtype_Entire home/apt']"
      ]
     },
     "execution_count": 148,
     "metadata": {},
     "output_type": "execute_result"
    }
   ],
   "source": [
    "model1[\"Predictors\"]"
   ]
  },
  {
   "cell_type": "markdown",
   "metadata": {},
   "source": [
    "# Linear Regression after Feature Selection"
   ]
  },
  {
   "cell_type": "markdown",
   "metadata": {},
   "source": [
    "######  forward selection"
   ]
  },
  {
   "cell_type": "code",
   "execution_count": 165,
   "metadata": {
    "collapsed": false
   },
   "outputs": [],
   "source": [
    "y = dataframe[\"price\"]"
   ]
  },
  {
   "cell_type": "code",
   "execution_count": 166,
   "metadata": {
    "collapsed": true
   },
   "outputs": [],
   "source": [
    "feature_forward = dataframe[['neighbourhood_Sant Andreu',\n",
    " 'Elevator in building',\n",
    " 'Internet',\n",
    " 'Indoor fireplace',\n",
    " 'Family/kid friendly',\n",
    " 'neighbourhood_Gràcia',\n",
    " 'Gym',\n",
    " 'guests_included',\n",
    " 'extra_people',\n",
    " 'Air conditioning',\n",
    " 'neighbourhood_Sants-Montjuïc',\n",
    " 'Cable TV',\n",
    " 'Pool',\n",
    " 'nearest_attr_dist',\n",
    " 'roomtype_Entire home/apt',\n",
    " 'bathrooms',\n",
    " 'security_deposit',\n",
    " 'bedrooms',\n",
    " 'cleaning_fee',\n",
    " 'accommodates']]"
   ]
  },
  {
   "cell_type": "code",
   "execution_count": 167,
   "metadata": {
    "collapsed": false
   },
   "outputs": [],
   "source": [
    "X = feature_forward\n",
    "X_train, X_test, y_train, y_test = train_test_split(X, y, random_state=1)\n",
    "lm.fit(X_train, y_train)\n",
    "pred_train = lm.predict(X_train)\n",
    "pred_test = lm.predict(X_test)"
   ]
  },
  {
   "cell_type": "code",
   "execution_count": 168,
   "metadata": {
    "collapsed": false
   },
   "outputs": [
    {
     "name": "stdout",
     "output_type": "stream",
     "text": [
      "MSE: 3836.70226625\n",
      "r square: 0.40785432497\n",
      "r square adj: 0.406638919233\n"
     ]
    }
   ],
   "source": [
    "print(\"MSE:\",mean_squared_error(pred_test,y_test))\n",
    "r=lm.score(X_train,y_train) ## or sklearn.metrics.r2_score(y_test,pred_test)\n",
    "N = X_train.shape[0]\n",
    "n_predictors = len(X_train.iloc[0])\n",
    "r_square_adj = 1-((1-r)*(N-1)/(N-n_predictors-1))\n",
    "print(\"r square:\", r)\n",
    "print(\"r square adj:\", r_square_adj)"
   ]
  },
  {
   "cell_type": "code",
   "execution_count": 169,
   "metadata": {
    "collapsed": false
   },
   "outputs": [
    {
     "name": "stdout",
     "output_type": "stream",
     "text": [
      "                            OLS Regression Results                            \n",
      "==============================================================================\n",
      "Dep. Variable:                      y   R-squared:                       0.408\n",
      "Model:                            OLS   Adj. R-squared:                  0.407\n",
      "Method:                 Least Squares   F-statistic:                     335.6\n",
      "Date:                Sun, 09 Apr 2017   Prob (F-statistic):               0.00\n",
      "Time:                        20:35:22   Log-Likelihood:                -55013.\n",
      "No. Observations:                9765   AIC:                         1.101e+05\n",
      "Df Residuals:                    9744   BIC:                         1.102e+05\n",
      "Df Model:                          20                                         \n",
      "Covariance Type:            nonrobust                                         \n",
      "==============================================================================\n",
      "                 coef    std err          t      P>|t|      [95.0% Conf. Int.]\n",
      "------------------------------------------------------------------------------\n",
      "const         -6.0464      2.304     -2.624      0.009       -10.563    -1.530\n",
      "x1           -16.2688      5.664     -2.872      0.004       -27.371    -5.167\n",
      "x2             5.3588      1.464      3.661      0.000         2.490     8.228\n",
      "x3            -5.3549      1.445     -3.706      0.000        -8.187    -2.523\n",
      "x4            14.1791      5.154      2.751      0.006         4.077    24.281\n",
      "x5            -5.1555      1.636     -3.151      0.002        -8.362    -1.949\n",
      "x6            -7.4907      2.311     -3.242      0.001       -12.020    -2.961\n",
      "x7            40.8384      7.838      5.210      0.000        25.474    56.203\n",
      "x8             2.6258      0.681      3.854      0.000         1.290     3.961\n",
      "x9            -0.4338      0.068     -6.361      0.000        -0.567    -0.300\n",
      "x10            7.3806      1.633      4.519      0.000         4.179    10.582\n",
      "x11          -10.7909      2.185     -4.939      0.000       -15.074    -6.508\n",
      "x12           13.3200      2.126      6.266      0.000         9.153    17.487\n",
      "x13           41.1300      5.043      8.156      0.000        31.245    51.015\n",
      "x14          -34.6634      4.182     -8.289      0.000       -42.861   -26.466\n",
      "x15           27.2917      2.100     12.994      0.000        23.175    31.409\n",
      "x16           18.0918      1.336     13.542      0.000        15.473    20.711\n",
      "x17            0.0534      0.005      9.904      0.000         0.043     0.064\n",
      "x18           17.5908      1.223     14.382      0.000        15.193    19.988\n",
      "x19            0.2468      0.034      7.199      0.000         0.180     0.314\n",
      "x20            4.2241      0.591      7.143      0.000         3.065     5.383\n",
      "==============================================================================\n",
      "Omnibus:                    22446.432   Durbin-Watson:                   2.064\n",
      "Prob(Omnibus):                  0.000   Jarque-Bera (JB):        455031459.486\n",
      "Skew:                          21.795   Prob(JB):                         0.00\n",
      "Kurtosis:                    1059.625   Cond. No.                     2.29e+03\n",
      "==============================================================================\n",
      "\n",
      "Warnings:\n",
      "[1] Standard Errors assume that the covariance matrix of the errors is correctly specified.\n",
      "[2] The condition number is large, 2.29e+03. This might indicate that there are\n",
      "strong multicollinearity or other numerical problems.\n"
     ]
    }
   ],
   "source": [
    "X_train_constant = sm.add_constant(X_train)\n",
    "est = sm.OLS(np.asarray(y_train), np.asarray(X_train_constant))\n",
    "est2 = est.fit()\n",
    "print(est2.summary())"
   ]
  },
  {
   "cell_type": "markdown",
   "metadata": {},
   "source": [
    "######  backward selection\n"
   ]
  },
  {
   "cell_type": "code",
   "execution_count": 170,
   "metadata": {
    "collapsed": true
   },
   "outputs": [],
   "source": [
    "feature_backward = dataframe[['accommodates',\n",
    " 'bathrooms',\n",
    " 'bedrooms',\n",
    " 'security_deposit',\n",
    " 'cleaning_fee',\n",
    " 'guests_included',\n",
    " 'extra_people',\n",
    " 'nearest_attr_dist',\n",
    " 'Family/kid friendly',\n",
    " 'Internet',\n",
    " 'Pool',\n",
    " 'Indoor fireplace',\n",
    " 'Elevator in building',\n",
    " 'Gym',\n",
    " 'Air conditioning',\n",
    " 'Cable TV',\n",
    " 'neighbourhood_Gràcia',\n",
    " 'neighbourhood_Sant Andreu',\n",
    " 'neighbourhood_Sants-Montjuïc',\n",
    " 'roomtype_Entire home/apt']]"
   ]
  },
  {
   "cell_type": "code",
   "execution_count": 171,
   "metadata": {
    "collapsed": true
   },
   "outputs": [],
   "source": [
    "X = feature_backward\n",
    "X_train, X_test, y_train, y_test = train_test_split(X, y, random_state=1)\n",
    "lm.fit(X_train, y_train)\n",
    "pred_train = lm.predict(X_train)\n",
    "pred_test = lm.predict(X_test)"
   ]
  },
  {
   "cell_type": "code",
   "execution_count": 172,
   "metadata": {
    "collapsed": false
   },
   "outputs": [
    {
     "name": "stdout",
     "output_type": "stream",
     "text": [
      "MSE: 3836.70226625\n",
      "r square: 0.40785432497\n",
      "r square adj: 0.406638919233\n"
     ]
    }
   ],
   "source": [
    "print(\"MSE:\",mean_squared_error(pred_test,y_test))\n",
    "r=lm.score(X_train,y_train) ## or sklearn.metrics.r2_score(y_test,pred_test)\n",
    "N = X_train.shape[0]\n",
    "n_predictors = len(X_train.iloc[0])\n",
    "r_square_adj = 1-((1-r)*(N-1)/(N-n_predictors-1))\n",
    "print(\"r square:\", r)\n",
    "print(\"r square adj:\", r_square_adj)"
   ]
  },
  {
   "cell_type": "code",
   "execution_count": 173,
   "metadata": {
    "collapsed": false
   },
   "outputs": [
    {
     "name": "stdout",
     "output_type": "stream",
     "text": [
      "                            OLS Regression Results                            \n",
      "==============================================================================\n",
      "Dep. Variable:                      y   R-squared:                       0.408\n",
      "Model:                            OLS   Adj. R-squared:                  0.407\n",
      "Method:                 Least Squares   F-statistic:                     335.6\n",
      "Date:                Sun, 09 Apr 2017   Prob (F-statistic):               0.00\n",
      "Time:                        20:36:15   Log-Likelihood:                -55013.\n",
      "No. Observations:                9765   AIC:                         1.101e+05\n",
      "Df Residuals:                    9744   BIC:                         1.102e+05\n",
      "Df Model:                          20                                         \n",
      "Covariance Type:            nonrobust                                         \n",
      "==============================================================================\n",
      "                 coef    std err          t      P>|t|      [95.0% Conf. Int.]\n",
      "------------------------------------------------------------------------------\n",
      "const         -6.0464      2.304     -2.624      0.009       -10.563    -1.530\n",
      "x1             4.2241      0.591      7.143      0.000         3.065     5.383\n",
      "x2            18.0918      1.336     13.542      0.000        15.473    20.711\n",
      "x3            17.5908      1.223     14.382      0.000        15.193    19.988\n",
      "x4             0.0534      0.005      9.904      0.000         0.043     0.064\n",
      "x5             0.2468      0.034      7.199      0.000         0.180     0.314\n",
      "x6             2.6258      0.681      3.854      0.000         1.290     3.961\n",
      "x7            -0.4338      0.068     -6.361      0.000        -0.567    -0.300\n",
      "x8           -34.6634      4.182     -8.289      0.000       -42.861   -26.466\n",
      "x9            -5.1555      1.636     -3.151      0.002        -8.362    -1.949\n",
      "x10           -5.3549      1.445     -3.706      0.000        -8.187    -2.523\n",
      "x11           41.1300      5.043      8.156      0.000        31.245    51.015\n",
      "x12           14.1791      5.154      2.751      0.006         4.077    24.281\n",
      "x13            5.3588      1.464      3.661      0.000         2.490     8.228\n",
      "x14           40.8384      7.838      5.210      0.000        25.474    56.203\n",
      "x15            7.3806      1.633      4.519      0.000         4.179    10.582\n",
      "x16           13.3200      2.126      6.266      0.000         9.153    17.487\n",
      "x17           -7.4907      2.311     -3.242      0.001       -12.020    -2.961\n",
      "x18          -16.2688      5.664     -2.872      0.004       -27.371    -5.167\n",
      "x19          -10.7909      2.185     -4.939      0.000       -15.074    -6.508\n",
      "x20           27.2917      2.100     12.994      0.000        23.175    31.409\n",
      "==============================================================================\n",
      "Omnibus:                    22446.432   Durbin-Watson:                   2.064\n",
      "Prob(Omnibus):                  0.000   Jarque-Bera (JB):        455031459.486\n",
      "Skew:                          21.795   Prob(JB):                         0.00\n",
      "Kurtosis:                    1059.625   Cond. No.                     2.29e+03\n",
      "==============================================================================\n",
      "\n",
      "Warnings:\n",
      "[1] Standard Errors assume that the covariance matrix of the errors is correctly specified.\n",
      "[2] The condition number is large, 2.29e+03. This might indicate that there are\n",
      "strong multicollinearity or other numerical problems.\n"
     ]
    }
   ],
   "source": [
    "X_train_constant = sm.add_constant(X_train)\n",
    "est = sm.OLS(np.asarray(y_train), np.asarray(X_train_constant))\n",
    "est2 = est.fit()\n",
    "print(est2.summary())"
   ]
  },
  {
   "cell_type": "markdown",
   "metadata": {},
   "source": [
    "# Classification"
   ]
  },
  {
   "cell_type": "code",
   "execution_count": 174,
   "metadata": {
    "collapsed": true
   },
   "outputs": [],
   "source": [
    "import seaborn as sns"
   ]
  },
  {
   "cell_type": "code",
   "execution_count": 175,
   "metadata": {
    "collapsed": true
   },
   "outputs": [],
   "source": [
    "df_dummies = dataframe[['accommodates', 'bathrooms', 'bedrooms',\n",
    "       'beds', 'price', 'security_deposit', 'cleaning_fee', 'guests_included',\n",
    "       'extra_people', 'minimum_nights', 'maximum_nights', 'availability_365',\n",
    "       'review_scores_rating', 'review_scores_accuracy',\n",
    "       'review_scores_cleanliness', 'review_scores_checkin',\n",
    "       'review_scores_communication', 'review_scores_location',\n",
    "       'review_scores_value', 'instant_bookable',\n",
    "       'reviews_per_month', 'nearest_attr_dist', 'nearest_attr_rating',\n",
    "       'neighbourhood_Ciutat Vella', 'neighbourhood_Eixample',\n",
    "       'neighbourhood_Gràcia', 'neighbourhood_Horta-Guinardó',\n",
    "       'neighbourhood_Les Corts', 'neighbourhood_Nou Barris',\n",
    "       'neighbourhood_Sant Andreu', 'neighbourhood_Sant Martí',\n",
    "       'neighbourhood_Sants-Montjuïc', 'neighbourhood_Sarrià-Sant Gervasi',\n",
    "       'roomtype_Entire home/apt', 'roomtype_Private room',\n",
    "       'roomtype_Shared room', 'cancellation_policy_flexible',\n",
    "       'cancellation_policy_moderate', 'cancellation_policy_strict',\n",
    "       'cancellation_policy_super_strict_30',\n",
    "       'cancellation_policy_super_strict_60']]"
   ]
  },
  {
   "cell_type": "code",
   "execution_count": 176,
   "metadata": {
    "collapsed": true
   },
   "outputs": [],
   "source": [
    "X = df_dummies"
   ]
  },
  {
   "cell_type": "markdown",
   "metadata": {},
   "source": [
    "###### Boxplot to see distribution of reviews per month"
   ]
  },
  {
   "cell_type": "code",
   "execution_count": 177,
   "metadata": {
    "collapsed": true
   },
   "outputs": [],
   "source": [
    "sns.set_style(\"whitegrid\")"
   ]
  },
  {
   "cell_type": "code",
   "execution_count": 178,
   "metadata": {
    "collapsed": false
   },
   "outputs": [
    {
     "data": {
      "image/png": "[encoded data removed]",
      "text/plain": [
       "<matplotlib.figure.Figure at 0x11678f2b0>"
      ]
     },
     "metadata": {},
     "output_type": "display_data"
    }
   ],
   "source": [
    "ax = sns.boxplot(x=df_dummies[\"reviews_per_month\"])"
   ]
  },
  {
   "cell_type": "markdown",
   "metadata": {},
   "source": [
    "######  Label data as good if there are fewer than 3 reviews a month and best otherwise"
   ]
  },
  {
   "cell_type": "code",
   "execution_count": 179,
   "metadata": {
    "collapsed": true
   },
   "outputs": [],
   "source": [
    "good = [x for x in df_dummies[\"reviews_per_month\"] if x < 3]"
   ]
  },
  {
   "cell_type": "code",
   "execution_count": 180,
   "metadata": {
    "collapsed": true
   },
   "outputs": [],
   "source": [
    "best = [x for x in df_dummies[\"reviews_per_month\"] if x >= 3]"
   ]
  },
  {
   "cell_type": "code",
   "execution_count": 181,
   "metadata": {
    "collapsed": true
   },
   "outputs": [],
   "source": [
    "df = dataframe[['require_guest_profile_picture', 'require_guest_phone_verification',\n",
    "               'host_total_listings_count', 'host_has_profile_pic',\n",
    "       'host_identity_verified','host_response_rate', 'host_is_superhost','accommodates', 'bathrooms', 'bedrooms',\n",
    "       'beds', 'price', 'security_deposit', 'cleaning_fee', 'guests_included',\n",
    "       'extra_people', 'minimum_nights', 'maximum_nights', 'availability_365',\n",
    "       'review_scores_rating', 'review_scores_accuracy',\n",
    "       'review_scores_cleanliness', 'review_scores_checkin',\n",
    "       'review_scores_communication', 'review_scores_location',\n",
    "       'review_scores_value', 'instant_bookable',\n",
    "       'nearest_attr_dist', 'nearest_attr_rating',\n",
    "       'neighbourhood_Ciutat Vella', 'neighbourhood_Eixample',\n",
    "       'neighbourhood_Gràcia', 'neighbourhood_Horta-Guinardó',\n",
    "       'neighbourhood_Les Corts', 'neighbourhood_Nou Barris',\n",
    "       'neighbourhood_Sant Andreu', 'neighbourhood_Sant Martí',\n",
    "       'neighbourhood_Sants-Montjuïc', 'neighbourhood_Sarrià-Sant Gervasi',\n",
    "       'roomtype_Entire home/apt', 'roomtype_Private room',\n",
    "       'roomtype_Shared room', 'cancellation_policy_flexible',\n",
    "       'cancellation_policy_moderate', 'cancellation_policy_strict',\n",
    "       'cancellation_policy_super_strict_30',\n",
    "       'cancellation_policy_super_strict_60',\"reviews_per_month\"]]"
   ]
  },
  {
   "cell_type": "code",
   "execution_count": 182,
   "metadata": {
    "collapsed": true
   },
   "outputs": [],
   "source": [
    "cat = pd.cut(df['reviews_per_month'], bins=(0, 3, 10), include_lowest=True,labels=[0, 1])"
   ]
  },
  {
   "cell_type": "code",
   "execution_count": 183,
   "metadata": {
    "collapsed": false
   },
   "outputs": [
    {
     "name": "stderr",
     "output_type": "stream",
     "text": [
      "/Applications/anaconda/lib/python3.5/site-packages/ipykernel/__main__.py:1: SettingWithCopyWarning: \n",
      "A value is trying to be set on a copy of a slice from a DataFrame.\n",
      "Try using .loc[row_indexer,col_indexer] = value instead\n",
      "\n",
      "See the caveats in the documentation: http://pandas.pydata.org/pandas-docs/stable/indexing.html#indexing-view-versus-copy\n",
      "  if __name__ == '__main__':\n"
     ]
    }
   ],
   "source": [
    "df['class_reviews'] = cat"
   ]
  },
  {
   "cell_type": "markdown",
   "metadata": {},
   "source": [
    "######     Convert labels of good and best reviews to integer"
   ]
  },
  {
   "cell_type": "code",
   "execution_count": 184,
   "metadata": {
    "collapsed": true
   },
   "outputs": [],
   "source": [
    "low = df.loc[df['class_reviews'] == 0]"
   ]
  },
  {
   "cell_type": "code",
   "execution_count": 185,
   "metadata": {
    "collapsed": true
   },
   "outputs": [],
   "source": [
    "high = df.loc[df['class_reviews'] == 1]"
   ]
  },
  {
   "cell_type": "markdown",
   "metadata": {},
   "source": [
    "# Decision Tree"
   ]
  },
  {
   "cell_type": "code",
   "execution_count": 188,
   "metadata": {
    "collapsed": true
   },
   "outputs": [],
   "source": [
    "from sklearn import tree"
   ]
  },
  {
   "cell_type": "code",
   "execution_count": 201,
   "metadata": {
    "collapsed": true
   },
   "outputs": [],
   "source": [
    "from sklearn.cross_validation import train_test_split\n",
    "import statsmodels.api as sm\n",
    "import sklearn.metrics\n"
   ]
  },
  {
   "cell_type": "code",
   "execution_count": 212,
   "metadata": {
    "collapsed": true
   },
   "outputs": [],
   "source": [
    "clf = tree.DecisionTreeClassifier() #15"
   ]
  },
  {
   "cell_type": "markdown",
   "metadata": {},
   "source": [
    "######     GridSearch to obtain best parameters for the Decision Tree"
   ]
  },
  {
   "cell_type": "code",
   "execution_count": 226,
   "metadata": {
    "collapsed": false
   },
   "outputs": [
    {
     "name": "stdout",
     "output_type": "stream",
     "text": [
      "Best parameters: {'max_depth': 4, 'min_samples_leaf': 100, 'max_leaf_nodes': 7}\n"
     ]
    }
   ],
   "source": [
    "from sklearn.grid_search import GridSearchCV\n",
    "from sklearn.cross_validation import StratifiedKFold\n",
    "\n",
    "parameter_grid = {'max_depth': [4,5,6,7,8],\n",
    "                  \"min_samples_leaf\": [100],\n",
    "                  \"max_leaf_nodes\": [6,7,8,9,10]}\n",
    "\n",
    "cross_validation = StratifiedKFold(df.class_reviews, n_folds=10)\n",
    "\n",
    "grid_search = GridSearchCV(clf,\n",
    "                           param_grid=parameter_grid,\n",
    "                           cv=cross_validation)\n",
    "\n",
    "grid_search.fit(X, y)\n",
    "print('Best parameters: {}'.format(grid_search.best_params_))"
   ]
  },
  {
   "cell_type": "code",
   "execution_count": 227,
   "metadata": {
    "collapsed": true
   },
   "outputs": [],
   "source": [
    "clf = tree.DecisionTreeClassifier(max_depth=4,min_samples_leaf=100,max_leaf_nodes=7) #15"
   ]
  },
  {
   "cell_type": "code",
   "execution_count": 228,
   "metadata": {
    "collapsed": true
   },
   "outputs": [],
   "source": [
    "X = df[['accommodates', 'bathrooms', 'bedrooms',\n",
    "       'beds', 'price', 'security_deposit', 'cleaning_fee', 'guests_included',\n",
    "       'extra_people', 'minimum_nights', 'maximum_nights',\n",
    "       'instant_bookable',\n",
    "       'nearest_attr_dist', 'nearest_attr_rating',\n",
    "       'roomtype_Entire home/apt', 'roomtype_Private room',\n",
    "       'roomtype_Shared room', 'cancellation_policy_flexible',\n",
    "       'cancellation_policy_moderate', 'cancellation_policy_strict',\n",
    "       'cancellation_policy_super_strict_30',\n",
    "       'cancellation_policy_super_strict_60']]"
   ]
  },
  {
   "cell_type": "code",
   "execution_count": 229,
   "metadata": {
    "collapsed": true
   },
   "outputs": [],
   "source": [
    "feature_names=['accommodates', 'bathrooms', 'bedrooms',\n",
    "       'beds', 'price', 'security_deposit', 'cleaning_fee', 'guests_included',\n",
    "       'extra_people', 'minimum_nights', 'maximum_nights',\n",
    "       'instant_bookable',\n",
    "       'nearest_attr_dist', 'nearest_attr_rating',\n",
    "       'roomtype_Entire home/apt', 'roomtype_Private room',\n",
    "       'roomtype_Shared room', 'cancellation_policy_flexible',\n",
    "       'cancellation_policy_moderate', 'cancellation_policy_strict',\n",
    "       'cancellation_policy_super_strict_30',\n",
    "       'cancellation_policy_super_strict_60']\n",
    "\n"
   ]
  },
  {
   "cell_type": "code",
   "execution_count": 230,
   "metadata": {
    "collapsed": true
   },
   "outputs": [],
   "source": [
    "target_names=[\"low_popularity\",\"high_popularity\"]"
   ]
  },
  {
   "cell_type": "code",
   "execution_count": 231,
   "metadata": {
    "collapsed": true
   },
   "outputs": [],
   "source": [
    "y = df[[\"class_reviews\"]]"
   ]
  },
  {
   "cell_type": "code",
   "execution_count": 232,
   "metadata": {
    "collapsed": true
   },
   "outputs": [],
   "source": [
    "X_train, X_test, y_train, y_test = train_test_split(X, y, random_state=1)"
   ]
  },
  {
   "cell_type": "code",
   "execution_count": 233,
   "metadata": {
    "collapsed": true
   },
   "outputs": [],
   "source": [
    "clf = clf.fit(X_train, y_train)"
   ]
  },
  {
   "cell_type": "code",
   "execution_count": 234,
   "metadata": {
    "collapsed": true
   },
   "outputs": [],
   "source": [
    "pred_train = clf.predict(X_train)\n",
    "pred_test = clf.predict(X_test)"
   ]
  },
  {
   "cell_type": "code",
   "execution_count": 238,
   "metadata": {
    "collapsed": true
   },
   "outputs": [],
   "source": [
    "from IPython.display import Image  "
   ]
  },
  {
   "cell_type": "code",
   "execution_count": 239,
   "metadata": {
    "collapsed": false
   },
   "outputs": [
    {
     "data": {
      "text/plain": [
       "True"
      ]
     },
     "execution_count": 239,
     "metadata": {},
     "output_type": "execute_result"
    }
   ],
   "source": [
    "import pydotplus \n",
    "dot_data = tree.export_graphviz(clf, out_file=None) \n",
    "graph = pydotplus.graph_from_dot_data(dot_data) \n",
    "graph.write_pdf(\"airbnb.pdf\") "
   ]
  },
  {
   "cell_type": "code",
   "execution_count": 240,
   "metadata": {
    "collapsed": true
   },
   "outputs": [],
   "source": [
    "dot_data = tree.export_graphviz(clf, out_file=None, \n",
    "                         feature_names=feature_names,  \n",
    "                         class_names=target_names,  \n",
    "                         filled=True, rounded=True,  \n",
    "                         special_characters=True) "
   ]
  },
  {
   "cell_type": "code",
   "execution_count": 241,
   "metadata": {
    "collapsed": false
   },
   "outputs": [],
   "source": [
    "graph = pydotplus.graph_from_dot_data(dot_data)  "
   ]
  },
  {
   "cell_type": "code",
   "execution_count": 242,
   "metadata": {
    "collapsed": false
   },
   "outputs": [
    {
     "data": {
      "image/png": "[encoded data removed]",
      "text/plain": [
       "<IPython.core.display.Image object>"
      ]
     },
     "execution_count": 242,
     "metadata": {},
     "output_type": "execute_result"
    }
   ],
   "source": [
    "Image(graph.create_png()) "
   ]
  },
  {
   "cell_type": "code",
   "execution_count": 243,
   "metadata": {
    "collapsed": false
   },
   "outputs": [
    {
     "data": {
      "text/plain": [
       "0.81075268817204305"
      ]
     },
     "execution_count": 243,
     "metadata": {},
     "output_type": "execute_result"
    }
   ],
   "source": [
    "# Decision Tree accuracy\n",
    "clf.score(X_test, y_test)"
   ]
  },
  {
   "cell_type": "code",
   "execution_count": null,
   "metadata": {
    "collapsed": false
   },
   "outputs": [],
   "source": []
  },
  {
   "cell_type": "code",
   "execution_count": null,
   "metadata": {
    "collapsed": true
   },
   "outputs": [],
   "source": []
  }
 ],
 "metadata": {
  "anaconda-cloud": {},
  "kernelspec": {
   "display_name": "Python 3",
   "language": "python",
   "name": "python3"
  },
  "language_info": {
   "codemirror_mode": {
    "name": "ipython",
    "version": 3
   },
   "file_extension": ".py",
   "mimetype": "text/x-python",
   "name": "python",
   "nbconvert_exporter": "python",
   "pygments_lexer": "ipython3",
   "version": "3.6.0"
  }
 },
 "nbformat": 4,
 "nbformat_minor": 2
}
