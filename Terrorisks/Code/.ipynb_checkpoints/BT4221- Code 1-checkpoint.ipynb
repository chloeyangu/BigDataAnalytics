{
 "cells": [
  {
   "cell_type": "markdown",
   "metadata": {},
   "source": [
    "# Connecting to Database"
   ]
  },
  {
   "cell_type": "code",
   "execution_count": 6,
   "metadata": {
    "collapsed": false
   },
   "outputs": [
    {
     "name": "stderr",
     "output_type": "stream",
     "text": [
      "/Users/chloe/anaconda/lib/python3.6/site-packages/IPython/core/interactiveshell.py:2717: DtypeWarning: Columns (4,61,62,66,116,117,123) have mixed types. Specify dtype option on import or set low_memory=False.\n",
      "  interactivity=interactivity, compiler=compiler, result=result)\n"
     ]
    }
   ],
   "source": [
    "import pandas as pd\n",
    "import numpy as np\n",
    "terror = pd.read_csv('file.csv', encoding='ISO-8859-1')\n",
    "cleanedforuse = terror.filter(['imonth', 'iday', 'region','property','propextent','attacktype1','weaptype1','nperps','success','multiple','specificity'])\n",
    "final = cleanedforuse[~np.isnan(cleanedforuse).any(axis=1)]"
   ]
  },
  {
   "cell_type": "code",
   "execution_count": 7,
   "metadata": {
    "collapsed": false
   },
   "outputs": [
    {
     "data": {
      "text/html": [
       "<div>\n",
       "<table border=\"1\" class=\"dataframe\">\n",
       "  <thead>\n",
       "    <tr style=\"text-align: right;\">\n",
       "      <th></th>\n",
       "      <th>imonth</th>\n",
       "      <th>iday</th>\n",
       "      <th>region</th>\n",
       "      <th>property</th>\n",
       "      <th>propextent</th>\n",
       "      <th>attacktype1</th>\n",
       "      <th>weaptype1</th>\n",
       "      <th>nperps</th>\n",
       "      <th>success</th>\n",
       "      <th>multiple</th>\n",
       "      <th>specificity</th>\n",
       "    </tr>\n",
       "  </thead>\n",
       "  <tbody>\n",
       "    <tr>\n",
       "      <th>5</th>\n",
       "      <td>1</td>\n",
       "      <td>1</td>\n",
       "      <td>1</td>\n",
       "      <td>1</td>\n",
       "      <td>3.0</td>\n",
       "      <td>2</td>\n",
       "      <td>5</td>\n",
       "      <td>-99.0</td>\n",
       "      <td>1</td>\n",
       "      <td>0</td>\n",
       "      <td>1</td>\n",
       "    </tr>\n",
       "    <tr>\n",
       "      <th>7</th>\n",
       "      <td>1</td>\n",
       "      <td>2</td>\n",
       "      <td>1</td>\n",
       "      <td>1</td>\n",
       "      <td>3.0</td>\n",
       "      <td>3</td>\n",
       "      <td>6</td>\n",
       "      <td>-99.0</td>\n",
       "      <td>1</td>\n",
       "      <td>0</td>\n",
       "      <td>1</td>\n",
       "    </tr>\n",
       "    <tr>\n",
       "      <th>8</th>\n",
       "      <td>1</td>\n",
       "      <td>2</td>\n",
       "      <td>1</td>\n",
       "      <td>1</td>\n",
       "      <td>3.0</td>\n",
       "      <td>7</td>\n",
       "      <td>8</td>\n",
       "      <td>1.0</td>\n",
       "      <td>1</td>\n",
       "      <td>0</td>\n",
       "      <td>1</td>\n",
       "    </tr>\n",
       "    <tr>\n",
       "      <th>9</th>\n",
       "      <td>1</td>\n",
       "      <td>3</td>\n",
       "      <td>1</td>\n",
       "      <td>1</td>\n",
       "      <td>3.0</td>\n",
       "      <td>7</td>\n",
       "      <td>8</td>\n",
       "      <td>1.0</td>\n",
       "      <td>1</td>\n",
       "      <td>0</td>\n",
       "      <td>1</td>\n",
       "    </tr>\n",
       "    <tr>\n",
       "      <th>11</th>\n",
       "      <td>1</td>\n",
       "      <td>6</td>\n",
       "      <td>1</td>\n",
       "      <td>1</td>\n",
       "      <td>3.0</td>\n",
       "      <td>7</td>\n",
       "      <td>8</td>\n",
       "      <td>-99.0</td>\n",
       "      <td>1</td>\n",
       "      <td>0</td>\n",
       "      <td>1</td>\n",
       "    </tr>\n",
       "  </tbody>\n",
       "</table>\n",
       "</div>"
      ],
      "text/plain": [
       "    imonth  iday  region  property  propextent  attacktype1  weaptype1  \\\n",
       "5        1     1       1         1         3.0            2          5   \n",
       "7        1     2       1         1         3.0            3          6   \n",
       "8        1     2       1         1         3.0            7          8   \n",
       "9        1     3       1         1         3.0            7          8   \n",
       "11       1     6       1         1         3.0            7          8   \n",
       "\n",
       "    nperps  success  multiple  specificity  \n",
       "5    -99.0        1         0            1  \n",
       "7    -99.0        1         0            1  \n",
       "8      1.0        1         0            1  \n",
       "9      1.0        1         0            1  \n",
       "11   -99.0        1         0            1  "
      ]
     },
     "execution_count": 7,
     "metadata": {},
     "output_type": "execute_result"
    }
   ],
   "source": [
    "final.head()"
   ]
  },
  {
   "cell_type": "code",
   "execution_count": 8,
   "metadata": {
    "collapsed": true
   },
   "outputs": [],
   "source": [
    "import sqlite3\n",
    "conn = sqlite3.connect('Terrorisks.db')"
   ]
  },
  {
   "cell_type": "code",
   "execution_count": 9,
   "metadata": {
    "collapsed": false
   },
   "outputs": [
    {
     "name": "stderr",
     "output_type": "stream",
     "text": [
      "/Users/chloe/anaconda/lib/python3.6/site-packages/pandas/io/sql.py:525: FutureWarning: the 'flavor' parameter is deprecated and will be removed in a future version, as 'sqlite' is the only supported option when SQLAlchemy is not installed.\n",
      "  _validate_flavor_parameter(flavor)\n"
     ]
    }
   ],
   "source": [
    "final.to_sql('final',con=conn, flavor='sqlite', if_exists='replace')"
   ]
  },
  {
   "cell_type": "code",
   "execution_count": 10,
   "metadata": {
    "collapsed": true
   },
   "outputs": [],
   "source": [
    "df = pd.read_sql_query('SELECT * FROM final', conn)"
   ]
  },
  {
   "cell_type": "code",
   "execution_count": 11,
   "metadata": {
    "collapsed": false,
    "scrolled": true
   },
   "outputs": [
    {
     "data": {
      "text/html": [
       "<div>\n",
       "<table border=\"1\" class=\"dataframe\">\n",
       "  <thead>\n",
       "    <tr style=\"text-align: right;\">\n",
       "      <th></th>\n",
       "      <th>index</th>\n",
       "      <th>imonth</th>\n",
       "      <th>iday</th>\n",
       "      <th>region</th>\n",
       "      <th>property</th>\n",
       "      <th>propextent</th>\n",
       "      <th>attacktype1</th>\n",
       "      <th>weaptype1</th>\n",
       "      <th>nperps</th>\n",
       "      <th>success</th>\n",
       "      <th>multiple</th>\n",
       "      <th>specificity</th>\n",
       "    </tr>\n",
       "  </thead>\n",
       "  <tbody>\n",
       "    <tr>\n",
       "      <th>0</th>\n",
       "      <td>5</td>\n",
       "      <td>1</td>\n",
       "      <td>1</td>\n",
       "      <td>1</td>\n",
       "      <td>1</td>\n",
       "      <td>3.0</td>\n",
       "      <td>2</td>\n",
       "      <td>5</td>\n",
       "      <td>-99.0</td>\n",
       "      <td>1</td>\n",
       "      <td>0</td>\n",
       "      <td>1</td>\n",
       "    </tr>\n",
       "    <tr>\n",
       "      <th>1</th>\n",
       "      <td>7</td>\n",
       "      <td>1</td>\n",
       "      <td>2</td>\n",
       "      <td>1</td>\n",
       "      <td>1</td>\n",
       "      <td>3.0</td>\n",
       "      <td>3</td>\n",
       "      <td>6</td>\n",
       "      <td>-99.0</td>\n",
       "      <td>1</td>\n",
       "      <td>0</td>\n",
       "      <td>1</td>\n",
       "    </tr>\n",
       "    <tr>\n",
       "      <th>2</th>\n",
       "      <td>8</td>\n",
       "      <td>1</td>\n",
       "      <td>2</td>\n",
       "      <td>1</td>\n",
       "      <td>1</td>\n",
       "      <td>3.0</td>\n",
       "      <td>7</td>\n",
       "      <td>8</td>\n",
       "      <td>1.0</td>\n",
       "      <td>1</td>\n",
       "      <td>0</td>\n",
       "      <td>1</td>\n",
       "    </tr>\n",
       "    <tr>\n",
       "      <th>3</th>\n",
       "      <td>9</td>\n",
       "      <td>1</td>\n",
       "      <td>3</td>\n",
       "      <td>1</td>\n",
       "      <td>1</td>\n",
       "      <td>3.0</td>\n",
       "      <td>7</td>\n",
       "      <td>8</td>\n",
       "      <td>1.0</td>\n",
       "      <td>1</td>\n",
       "      <td>0</td>\n",
       "      <td>1</td>\n",
       "    </tr>\n",
       "    <tr>\n",
       "      <th>4</th>\n",
       "      <td>11</td>\n",
       "      <td>1</td>\n",
       "      <td>6</td>\n",
       "      <td>1</td>\n",
       "      <td>1</td>\n",
       "      <td>3.0</td>\n",
       "      <td>7</td>\n",
       "      <td>8</td>\n",
       "      <td>-99.0</td>\n",
       "      <td>1</td>\n",
       "      <td>0</td>\n",
       "      <td>1</td>\n",
       "    </tr>\n",
       "    <tr>\n",
       "      <th>5</th>\n",
       "      <td>13</td>\n",
       "      <td>1</td>\n",
       "      <td>9</td>\n",
       "      <td>1</td>\n",
       "      <td>1</td>\n",
       "      <td>3.0</td>\n",
       "      <td>7</td>\n",
       "      <td>8</td>\n",
       "      <td>-99.0</td>\n",
       "      <td>1</td>\n",
       "      <td>0</td>\n",
       "      <td>1</td>\n",
       "    </tr>\n",
       "    <tr>\n",
       "      <th>6</th>\n",
       "      <td>14</td>\n",
       "      <td>1</td>\n",
       "      <td>9</td>\n",
       "      <td>1</td>\n",
       "      <td>1</td>\n",
       "      <td>2.0</td>\n",
       "      <td>7</td>\n",
       "      <td>8</td>\n",
       "      <td>-99.0</td>\n",
       "      <td>1</td>\n",
       "      <td>0</td>\n",
       "      <td>1</td>\n",
       "    </tr>\n",
       "    <tr>\n",
       "      <th>7</th>\n",
       "      <td>17</td>\n",
       "      <td>1</td>\n",
       "      <td>12</td>\n",
       "      <td>1</td>\n",
       "      <td>1</td>\n",
       "      <td>3.0</td>\n",
       "      <td>3</td>\n",
       "      <td>6</td>\n",
       "      <td>-99.0</td>\n",
       "      <td>1</td>\n",
       "      <td>0</td>\n",
       "      <td>1</td>\n",
       "    </tr>\n",
       "    <tr>\n",
       "      <th>8</th>\n",
       "      <td>18</td>\n",
       "      <td>1</td>\n",
       "      <td>12</td>\n",
       "      <td>1</td>\n",
       "      <td>-9</td>\n",
       "      <td>4.0</td>\n",
       "      <td>3</td>\n",
       "      <td>6</td>\n",
       "      <td>-99.0</td>\n",
       "      <td>1</td>\n",
       "      <td>0</td>\n",
       "      <td>1</td>\n",
       "    </tr>\n",
       "    <tr>\n",
       "      <th>9</th>\n",
       "      <td>19</td>\n",
       "      <td>1</td>\n",
       "      <td>13</td>\n",
       "      <td>1</td>\n",
       "      <td>1</td>\n",
       "      <td>3.0</td>\n",
       "      <td>7</td>\n",
       "      <td>8</td>\n",
       "      <td>-99.0</td>\n",
       "      <td>1</td>\n",
       "      <td>0</td>\n",
       "      <td>1</td>\n",
       "    </tr>\n",
       "  </tbody>\n",
       "</table>\n",
       "</div>"
      ],
      "text/plain": [
       "   index  imonth  iday  region  property  propextent  attacktype1  weaptype1  \\\n",
       "0      5       1     1       1         1         3.0            2          5   \n",
       "1      7       1     2       1         1         3.0            3          6   \n",
       "2      8       1     2       1         1         3.0            7          8   \n",
       "3      9       1     3       1         1         3.0            7          8   \n",
       "4     11       1     6       1         1         3.0            7          8   \n",
       "5     13       1     9       1         1         3.0            7          8   \n",
       "6     14       1     9       1         1         2.0            7          8   \n",
       "7     17       1    12       1         1         3.0            3          6   \n",
       "8     18       1    12       1        -9         4.0            3          6   \n",
       "9     19       1    13       1         1         3.0            7          8   \n",
       "\n",
       "   nperps  success  multiple  specificity  \n",
       "0   -99.0        1         0            1  \n",
       "1   -99.0        1         0            1  \n",
       "2     1.0        1         0            1  \n",
       "3     1.0        1         0            1  \n",
       "4   -99.0        1         0            1  \n",
       "5   -99.0        1         0            1  \n",
       "6   -99.0        1         0            1  \n",
       "7   -99.0        1         0            1  \n",
       "8   -99.0        1         0            1  \n",
       "9   -99.0        1         0            1  "
      ]
     },
     "execution_count": 11,
     "metadata": {},
     "output_type": "execute_result"
    }
   ],
   "source": [
    "df.head(10)"
   ]
  },
  {
   "cell_type": "markdown",
   "metadata": {},
   "source": [
    "# LOGISTIC REGRESSION"
   ]
  },
  {
   "cell_type": "code",
   "execution_count": 12,
   "metadata": {
    "collapsed": false
   },
   "outputs": [
    {
     "name": "stderr",
     "output_type": "stream",
     "text": [
      "/Users/chloe/anaconda/lib/python3.6/site-packages/sklearn/cross_validation.py:44: DeprecationWarning: This module was deprecated in version 0.18 in favor of the model_selection module into which all the refactored classes and functions are moved. Also note that the interface of the new CV iterators are different from that of this module. This module will be removed in 0.20.\n",
      "  \"This module will be removed in 0.20.\", DeprecationWarning)\n"
     ]
    }
   ],
   "source": [
    "import numpy as np\n",
    "import pandas as pd\n",
    "import statsmodels.api as sm\n",
    "import matplotlib.pyplot as plt\n",
    "from patsy import dmatrices\n",
    "from sklearn.linear_model import LogisticRegression\n",
    "from sklearn.cross_validation import train_test_split\n",
    "from sklearn import metrics\n",
    "from sklearn.cross_validation import cross_val_score\n",
    "from sklearn.metrics import roc_curve, auc"
   ]
  },
  {
   "cell_type": "code",
   "execution_count": 14,
   "metadata": {
    "collapsed": false
   },
   "outputs": [
    {
     "name": "stdout",
     "output_type": "stream",
     "text": [
      "       Intercept  C(imonth)[T.2]  C(imonth)[T.3]  C(imonth)[T.4]  \\\n",
      "0            1.0             0.0             0.0             0.0   \n",
      "1            1.0             0.0             0.0             0.0   \n",
      "2            1.0             0.0             0.0             0.0   \n",
      "3            1.0             0.0             0.0             0.0   \n",
      "4            1.0             0.0             0.0             0.0   \n",
      "5            1.0             0.0             0.0             0.0   \n",
      "6            1.0             0.0             0.0             0.0   \n",
      "7            1.0             0.0             0.0             0.0   \n",
      "8            1.0             0.0             0.0             0.0   \n",
      "9            1.0             0.0             0.0             0.0   \n",
      "10           1.0             0.0             0.0             0.0   \n",
      "11           1.0             0.0             0.0             0.0   \n",
      "12           1.0             0.0             0.0             0.0   \n",
      "13           1.0             0.0             0.0             0.0   \n",
      "14           1.0             0.0             0.0             0.0   \n",
      "15           1.0             0.0             0.0             0.0   \n",
      "16           1.0             0.0             0.0             0.0   \n",
      "17           1.0             0.0             0.0             0.0   \n",
      "18           1.0             0.0             0.0             0.0   \n",
      "19           1.0             0.0             0.0             0.0   \n",
      "20           1.0             0.0             0.0             0.0   \n",
      "21           1.0             0.0             0.0             0.0   \n",
      "22           1.0             0.0             0.0             0.0   \n",
      "23           1.0             0.0             0.0             0.0   \n",
      "24           1.0             1.0             0.0             0.0   \n",
      "25           1.0             1.0             0.0             0.0   \n",
      "26           1.0             1.0             0.0             0.0   \n",
      "27           1.0             1.0             0.0             0.0   \n",
      "28           1.0             1.0             0.0             0.0   \n",
      "29           1.0             1.0             0.0             0.0   \n",
      "...          ...             ...             ...             ...   \n",
      "35460        1.0             0.0             0.0             0.0   \n",
      "35461        1.0             0.0             0.0             0.0   \n",
      "35462        1.0             0.0             0.0             0.0   \n",
      "35463        1.0             0.0             0.0             0.0   \n",
      "35464        1.0             0.0             0.0             0.0   \n",
      "35465        1.0             0.0             0.0             0.0   \n",
      "35466        1.0             0.0             0.0             0.0   \n",
      "35467        1.0             0.0             0.0             0.0   \n",
      "35468        1.0             0.0             0.0             0.0   \n",
      "35469        1.0             0.0             0.0             0.0   \n",
      "35470        1.0             0.0             0.0             0.0   \n",
      "35471        1.0             0.0             0.0             0.0   \n",
      "35472        1.0             0.0             0.0             0.0   \n",
      "35473        1.0             0.0             0.0             0.0   \n",
      "35474        1.0             0.0             0.0             0.0   \n",
      "35475        1.0             0.0             0.0             0.0   \n",
      "35476        1.0             0.0             0.0             0.0   \n",
      "35477        1.0             0.0             0.0             0.0   \n",
      "35478        1.0             0.0             0.0             0.0   \n",
      "35479        1.0             0.0             0.0             0.0   \n",
      "35480        1.0             0.0             0.0             0.0   \n",
      "35481        1.0             0.0             0.0             0.0   \n",
      "35482        1.0             0.0             0.0             0.0   \n",
      "35483        1.0             0.0             0.0             0.0   \n",
      "35484        1.0             0.0             0.0             0.0   \n",
      "35485        1.0             0.0             0.0             0.0   \n",
      "35486        1.0             0.0             0.0             0.0   \n",
      "35487        1.0             0.0             0.0             0.0   \n",
      "35488        1.0             0.0             0.0             0.0   \n",
      "35489        1.0             0.0             0.0             0.0   \n",
      "\n",
      "       C(imonth)[T.5]  C(imonth)[T.6]  C(imonth)[T.7]  C(imonth)[T.8]  \\\n",
      "0                 0.0             0.0             0.0             0.0   \n",
      "1                 0.0             0.0             0.0             0.0   \n",
      "2                 0.0             0.0             0.0             0.0   \n",
      "3                 0.0             0.0             0.0             0.0   \n",
      "4                 0.0             0.0             0.0             0.0   \n",
      "5                 0.0             0.0             0.0             0.0   \n",
      "6                 0.0             0.0             0.0             0.0   \n",
      "7                 0.0             0.0             0.0             0.0   \n",
      "8                 0.0             0.0             0.0             0.0   \n",
      "9                 0.0             0.0             0.0             0.0   \n",
      "10                0.0             0.0             0.0             0.0   \n",
      "11                0.0             0.0             0.0             0.0   \n",
      "12                0.0             0.0             0.0             0.0   \n",
      "13                0.0             0.0             0.0             0.0   \n",
      "14                0.0             0.0             0.0             0.0   \n",
      "15                0.0             0.0             0.0             0.0   \n",
      "16                0.0             0.0             0.0             0.0   \n",
      "17                0.0             0.0             0.0             0.0   \n",
      "18                0.0             0.0             0.0             0.0   \n",
      "19                0.0             0.0             0.0             0.0   \n",
      "20                0.0             0.0             0.0             0.0   \n",
      "21                0.0             0.0             0.0             0.0   \n",
      "22                0.0             0.0             0.0             0.0   \n",
      "23                0.0             0.0             0.0             0.0   \n",
      "24                0.0             0.0             0.0             0.0   \n",
      "25                0.0             0.0             0.0             0.0   \n",
      "26                0.0             0.0             0.0             0.0   \n",
      "27                0.0             0.0             0.0             0.0   \n",
      "28                0.0             0.0             0.0             0.0   \n",
      "29                0.0             0.0             0.0             0.0   \n",
      "...               ...             ...             ...             ...   \n",
      "35460             0.0             0.0             0.0             0.0   \n",
      "35461             0.0             0.0             0.0             0.0   \n",
      "35462             0.0             0.0             0.0             0.0   \n",
      "35463             0.0             0.0             0.0             0.0   \n",
      "35464             0.0             0.0             0.0             0.0   \n",
      "35465             0.0             0.0             0.0             0.0   \n",
      "35466             0.0             0.0             0.0             0.0   \n",
      "35467             0.0             0.0             0.0             0.0   \n",
      "35468             0.0             0.0             0.0             0.0   \n",
      "35469             0.0             0.0             0.0             0.0   \n",
      "35470             0.0             0.0             0.0             0.0   \n",
      "35471             0.0             0.0             0.0             0.0   \n",
      "35472             0.0             0.0             0.0             0.0   \n",
      "35473             0.0             0.0             0.0             0.0   \n",
      "35474             0.0             0.0             0.0             0.0   \n",
      "35475             0.0             0.0             0.0             0.0   \n",
      "35476             0.0             0.0             0.0             0.0   \n",
      "35477             0.0             0.0             0.0             0.0   \n",
      "35478             0.0             0.0             0.0             0.0   \n",
      "35479             0.0             0.0             0.0             0.0   \n",
      "35480             0.0             0.0             0.0             0.0   \n",
      "35481             0.0             0.0             0.0             0.0   \n",
      "35482             0.0             0.0             0.0             0.0   \n",
      "35483             0.0             0.0             0.0             0.0   \n",
      "35484             0.0             0.0             0.0             0.0   \n",
      "35485             0.0             0.0             0.0             0.0   \n",
      "35486             0.0             0.0             0.0             0.0   \n",
      "35487             0.0             0.0             0.0             0.0   \n",
      "35488             0.0             0.0             0.0             0.0   \n",
      "35489             0.0             0.0             0.0             0.0   \n",
      "\n",
      "       C(imonth)[T.9]  C(imonth)[T.10]     ...       C(nperps)[T.800.0]  \\\n",
      "0                 0.0              0.0     ...                      0.0   \n",
      "1                 0.0              0.0     ...                      0.0   \n",
      "2                 0.0              0.0     ...                      0.0   \n",
      "3                 0.0              0.0     ...                      0.0   \n",
      "4                 0.0              0.0     ...                      0.0   \n",
      "5                 0.0              0.0     ...                      0.0   \n",
      "6                 0.0              0.0     ...                      0.0   \n",
      "7                 0.0              0.0     ...                      0.0   \n",
      "8                 0.0              0.0     ...                      0.0   \n",
      "9                 0.0              0.0     ...                      0.0   \n",
      "10                0.0              0.0     ...                      0.0   \n",
      "11                0.0              0.0     ...                      0.0   \n",
      "12                0.0              0.0     ...                      0.0   \n",
      "13                0.0              0.0     ...                      0.0   \n",
      "14                0.0              0.0     ...                      0.0   \n",
      "15                0.0              0.0     ...                      0.0   \n",
      "16                0.0              0.0     ...                      0.0   \n",
      "17                0.0              0.0     ...                      0.0   \n",
      "18                0.0              0.0     ...                      0.0   \n",
      "19                0.0              0.0     ...                      0.0   \n",
      "20                0.0              0.0     ...                      0.0   \n",
      "21                0.0              0.0     ...                      0.0   \n",
      "22                0.0              0.0     ...                      0.0   \n",
      "23                0.0              0.0     ...                      0.0   \n",
      "24                0.0              0.0     ...                      0.0   \n",
      "25                0.0              0.0     ...                      0.0   \n",
      "26                0.0              0.0     ...                      0.0   \n",
      "27                0.0              0.0     ...                      0.0   \n",
      "28                0.0              0.0     ...                      0.0   \n",
      "29                0.0              0.0     ...                      0.0   \n",
      "...               ...              ...     ...                      ...   \n",
      "35460             0.0              0.0     ...                      0.0   \n",
      "35461             0.0              0.0     ...                      0.0   \n",
      "35462             0.0              0.0     ...                      0.0   \n",
      "35463             0.0              0.0     ...                      0.0   \n",
      "35464             0.0              0.0     ...                      0.0   \n",
      "35465             0.0              0.0     ...                      0.0   \n",
      "35466             0.0              0.0     ...                      0.0   \n",
      "35467             0.0              0.0     ...                      0.0   \n",
      "35468             0.0              0.0     ...                      0.0   \n",
      "35469             0.0              0.0     ...                      0.0   \n",
      "35470             0.0              0.0     ...                      0.0   \n",
      "35471             0.0              0.0     ...                      0.0   \n",
      "35472             0.0              0.0     ...                      0.0   \n",
      "35473             0.0              0.0     ...                      0.0   \n",
      "35474             0.0              0.0     ...                      0.0   \n",
      "35475             0.0              0.0     ...                      0.0   \n",
      "35476             0.0              0.0     ...                      0.0   \n",
      "35477             0.0              0.0     ...                      0.0   \n",
      "35478             0.0              0.0     ...                      0.0   \n",
      "35479             0.0              0.0     ...                      0.0   \n",
      "35480             0.0              0.0     ...                      0.0   \n",
      "35481             0.0              0.0     ...                      0.0   \n",
      "35482             0.0              0.0     ...                      0.0   \n",
      "35483             0.0              0.0     ...                      0.0   \n",
      "35484             0.0              0.0     ...                      0.0   \n",
      "35485             0.0              0.0     ...                      0.0   \n",
      "35486             0.0              0.0     ...                      0.0   \n",
      "35487             0.0              0.0     ...                      0.0   \n",
      "35488             0.0              0.0     ...                      0.0   \n",
      "35489             0.0              0.0     ...                      0.0   \n",
      "\n",
      "       C(nperps)[T.900.0]  C(nperps)[T.1000.0]  C(nperps)[T.1200.0]  \\\n",
      "0                     0.0                  0.0                  0.0   \n",
      "1                     0.0                  0.0                  0.0   \n",
      "2                     0.0                  0.0                  0.0   \n",
      "3                     0.0                  0.0                  0.0   \n",
      "4                     0.0                  0.0                  0.0   \n",
      "5                     0.0                  0.0                  0.0   \n",
      "6                     0.0                  0.0                  0.0   \n",
      "7                     0.0                  0.0                  0.0   \n",
      "8                     0.0                  0.0                  0.0   \n",
      "9                     0.0                  0.0                  0.0   \n",
      "10                    0.0                  0.0                  0.0   \n",
      "11                    0.0                  0.0                  0.0   \n",
      "12                    0.0                  0.0                  0.0   \n",
      "13                    0.0                  0.0                  0.0   \n",
      "14                    0.0                  0.0                  0.0   \n",
      "15                    0.0                  0.0                  0.0   \n",
      "16                    0.0                  0.0                  0.0   \n",
      "17                    0.0                  0.0                  0.0   \n",
      "18                    0.0                  0.0                  0.0   \n",
      "19                    0.0                  0.0                  0.0   \n",
      "20                    0.0                  0.0                  0.0   \n",
      "21                    0.0                  0.0                  0.0   \n",
      "22                    0.0                  0.0                  0.0   \n",
      "23                    0.0                  0.0                  0.0   \n",
      "24                    0.0                  0.0                  0.0   \n",
      "25                    0.0                  0.0                  0.0   \n",
      "26                    0.0                  0.0                  0.0   \n",
      "27                    0.0                  0.0                  0.0   \n",
      "28                    0.0                  0.0                  0.0   \n",
      "29                    0.0                  0.0                  0.0   \n",
      "...                   ...                  ...                  ...   \n",
      "35460                 0.0                  0.0                  0.0   \n",
      "35461                 0.0                  0.0                  0.0   \n",
      "35462                 0.0                  0.0                  0.0   \n",
      "35463                 0.0                  0.0                  0.0   \n",
      "35464                 0.0                  0.0                  0.0   \n",
      "35465                 0.0                  0.0                  0.0   \n",
      "35466                 0.0                  0.0                  0.0   \n",
      "35467                 0.0                  0.0                  0.0   \n",
      "35468                 0.0                  0.0                  0.0   \n",
      "35469                 0.0                  0.0                  0.0   \n",
      "35470                 0.0                  0.0                  0.0   \n",
      "35471                 0.0                  0.0                  0.0   \n",
      "35472                 0.0                  0.0                  0.0   \n",
      "35473                 0.0                  0.0                  0.0   \n",
      "35474                 0.0                  0.0                  0.0   \n",
      "35475                 0.0                  0.0                  0.0   \n",
      "35476                 0.0                  0.0                  0.0   \n",
      "35477                 0.0                  0.0                  0.0   \n",
      "35478                 0.0                  0.0                  0.0   \n",
      "35479                 0.0                  0.0                  0.0   \n",
      "35480                 0.0                  0.0                  0.0   \n",
      "35481                 0.0                  0.0                  0.0   \n",
      "35482                 0.0                  0.0                  0.0   \n",
      "35483                 0.0                  0.0                  0.0   \n",
      "35484                 0.0                  0.0                  0.0   \n",
      "35485                 0.0                  0.0                  0.0   \n",
      "35486                 0.0                  0.0                  0.0   \n",
      "35487                 0.0                  0.0                  0.0   \n",
      "35488                 0.0                  0.0                  0.0   \n",
      "35489                 0.0                  0.0                  0.0   \n",
      "\n",
      "       C(nperps)[T.1500.0]  C(nperps)[T.2000.0]  C(nperps)[T.3000.0]  \\\n",
      "0                      0.0                  0.0                  0.0   \n",
      "1                      0.0                  0.0                  0.0   \n",
      "2                      0.0                  0.0                  0.0   \n",
      "3                      0.0                  0.0                  0.0   \n",
      "4                      0.0                  0.0                  0.0   \n",
      "5                      0.0                  0.0                  0.0   \n",
      "6                      0.0                  0.0                  0.0   \n",
      "7                      0.0                  0.0                  0.0   \n",
      "8                      0.0                  0.0                  0.0   \n",
      "9                      0.0                  0.0                  0.0   \n",
      "10                     0.0                  0.0                  0.0   \n",
      "11                     0.0                  0.0                  0.0   \n",
      "12                     0.0                  0.0                  0.0   \n",
      "13                     0.0                  0.0                  0.0   \n",
      "14                     0.0                  0.0                  0.0   \n",
      "15                     0.0                  0.0                  0.0   \n",
      "16                     0.0                  0.0                  0.0   \n",
      "17                     0.0                  0.0                  0.0   \n",
      "18                     0.0                  0.0                  0.0   \n",
      "19                     0.0                  0.0                  0.0   \n",
      "20                     0.0                  0.0                  0.0   \n",
      "21                     0.0                  0.0                  0.0   \n",
      "22                     0.0                  0.0                  0.0   \n",
      "23                     0.0                  0.0                  0.0   \n",
      "24                     0.0                  0.0                  0.0   \n",
      "25                     0.0                  0.0                  0.0   \n",
      "26                     0.0                  0.0                  0.0   \n",
      "27                     0.0                  0.0                  0.0   \n",
      "28                     0.0                  0.0                  0.0   \n",
      "29                     0.0                  0.0                  0.0   \n",
      "...                    ...                  ...                  ...   \n",
      "35460                  0.0                  0.0                  0.0   \n",
      "35461                  0.0                  0.0                  0.0   \n",
      "35462                  0.0                  0.0                  0.0   \n",
      "35463                  0.0                  0.0                  0.0   \n",
      "35464                  0.0                  0.0                  0.0   \n",
      "35465                  0.0                  0.0                  0.0   \n",
      "35466                  0.0                  0.0                  0.0   \n",
      "35467                  0.0                  0.0                  0.0   \n",
      "35468                  0.0                  0.0                  0.0   \n",
      "35469                  0.0                  0.0                  0.0   \n",
      "35470                  0.0                  0.0                  0.0   \n",
      "35471                  0.0                  0.0                  0.0   \n",
      "35472                  0.0                  0.0                  0.0   \n",
      "35473                  0.0                  0.0                  0.0   \n",
      "35474                  0.0                  0.0                  0.0   \n",
      "35475                  0.0                  0.0                  0.0   \n",
      "35476                  0.0                  0.0                  0.0   \n",
      "35477                  0.0                  0.0                  0.0   \n",
      "35478                  0.0                  0.0                  0.0   \n",
      "35479                  0.0                  0.0                  0.0   \n",
      "35480                  0.0                  0.0                  0.0   \n",
      "35481                  0.0                  0.0                  0.0   \n",
      "35482                  0.0                  0.0                  0.0   \n",
      "35483                  0.0                  0.0                  0.0   \n",
      "35484                  0.0                  0.0                  0.0   \n",
      "35485                  0.0                  0.0                  0.0   \n",
      "35486                  0.0                  0.0                  0.0   \n",
      "35487                  0.0                  0.0                  0.0   \n",
      "35488                  0.0                  0.0                  0.0   \n",
      "35489                  0.0                  0.0                  0.0   \n",
      "\n",
      "       C(nperps)[T.5000.0]  region  specificity  \n",
      "0                      0.0     1.0          1.0  \n",
      "1                      0.0     1.0          1.0  \n",
      "2                      0.0     1.0          1.0  \n",
      "3                      0.0     1.0          1.0  \n",
      "4                      0.0     1.0          1.0  \n",
      "5                      0.0     1.0          1.0  \n",
      "6                      0.0     1.0          1.0  \n",
      "7                      0.0     1.0          1.0  \n",
      "8                      0.0     1.0          1.0  \n",
      "9                      0.0     1.0          1.0  \n",
      "10                     0.0     1.0          1.0  \n",
      "11                     0.0     3.0          1.0  \n",
      "12                     0.0     1.0          1.0  \n",
      "13                     0.0     1.0          1.0  \n",
      "14                     0.0     1.0          1.0  \n",
      "15                     0.0     1.0          1.0  \n",
      "16                     0.0     1.0          1.0  \n",
      "17                     0.0     1.0          1.0  \n",
      "18                     0.0     1.0          1.0  \n",
      "19                     0.0     1.0          1.0  \n",
      "20                     0.0     1.0          1.0  \n",
      "21                     0.0     1.0          1.0  \n",
      "22                     0.0     1.0          1.0  \n",
      "23                     0.0     1.0          1.0  \n",
      "24                     0.0     1.0          1.0  \n",
      "25                     0.0     1.0          1.0  \n",
      "26                     0.0     1.0          1.0  \n",
      "27                     0.0     1.0          1.0  \n",
      "28                     0.0     1.0          1.0  \n",
      "29                     0.0     1.0          1.0  \n",
      "...                    ...     ...          ...  \n",
      "35460                  0.0     5.0          3.0  \n",
      "35461                  0.0     5.0          4.0  \n",
      "35462                  0.0     6.0          1.0  \n",
      "35463                  0.0    10.0          1.0  \n",
      "35464                  0.0    10.0          1.0  \n",
      "35465                  0.0     6.0          1.0  \n",
      "35466                  0.0     6.0          1.0  \n",
      "35467                  0.0     6.0          3.0  \n",
      "35468                  0.0     5.0          1.0  \n",
      "35469                  0.0     6.0          1.0  \n",
      "35470                  0.0     6.0          3.0  \n",
      "35471                  0.0     6.0          3.0  \n",
      "35472                  0.0     6.0          1.0  \n",
      "35473                  0.0     6.0          3.0  \n",
      "35474                  0.0    10.0          1.0  \n",
      "35475                  0.0    10.0          1.0  \n",
      "35476                  0.0    10.0          1.0  \n",
      "35477                  0.0    11.0          4.0  \n",
      "35478                  0.0     6.0          3.0  \n",
      "35479                  0.0     6.0          3.0  \n",
      "35480                  0.0     6.0          3.0  \n",
      "35481                  0.0    10.0          1.0  \n",
      "35482                  0.0    10.0          1.0  \n",
      "35483                  0.0    10.0          4.0  \n",
      "35484                  0.0    10.0          2.0  \n",
      "35485                  0.0    10.0          1.0  \n",
      "35486                  0.0    10.0          4.0  \n",
      "35487                  0.0     9.0          1.0  \n",
      "35488                  0.0     8.0          1.0  \n",
      "35489                  0.0    11.0          1.0  \n",
      "\n",
      "[35490 rows x 150 columns]\n"
     ]
    }
   ],
   "source": [
    "y, X = dmatrices('success ~ C(imonth) + C(iday) + region + C(property) + C(propextent) + C(attacktype1) + C(weaptype1)+ C(nperps) + specificity', df, return_type=\"dataframe\")\n",
    "print(X)"
   ]
  },
  {
   "cell_type": "code",
   "execution_count": 24,
   "metadata": {
    "collapsed": false
   },
   "outputs": [
    {
     "name": "stdout",
     "output_type": "stream",
     "text": [
      "Benchmark:\n",
      "0.96111580727\n",
      "Score:\n",
      "0.971344040575\n",
      "[ 1.  1.  1. ...,  1.  1.  1.]\n",
      "[[ 0.01257728  0.98742272]\n",
      " [ 0.01640847  0.98359153]\n",
      " [ 0.01318311  0.98681689]\n",
      " ..., \n",
      " [ 0.0046974   0.9953026 ]\n",
      " [ 0.00399588  0.99600412]\n",
      " [ 0.00653373  0.99346627]]\n",
      "0.972386587771\n",
      "0.909224276403\n",
      "[[  222   187]\n",
      " [  107 10131]]\n",
      "             precision    recall  f1-score   support\n",
      "\n",
      "        0.0       0.67      0.54      0.60       409\n",
      "        1.0       0.98      0.99      0.99     10238\n",
      "\n",
      "avg / total       0.97      0.97      0.97     10647\n",
      "\n",
      "[ 0.96365173  0.95886165  0.97351367  0.97210482  0.97295013  0.97633136\n",
      "  0.97097774  0.96844181  0.97266836  0.96816005]\n",
      "0.969766131305\n",
      "AUC = 0.7662\n"
     ]
    },
    {
     "data": {
      "image/png": "[encoded data removed]",
      "text/plain": [
       "<matplotlib.figure.Figure at 0x11da810b8>"
      ]
     },
     "metadata": {},
     "output_type": "display_data"
    }
   ],
   "source": [
    "y = np.ravel(y)\n",
    "# instantiate a logistic regression model, and fit with X and y\n",
    "model = LogisticRegression()\n",
    "model = model.fit(X, y)\n",
    "# what percentage had multiple?\n",
    "print(\"Benchmark:\")\n",
    "b = y.mean()\n",
    "print(b)\n",
    "# check the accuracy on the training set\n",
    "a = model.score(X, y)\n",
    "print(\"Score:\")\n",
    "print(a)\n",
    "\n",
    "model.coef_\n",
    "# evaluate the model by splitting into train and test sets\n",
    "X_train, X_test, y_train, y_test = train_test_split(X, y, test_size=0.3, random_state=0)\n",
    "model2 = LogisticRegression()\n",
    "model2.fit(X_train, y_train)\n",
    "# predict class labels for the test set\n",
    "predicted = model2.predict(X_test)\n",
    "print (predicted)\n",
    "# generate class probabilities\n",
    "probs = model2.predict_proba(X_test)\n",
    "print (probs)\n",
    "# generate evaluation metrics\n",
    "print (metrics.accuracy_score(y_test, predicted))\n",
    "print (metrics.roc_auc_score(y_test, probs[:, 1]))\n",
    "print (metrics.confusion_matrix(y_test, predicted))\n",
    "print (metrics.classification_report(y_test, predicted))\n",
    "scores = cross_val_score(LogisticRegression(), X, y, scoring='accuracy', cv=10)\n",
    "print (scores)\n",
    "print (scores.mean())\n",
    "false_positive_rate, true_positive_rate, thresholds = roc_curve(y_test, predicted)\n",
    "roc_auc = auc(false_positive_rate, true_positive_rate)\n",
    "print('AUC = %0.4f'% roc_auc)\n",
    "plt.title('Receiver Operating Characteristic')\n",
    "plt.plot(false_positive_rate, true_positive_rate, 'b',label='AUC = %0.2f'% roc_auc)\n",
    "plt.legend(loc='lower right')\n",
    "plt.plot([0,1],[0,1],'r--')\n",
    "plt.xlim([-0.1,1.2])\n",
    "plt.ylim([-0.1,1.2])\n",
    "plt.ylabel('True Positive Rate')\n",
    "plt.xlabel('False Positive Rate')\n",
    "plt.show()"
   ]
  },
  {
   "cell_type": "code",
   "execution_count": null,
   "metadata": {
    "collapsed": false
   },
   "outputs": [],
   "source": []
  },
  {
   "cell_type": "markdown",
   "metadata": {},
   "source": [
    "## Logistic Regression - Success "
   ]
  },
  {
   "cell_type": "markdown",
   "metadata": {},
   "source": [
    "## Logistic Regression - MULTIPLE"
   ]
  },
  {
   "cell_type": "code",
   "execution_count": 25,
   "metadata": {
    "collapsed": true
   },
   "outputs": [],
   "source": [
    "y, X = dmatrices('multiple ~ C(imonth) + C(iday) + region + C(property) + C(propextent) + C(attacktype1) + C(weaptype1)+ C(nperps) + specificity', df, return_type=\"dataframe\")"
   ]
  },
  {
   "cell_type": "code",
   "execution_count": 26,
   "metadata": {
    "collapsed": false
   },
   "outputs": [
    {
     "name": "stdout",
     "output_type": "stream",
     "text": [
      "Benchmark:\n",
      "0.169709777402\n",
      "Score:\n",
      "0.831670893209\n",
      "[ 0.  0.  0. ...,  0.  0.  0.]\n",
      "[[ 0.85340288  0.14659712]\n",
      " [ 0.81828894  0.18171106]\n",
      " [ 0.78779969  0.21220031]\n",
      " ..., \n",
      " [ 0.91212401  0.08787599]\n",
      " [ 0.81110209  0.18889791]\n",
      " [ 0.84036816  0.15963184]]\n",
      "0.833192448577\n",
      "0.657682260768\n",
      "[[8859   10]\n",
      " [1766   12]]\n",
      "             precision    recall  f1-score   support\n",
      "\n",
      "        0.0       0.83      1.00      0.91      8869\n",
      "        1.0       0.55      0.01      0.01      1778\n",
      "\n",
      "avg / total       0.79      0.83      0.76     10647\n",
      "\n",
      "[ 0.82619718  0.82901408  0.83042254  0.82952944  0.82981121  0.83009298\n",
      "  0.83009298  0.8277903   0.82807215  0.82919955]\n",
      "0.82902224368\n",
      "AUC = 0.5028\n"
     ]
    },
    {
     "data": {
      "image/png": "[encoded data removed]",
      "text/plain": [
       "<matplotlib.figure.Figure at 0x122f0ef98>"
      ]
     },
     "metadata": {},
     "output_type": "display_data"
    }
   ],
   "source": [
    "y = np.ravel(y)\n",
    "# instantiate a logistic regression model, and fit with X and y\n",
    "model = LogisticRegression()\n",
    "model = model.fit(X, y)\n",
    "# what percentage had multiple?\n",
    "print(\"Benchmark:\")\n",
    "b = y.mean()\n",
    "print(b)\n",
    "# check the accuracy on the training set\n",
    "a = model.score(X, y)\n",
    "print(\"Score:\")\n",
    "print(a)\n",
    "\n",
    "model.coef_\n",
    "# evaluate the model by splitting into train and test sets\n",
    "X_train, X_test, y_train, y_test = train_test_split(X, y, test_size=0.3, random_state=0)\n",
    "model2 = LogisticRegression()\n",
    "model2.fit(X_train, y_train)\n",
    "# predict class labels for the test set\n",
    "predicted = model2.predict(X_test)\n",
    "print (predicted)\n",
    "# generate class probabilities\n",
    "probs = model2.predict_proba(X_test)\n",
    "print (probs)\n",
    "# generate evaluation metrics\n",
    "print (metrics.accuracy_score(y_test, predicted))\n",
    "print (metrics.roc_auc_score(y_test, probs[:, 1]))\n",
    "print (metrics.confusion_matrix(y_test, predicted))\n",
    "print (metrics.classification_report(y_test, predicted))\n",
    "scores = cross_val_score(LogisticRegression(), X, y, scoring='accuracy', cv=10)\n",
    "print (scores)\n",
    "print (scores.mean())\n",
    "false_positive_rate, true_positive_rate, thresholds = roc_curve(y_test, predicted)\n",
    "roc_auc = auc(false_positive_rate, true_positive_rate)\n",
    "print('AUC = %0.4f'% roc_auc)\n",
    "plt.title('Receiver Operating Characteristic')\n",
    "plt.plot(false_positive_rate, true_positive_rate, 'b',label='AUC = %0.2f'% roc_auc)\n",
    "plt.legend(loc='lower right')\n",
    "plt.plot([0,1],[0,1],'r--')\n",
    "plt.xlim([-0.1,1.2])\n",
    "plt.ylim([-0.1,1.2])\n",
    "plt.ylabel('True Positive Rate')\n",
    "plt.xlabel('False Positive Rate')\n",
    "plt.show()"
   ]
  },
  {
   "cell_type": "markdown",
   "metadata": {},
   "source": [
    "# RANDOM FOREST"
   ]
  },
  {
   "cell_type": "markdown",
   "metadata": {},
   "source": [
    "## Random Forest- MULTIPLE"
   ]
  },
  {
   "cell_type": "code",
   "execution_count": 31,
   "metadata": {
    "collapsed": true
   },
   "outputs": [],
   "source": [
    "import numpy as np\n",
    "from sklearn import preprocessing\n",
    "from sklearn.metrics import roc_curve, auc\n",
    "from sklearn.ensemble import RandomForestClassifier\n",
    "from sklearn.cross_validation import train_test_split\n",
    "from sklearn.metrics import accuracy_score\n",
    "import matplotlib.pyplot as plt\n",
    "import pandas as pd"
   ]
  },
  {
   "cell_type": "code",
   "execution_count": 56,
   "metadata": {
    "collapsed": true
   },
   "outputs": [],
   "source": [
    "y = df['multiple']\n"
   ]
  },
  {
   "cell_type": "code",
   "execution_count": 57,
   "metadata": {
    "collapsed": false
   },
   "outputs": [],
   "source": [
    "X = df.filter(['imonth', 'iday', 'region','property',\n",
    "       'propextent','attacktype1','weaptype1','nperps','specificity'])\n",
    "Xone= pd.get_dummies(X, prefix='month', columns=['imonth'])\n",
    "Xtwo= pd.get_dummies(Xone, prefix='day', columns=['iday'])\n",
    "Xthree= pd.get_dummies(Xtwo, prefix='region', columns=['region'])\n",
    "Xfour= pd.get_dummies(Xthree, prefix='attacktype', columns=['attacktype1'])\n",
    "Xfive= pd.get_dummies(Xfour, prefix='weapontype', columns=['weaptype1'])\n",
    "Xsix= pd.get_dummies(Xfive, prefix='specificity', columns=['specificity'])\n",
    "\n",
    "\n"
   ]
  },
  {
   "cell_type": "code",
   "execution_count": null,
   "metadata": {
    "collapsed": true
   },
   "outputs": [],
   "source": []
  },
  {
   "cell_type": "code",
   "execution_count": null,
   "metadata": {
    "collapsed": true
   },
   "outputs": [],
   "source": []
  },
  {
   "cell_type": "code",
   "execution_count": 58,
   "metadata": {
    "collapsed": true
   },
   "outputs": [],
   "source": [
    "features_train, features_test,target_train, target_test = train_test_split(Xsix,y, test_size = 0.2,random_state=0)"
   ]
  },
  {
   "cell_type": "code",
   "execution_count": 59,
   "metadata": {
    "collapsed": false
   },
   "outputs": [
    {
     "name": "stdout",
     "output_type": "stream",
     "text": [
      "Benchmark: \n",
      "0.830290222597915\n"
     ]
    }
   ],
   "source": [
    "print(\"Benchmark: \" )\n",
    "print(1-(y.mean()))"
   ]
  },
  {
   "cell_type": "code",
   "execution_count": 60,
   "metadata": {
    "collapsed": false
   },
   "outputs": [
    {
     "data": {
      "text/plain": [
       "0.93357283741899122"
      ]
     },
     "execution_count": 60,
     "metadata": {},
     "output_type": "execute_result"
    }
   ],
   "source": [
    "#Random Forest\n",
    "forest=RandomForestClassifier(n_estimators=10)\n",
    "forest = forest.fit( features_train, target_train)\n",
    "output = forest.predict(features_test).astype(int)\n",
    "forest.score(features_train, target_train )"
   ]
  },
  {
   "cell_type": "code",
   "execution_count": 49,
   "metadata": {
    "collapsed": false
   },
   "outputs": [
    {
     "name": "stdout",
     "output_type": "stream",
     "text": [
      "AUC = 0.7165\n"
     ]
    },
    {
     "data": {
      "image/png": "[encoded data removed]",
      "text/plain": [
       "<matplotlib.figure.Figure at 0x126ed6710>"
      ]
     },
     "metadata": {},
     "output_type": "display_data"
    }
   ],
   "source": [
    "false_positive_rate, true_positive_rate, thresholds = roc_curve(target_test, output)\n",
    "roc_auc = auc(false_positive_rate, true_positive_rate)\n",
    "print('AUC = %0.4f'% roc_auc)\n",
    "plt.title('Receiver Operating Characteristic')\n",
    "plt.plot(false_positive_rate, true_positive_rate, 'b',label='AUC = %0.2f'% roc_auc)\n",
    "plt.legend(loc='lower right')\n",
    "plt.plot([0,1],[0,1],'r--')\n",
    "plt.xlim([-0.1,1.2])\n",
    "plt.ylim([-0.1,1.2])\n",
    "plt.ylabel('True Positive Rate')\n",
    "plt.xlabel('False Positive Rate')\n",
    "plt.show()"
   ]
  },
  {
   "cell_type": "code",
   "execution_count": 50,
   "metadata": {
    "collapsed": false
   },
   "outputs": [
    {
     "name": "stdout",
     "output_type": "stream",
     "text": [
      "[ 0.82056338  0.79070423  0.80957746  0.79120879  0.78472809  0.77571147\n",
      "  0.79064525  0.75704622  0.77874859  0.78889515]\n",
      "0.788782864043\n"
     ]
    }
   ],
   "source": [
    "scores = cross_val_score(forest, X, y, scoring='accuracy', cv=10)\n",
    "print (scores)\n",
    "print (scores.mean())"
   ]
  },
  {
   "cell_type": "code",
   "execution_count": null,
   "metadata": {
    "collapsed": false
   },
   "outputs": [],
   "source": [
    "\n"
   ]
  },
  {
   "cell_type": "code",
   "execution_count": null,
   "metadata": {
    "collapsed": false
   },
   "outputs": [],
   "source": []
  },
  {
   "cell_type": "markdown",
   "metadata": {},
   "source": [
    "## Random Forest- SUCCESS"
   ]
  },
  {
   "cell_type": "code",
   "execution_count": 43,
   "metadata": {
    "collapsed": false
   },
   "outputs": [
    {
     "name": "stdout",
     "output_type": "stream",
     "text": [
      "Benchmark: \n",
      "0.9611158072696534\n",
      "Our Accuracy:\n",
      "0.992180896027\n",
      "AUC = 0.7688\n"
     ]
    },
    {
     "data": {
      "image/png": "[encoded data removed]",
      "text/plain": [
       "<matplotlib.figure.Figure at 0x126ed44a8>"
      ]
     },
     "metadata": {},
     "output_type": "display_data"
    }
   ],
   "source": [
    "y = df['success']\n",
    "X = df.filter(['imonth', 'iday', 'region','property',\n",
    "       'propextent','attacktype1','weaptype1','nperps','specificity'])\n",
    "features_train, features_test,target_train, target_test = train_test_split(X,y, test_size = 0.2,random_state=0)\n",
    "#Random Forest\n",
    "forest=RandomForestClassifier(n_estimators=10)\n",
    "forest = forest.fit( features_train, target_train)\n",
    "output = forest.predict(features_test).astype(int)\n",
    "score = forest.score(features_train, target_train)\n",
    "print(\"Benchmark: \" )\n",
    "print((y.mean()))\n",
    "print('Our Accuracy:')\n",
    "print(score)\n",
    "false_positive_rate, true_positive_rate, thresholds = roc_curve(target_test, output)\n",
    "roc_auc = auc(false_positive_rate, true_positive_rate)\n",
    "print('AUC = %0.4f'% roc_auc)\n",
    "plt.title('Receiver Operating Characteristic')\n",
    "plt.plot(false_positive_rate, true_positive_rate, 'b',label='AUC = %0.2f'% roc_auc)\n",
    "plt.legend(loc='lower right')\n",
    "plt.plot([0,1],[0,1],'r--')\n",
    "plt.xlim([-0.1,1.2])\n",
    "plt.ylim([-0.1,1.2])\n",
    "plt.ylabel('True Positive Rate')\n",
    "plt.xlabel('False Positive Rate')\n",
    "plt.show()"
   ]
  },
  {
   "cell_type": "markdown",
   "metadata": {},
   "source": [
    "## Preventing Overfitting of the tree for multiple model\n",
    "####The results are different now due to the different sample used from here as compared to when we built the model shown during presentation; as such, results may vary slightly"
   ]
  },
  {
   "cell_type": "code",
   "execution_count": 53,
   "metadata": {
    "collapsed": true
   },
   "outputs": [],
   "source": [
    "from sklearn.tree import _tree\n",
    "\n",
    "def leaf_depths(tree, node_id = 0):\n",
    "    \n",
    "     '''\n",
    "     tree.children_left and tree.children_right store ids\n",
    "     of left and right chidren of a given node\n",
    "     '''\n",
    "     left_child = tree.children_left[node_id]\n",
    "     right_child = tree.children_right[node_id]\n",
    "\n",
    "     '''\n",
    "     If a given node is terminal, \n",
    "     both left and right children are set to _tree.TREE_LEAF\n",
    "     '''\n",
    "     if left_child == _tree.TREE_LEAF:\n",
    "         \n",
    "         '''\n",
    "         Set depth of terminal nodes to 0\n",
    "         '''\n",
    "         depths = np.array([0])\n",
    "\n",
    "     else:\n",
    "         \n",
    "         '''\n",
    "         Get depths of left and right children and\n",
    "         increment them by 1\n",
    "         '''\n",
    "         left_depths = leaf_depths(tree, left_child) + 1\n",
    "         right_depths = leaf_depths(tree, right_child) + 1\n",
    " \n",
    "         depths = np.append(left_depths, right_depths)\n",
    " \n",
    "     return depths\n",
    "\n",
    "def leaf_samples(tree, node_id = 0):\n",
    "    \n",
    "     left_child = tree.children_left[node_id]\n",
    "     right_child = tree.children_right[node_id]\n",
    "\n",
    "     if left_child == _tree.TREE_LEAF:\n",
    "        \n",
    "         samples = np.array([tree.n_node_samples[node_id]])\n",
    "\n",
    "     else:\n",
    "        \n",
    "         left_samples = leaf_samples(tree, left_child)\n",
    "         right_samples = leaf_samples(tree, right_child)\n",
    "\n",
    "         samples = np.append(left_samples, right_samples)\n",
    "\n",
    "     return samples\n",
    "\n",
    "def draw_tree(ensemble, tree_id=0):\n",
    "\n",
    "     plt.figure(figsize=(8,8))\n",
    "     plt.subplot(211)\n",
    "\n",
    "     tree = ensemble.estimators_[tree_id].tree_\n",
    "\n",
    "     depths = leaf_depths(tree)\n",
    "     plt.hist(depths, histtype='step', color='#9933ff', \n",
    "              bins=range(min(depths), max(depths)+1))\n",
    "\n",
    "     plt.xlabel(\"Depth of leaf nodes (tree %s)\" % tree_id)\n",
    "    \n",
    "     plt.subplot(212)\n",
    "    \n",
    "     samples = leaf_samples(tree)\n",
    "     plt.hist(samples, histtype='step', color='#3399ff', \n",
    "              bins=range(min(samples), max(samples)+1))\n",
    "    \n",
    "     plt.xlabel(\"Number of samples in leaf nodes (tree %s)\" % tree_id)\n",
    "   \n",
    "     plt.show()\n",
    "    \n",
    "def draw_ensemble(ensemble):\n",
    "\n",
    "     plt.figure(figsize=(8,8))\n",
    "     plt.subplot(211)\n",
    "\n",
    "     depths_all = np.array([], dtype=int)\n",
    "\n",
    "     for x in ensemble.estimators_:\n",
    "         tree = x.tree_\n",
    "         depths = leaf_depths(tree)\n",
    "         depths_all = np.append(depths_all, depths)\n",
    "         plt.hist(depths, histtype='step', color='#ddaaff', \n",
    "                  bins=range(min(depths), max(depths)+1))\n",
    "\n",
    "     plt.hist(depths_all, histtype='step', color='#9933ff', \n",
    "              bins=range(min(depths_all), max(depths_all)+1), \n",
    "              weights=np.ones(len(depths_all))/len(ensemble.estimators_), \n",
    "              linewidth=2)\n",
    "     plt.xlabel(\"Depth of leaf nodes\")\n",
    "    \n",
    "     samples_all = np.array([], dtype=int)\n",
    "    \n",
    "     plt.subplot(212)\n",
    "    \n",
    "     for x in ensemble.estimators_:\n",
    "         tree = x.tree_\n",
    "         samples = leaf_samples(tree)\n",
    "         samples_all = np.append(samples_all, samples)\n",
    "         plt.hist(samples, histtype='step', color='#aaddff', \n",
    "                  bins=range(min(samples), max(samples)+1))\n",
    "    \n",
    "     plt.hist(samples_all, histtype='step', color='#3399ff', \n",
    "              bins=range(min(samples_all), max(samples_all)+1), \n",
    "              weights=np.ones(len(samples_all))/len(ensemble.estimators_), \n",
    "              linewidth=2)\n",
    "     plt.xlabel(\"Number of samples in leaf nodes\")\n",
    "    \n",
    "     plt.show()\n",
    "        \n"
   ]
  },
  {
   "cell_type": "code",
   "execution_count": 61,
   "metadata": {
    "collapsed": false
   },
   "outputs": [
    {
     "data": {
      "image/png": "[encoded data removed]",
      "text/plain": [
       "<matplotlib.figure.Figure at 0x1257cf6a0>"
      ]
     },
     "metadata": {},
     "output_type": "display_data"
    }
   ],
   "source": [
    "draw_tree(forest)"
   ]
  },
  {
   "cell_type": "code",
   "execution_count": 62,
   "metadata": {
    "collapsed": false
   },
   "outputs": [
    {
     "data": {
      "image/png": "[encoded data removed]",
      "text/plain": [
       "<matplotlib.figure.Figure at 0x1174b2da0>"
      ]
     },
     "metadata": {},
     "output_type": "display_data"
    }
   ],
   "source": [
    "draw_ensemble(forest)"
   ]
  },
  {
   "cell_type": "code",
   "execution_count": 64,
   "metadata": {
    "collapsed": false
   },
   "outputs": [
    {
     "name": "stdout",
     "output_type": "stream",
     "text": [
      "Benchmark: \n",
      "0.830290222597915\n",
      "Our Accuracy:\n",
      "0.893209354748\n",
      "AUC = 0.6205\n"
     ]
    },
    {
     "data": {
      "image/png": "[encoded data removed]",
      "text/plain": [
       "<matplotlib.figure.Figure at 0x117446f98>"
      ]
     },
     "metadata": {},
     "output_type": "display_data"
    }
   ],
   "source": [
    "y = df['multiple']\n",
    "X = df.filter(['imonth', 'iday', 'region','property',\n",
    "       'propextent','attacktype1','weaptype1','nperps','specificity'])\n",
    "features_train, features_test,target_train, target_test = train_test_split(X,y, test_size = 0.2,random_state=0)\n",
    "#Random Forest\n",
    "forest=RandomForestClassifier(n_estimators=10, max_depth = 16)\n",
    "forest = forest.fit( features_train, target_train)\n",
    "output = forest.predict(features_test).astype(int)\n",
    "score = forest.score(features_train, target_train)\n",
    "print(\"Benchmark: \" )\n",
    "print(1-(y.mean()))\n",
    "print('Our Accuracy:')\n",
    "print(score)\n",
    "false_positive_rate, true_positive_rate, thresholds = roc_curve(target_test, output)\n",
    "roc_auc = auc(false_positive_rate, true_positive_rate)\n",
    "print('AUC = %0.4f'% roc_auc)\n",
    "plt.title('Receiver Operating Characteristic')\n",
    "plt.plot(false_positive_rate, true_positive_rate, 'b',label='AUC = %0.2f'% roc_auc)\n",
    "plt.legend(loc='lower right')\n",
    "plt.plot([0,1],[0,1],'r--')\n",
    "plt.xlim([-0.1,1.2])\n",
    "plt.ylim([-0.1,1.2])\n",
    "plt.ylabel('True Positive Rate')\n",
    "plt.xlabel('False Positive Rate')\n",
    "plt.show()"
   ]
  },
  {
   "cell_type": "markdown",
   "metadata": {},
   "source": [
    "# ASSOCIATION RULES"
   ]
  },
  {
   "cell_type": "code",
   "execution_count": null,
   "metadata": {
    "collapsed": true
   },
   "outputs": [],
   "source": [
    "import pandas as pd"
   ]
  },
  {
   "cell_type": "code",
   "execution_count": null,
   "metadata": {
    "collapsed": true
   },
   "outputs": [],
   "source": [
    "df = pd.read_csv('/Users/Laishumin/Datasets/globalterrorism.csv', encoding='ISO-8859-1',low_memory=False)\n",
    "\n",
    "clean=df[['iyear','imonth','iday','region','specificity'\n",
    "        ,'vicinity','crit1','crit2','crit3','doubtterr','multiple','success','suicide'\n",
    "        ,'attacktype1','ingroup','guncertain1','weaptype1']]"
   ]
  },
  {
   "cell_type": "code",
   "execution_count": null,
   "metadata": {
    "collapsed": true
   },
   "outputs": [],
   "source": [
    "df_dummies1= pd.get_dummies(clean, prefix='month', columns=['imonth'])"
   ]
  },
  {
   "cell_type": "code",
   "execution_count": null,
   "metadata": {
    "collapsed": true
   },
   "outputs": [],
   "source": [
    "df_dummies2= pd.get_dummies(df_dummies1, prefix='region', columns=['region'])"
   ]
  },
  {
   "cell_type": "code",
   "execution_count": null,
   "metadata": {
    "collapsed": true
   },
   "outputs": [],
   "source": [
    "df_dummies3= pd.get_dummies(df_dummies2, prefix='specificity', columns=['specificity'])"
   ]
  },
  {
   "cell_type": "code",
   "execution_count": null,
   "metadata": {
    "collapsed": true
   },
   "outputs": [],
   "source": [
    "df_dummies4= pd.get_dummies(df_dummies3, prefix='attack_type', columns=['attacktype1'])"
   ]
  },
  {
   "cell_type": "code",
   "execution_count": null,
   "metadata": {
    "collapsed": true
   },
   "outputs": [],
   "source": [
    "df_dummies5= pd.get_dummies(df_dummies4, prefix='main_weapon_type', columns=['weaptype1'])"
   ]
  },
  {
   "cell_type": "code",
   "execution_count": null,
   "metadata": {
    "collapsed": true
   },
   "outputs": [],
   "source": [
    "data = df_dummies5\n",
    "del data['iyear']\n",
    "del data['iday']\n",
    "del data['guncertain1']\n",
    "del data['ingroup']\n",
    "del data['doubtterr']"
   ]
  },
  {
   "cell_type": "code",
   "execution_count": null,
   "metadata": {
    "collapsed": true
   },
   "outputs": [],
   "source": [
    "names = list(data.columns.values)\n",
    "names"
   ]
  },
  {
   "cell_type": "code",
   "execution_count": null,
   "metadata": {
    "collapsed": true
   },
   "outputs": [],
   "source": [
    "lift_multiple = []\n",
    "for i in names:\n",
    "    num_Feature = 0\n",
    "    Count = 0\n",
    "    for sample in data1[i]:\n",
    "        thing = data1[i].astype(str).str.contains('1')\n",
    "        if (thing.iloc[Count] == True):  \n",
    "            num_Feature += 1\n",
    "            Count +=1\n",
    "        else:\n",
    "            Count +=1\n",
    "    print(\"{0} \".format(num_Feature) + \" from \" + i)\n",
    "\n",
    "\n",
    "    rule_valid = 0\n",
    "    rule_invalid = 0\n",
    "    for j in range(len(data1)):\n",
    "        if data1.iloc[j][i] == 1:\n",
    "            if data1.iloc[j].multiple == 1:\n",
    "                rule_valid += 1\n",
    "            else:\n",
    "                rule_invalid += 1\n",
    "    print(\"{0} cases of the rule being valid were discovered\".format(rule_valid))\n",
    "    print(\"{0} cases of the rule being invalid were discovered\".format(rule_invalid))\n",
    "\n",
    "    # Now we have all the information needed to compute Support and Confidence\n",
    "    support = rule_valid  # The Support is the number of times the rule is discovered.\n",
    "    if (num_Feature == 0):\n",
    "        lift_multiple.append(0)\n",
    "\n",
    "    else:\n",
    "        confidence = (rule_valid) / (num_Feature) \n",
    "        lift = confidence / 0.13\n",
    "        lift_multiple.append(lift)\n",
    "    print(i + '-->Multiple')\n",
    "    print(\"The support is {0}, the confidence is {1:.3f}, and the lift is {2:.3f}.\".format(support, confidence, lift))\n",
    "    print(\"As a percentage, the confidence is {0:.1f}%.\".format(100 * confidence))\n",
    "    print(\"-----------------------------------------------------------------\")"
   ]
  },
  {
   "cell_type": "code",
   "execution_count": null,
   "metadata": {
    "collapsed": true
   },
   "outputs": [],
   "source": [
    "lift_multiple_pd = pd.DataFrame(\n",
    "    {'Lift':lift_multiple\n",
    "    },index=names2)\n",
    "\n",
    "lift_multiple_pd"
   ]
  },
  {
   "cell_type": "code",
   "execution_count": null,
   "metadata": {
    "collapsed": true
   },
   "outputs": [],
   "source": [
    "graph = lift_multiple_pd.sort(['Lift'], ascending=[0])\n",
    "\n",
    "graph"
   ]
  },
  {
   "cell_type": "code",
   "execution_count": null,
   "metadata": {
    "collapsed": true
   },
   "outputs": [],
   "source": [
    "%matplotlib inline\n",
    "graph.plot(kind='bar')"
   ]
  },
  {
   "cell_type": "markdown",
   "metadata": {},
   "source": [
    "# Violin Plot Visualisastions"
   ]
  },
  {
   "cell_type": "code",
   "execution_count": 8,
   "metadata": {
    "collapsed": false
   },
   "outputs": [
    {
     "data": {
      "text/plain": [
       "<matplotlib.axes._subplots.AxesSubplot at 0x1170ef048>"
      ]
     },
     "execution_count": 8,
     "metadata": {},
     "output_type": "execute_result"
    }
   ],
   "source": [
    "import numpy as np\n",
    "import seaborn as sns\n",
    "import pandas as pd\n",
    "sns.violinplot(x=\"weaptype1\", y=\"success\", data=df, palette=\"Set3\")"
   ]
  },
  {
   "cell_type": "code",
   "execution_count": 9,
   "metadata": {
    "collapsed": false
   },
   "outputs": [
    {
     "data": {
      "text/plain": [
       "<matplotlib.axes._subplots.AxesSubplot at 0x1170ef048>"
      ]
     },
     "execution_count": 9,
     "metadata": {},
     "output_type": "execute_result"
    }
   ],
   "source": [
    "sns.violinplot(x=\"propextent\", y=\"multiple\", data=df, palette=\"Set3\")"
   ]
  },
  {
   "cell_type": "code",
   "execution_count": 10,
   "metadata": {
    "collapsed": false
   },
   "outputs": [
    {
     "data": {
      "text/plain": [
       "<matplotlib.axes._subplots.AxesSubplot at 0x1170ef048>"
      ]
     },
     "execution_count": 10,
     "metadata": {},
     "output_type": "execute_result"
    }
   ],
   "source": [
    "sns.violinplot(x=\"imonth\", y=\"multiple\", data=df, palette=\"Set3\")"
   ]
  },
  {
   "cell_type": "code",
   "execution_count": 11,
   "metadata": {
    "collapsed": false
   },
   "outputs": [
    {
     "data": {
      "text/plain": [
       "<matplotlib.axes._subplots.AxesSubplot at 0x1170ef048>"
      ]
     },
     "execution_count": 11,
     "metadata": {},
     "output_type": "execute_result"
    }
   ],
   "source": [
    "sns.violinplot(x=\"property\", y=\"multiple\", data=df, palette=\"Set3\")"
   ]
  },
  {
   "cell_type": "code",
   "execution_count": null,
   "metadata": {
    "collapsed": true
   },
   "outputs": [],
   "source": []
  },
  {
   "cell_type": "code",
   "execution_count": null,
   "metadata": {
    "collapsed": true
   },
   "outputs": [],
   "source": []
  }
 ],
 "metadata": {
  "anaconda-cloud": {},
  "kernelspec": {
   "display_name": "Python 3",
   "language": "python",
   "name": "python3"
  },
  "language_info": {
   "codemirror_mode": {
    "name": "ipython",
    "version": 3
   },
   "file_extension": ".py",
   "mimetype": "text/x-python",
   "name": "python",
   "nbconvert_exporter": "python",
   "pygments_lexer": "ipython3",
   "version": "3.6.0"
  }
 },
 "nbformat": 4,
 "nbformat_minor": 1
}
